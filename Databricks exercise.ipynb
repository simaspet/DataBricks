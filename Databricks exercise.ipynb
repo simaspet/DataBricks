{
 "cells": [
  {
   "cell_type": "code",
   "execution_count": null,
   "metadata": {
    "application/vnd.databricks.v1+cell": {
     "cellMetadata": {
      "byteLimit": 2048000,
      "rowLimit": 10000
     },
     "inputWidgets": {},
     "nuid": "9b7410b1-7433-4d7c-bff2-574026bae531",
     "showTitle": false,
     "title": ""
    }
   },
   "outputs": [
    {
     "name": "stdout",
     "output_type": "stream",
     "text": [
      "Out[158]: [FileInfo(path='dbfs:/databricks-datasets/nyctaxi/tripdata/green/green_tripdata_2013-08.csv.gz', name='green_tripdata_2013-08.csv.gz', size=303960, modificationTime=1590475131000),\n",
      " FileInfo(path='dbfs:/databricks-datasets/nyctaxi/tripdata/green/green_tripdata_2013-09.csv.gz', name='green_tripdata_2013-09.csv.gz', size=2022534, modificationTime=1590475133000),\n",
      " FileInfo(path='dbfs:/databricks-datasets/nyctaxi/tripdata/green/green_tripdata_2013-10.csv.gz', name='green_tripdata_2013-10.csv.gz', size=6852107, modificationTime=1590475136000),\n",
      " FileInfo(path='dbfs:/databricks-datasets/nyctaxi/tripdata/green/green_tripdata_2013-11.csv.gz', name='green_tripdata_2013-11.csv.gz', size=15387328, modificationTime=1590475142000),\n",
      " FileInfo(path='dbfs:/databricks-datasets/nyctaxi/tripdata/green/green_tripdata_2013-12.csv.gz', name='green_tripdata_2013-12.csv.gz', size=24075318, modificationTime=1590475145000),\n",
      " FileInfo(path='dbfs:/databricks-datasets/nyctaxi/tripdata/green/green_tripdata_2014-01.csv.gz', name='green_tripdata_2014-01.csv.gz', size=31992429, modificationTime=1590475145000),\n",
      " FileInfo(path='dbfs:/databricks-datasets/nyctaxi/tripdata/green/green_tripdata_2014-02.csv.gz', name='green_tripdata_2014-02.csv.gz', size=40030401, modificationTime=1590475159000),\n",
      " FileInfo(path='dbfs:/databricks-datasets/nyctaxi/tripdata/green/green_tripdata_2014-03.csv.gz', name='green_tripdata_2014-03.csv.gz', size=51704427, modificationTime=1590475160000),\n",
      " FileInfo(path='dbfs:/databricks-datasets/nyctaxi/tripdata/green/green_tripdata_2014-04.csv.gz', name='green_tripdata_2014-04.csv.gz', size=52342615, modificationTime=1590475166000),\n",
      " FileInfo(path='dbfs:/databricks-datasets/nyctaxi/tripdata/green/green_tripdata_2014-05.csv.gz', name='green_tripdata_2014-05.csv.gz', size=56940530, modificationTime=1590475172000),\n",
      " FileInfo(path='dbfs:/databricks-datasets/nyctaxi/tripdata/green/green_tripdata_2014-06.csv.gz', name='green_tripdata_2014-06.csv.gz', size=53605142, modificationTime=1590475181000),\n",
      " FileInfo(path='dbfs:/databricks-datasets/nyctaxi/tripdata/green/green_tripdata_2014-07.csv.gz', name='green_tripdata_2014-07.csv.gz', size=51019298, modificationTime=1590475199000),\n",
      " FileInfo(path='dbfs:/databricks-datasets/nyctaxi/tripdata/green/green_tripdata_2014-08.csv.gz', name='green_tripdata_2014-08.csv.gz', size=53854729, modificationTime=1590475213000),\n",
      " FileInfo(path='dbfs:/databricks-datasets/nyctaxi/tripdata/green/green_tripdata_2014-09.csv.gz', name='green_tripdata_2014-09.csv.gz', size=54555125, modificationTime=1590475220000),\n",
      " FileInfo(path='dbfs:/databricks-datasets/nyctaxi/tripdata/green/green_tripdata_2014-10.csv.gz', name='green_tripdata_2014-10.csv.gz', size=59645075, modificationTime=1590475227000),\n",
      " FileInfo(path='dbfs:/databricks-datasets/nyctaxi/tripdata/green/green_tripdata_2014-11.csv.gz', name='green_tripdata_2014-11.csv.gz', size=61804745, modificationTime=1590475235000),\n",
      " FileInfo(path='dbfs:/databricks-datasets/nyctaxi/tripdata/green/green_tripdata_2014-12.csv.gz', name='green_tripdata_2014-12.csv.gz', size=65614627, modificationTime=1590475260000),\n",
      " FileInfo(path='dbfs:/databricks-datasets/nyctaxi/tripdata/green/green_tripdata_2015-01.csv.gz', name='green_tripdata_2015-01.csv.gz', size=61917507, modificationTime=1590475288000),\n",
      " FileInfo(path='dbfs:/databricks-datasets/nyctaxi/tripdata/green/green_tripdata_2015-02.csv.gz', name='green_tripdata_2015-02.csv.gz', size=65159806, modificationTime=1590475291000),\n",
      " FileInfo(path='dbfs:/databricks-datasets/nyctaxi/tripdata/green/green_tripdata_2015-03.csv.gz', name='green_tripdata_2015-03.csv.gz', size=71178036, modificationTime=1590475306000),\n",
      " FileInfo(path='dbfs:/databricks-datasets/nyctaxi/tripdata/green/green_tripdata_2015-04.csv.gz', name='green_tripdata_2015-04.csv.gz', size=68048145, modificationTime=1590475316000),\n",
      " FileInfo(path='dbfs:/databricks-datasets/nyctaxi/tripdata/green/green_tripdata_2015-05.csv.gz', name='green_tripdata_2015-05.csv.gz', size=73333794, modificationTime=1590475346000),\n",
      " FileInfo(path='dbfs:/databricks-datasets/nyctaxi/tripdata/green/green_tripdata_2015-06.csv.gz', name='green_tripdata_2015-06.csv.gz', size=67212478, modificationTime=1590475364000),\n",
      " FileInfo(path='dbfs:/databricks-datasets/nyctaxi/tripdata/green/green_tripdata_2015-07.csv.gz', name='green_tripdata_2015-07.csv.gz', size=61796722, modificationTime=1590475370000),\n",
      " FileInfo(path='dbfs:/databricks-datasets/nyctaxi/tripdata/green/green_tripdata_2015-08.csv.gz', name='green_tripdata_2015-08.csv.gz', size=61630593, modificationTime=1590475394000),\n",
      " FileInfo(path='dbfs:/databricks-datasets/nyctaxi/tripdata/green/green_tripdata_2015-09.csv.gz', name='green_tripdata_2015-09.csv.gz', size=60378801, modificationTime=1590475399000),\n",
      " FileInfo(path='dbfs:/databricks-datasets/nyctaxi/tripdata/green/green_tripdata_2015-10.csv.gz', name='green_tripdata_2015-10.csv.gz', size=65363689, modificationTime=1590475429000),\n",
      " FileInfo(path='dbfs:/databricks-datasets/nyctaxi/tripdata/green/green_tripdata_2015-11.csv.gz', name='green_tripdata_2015-11.csv.gz', size=62136541, modificationTime=1590475443000),\n",
      " FileInfo(path='dbfs:/databricks-datasets/nyctaxi/tripdata/green/green_tripdata_2015-12.csv.gz', name='green_tripdata_2015-12.csv.gz', size=65335795, modificationTime=1590475444000),\n",
      " FileInfo(path='dbfs:/databricks-datasets/nyctaxi/tripdata/green/green_tripdata_2016-01.csv.gz', name='green_tripdata_2016-01.csv.gz', size=58269482, modificationTime=1590475471000),\n",
      " FileInfo(path='dbfs:/databricks-datasets/nyctaxi/tripdata/green/green_tripdata_2016-02.csv.gz', name='green_tripdata_2016-02.csv.gz', size=61434074, modificationTime=1590475477000),\n",
      " FileInfo(path='dbfs:/databricks-datasets/nyctaxi/tripdata/green/green_tripdata_2016-03.csv.gz', name='green_tripdata_2016-03.csv.gz', size=63832503, modificationTime=1590475504000),\n",
      " FileInfo(path='dbfs:/databricks-datasets/nyctaxi/tripdata/green/green_tripdata_2016-04.csv.gz', name='green_tripdata_2016-04.csv.gz', size=62358663, modificationTime=1590475517000),\n",
      " FileInfo(path='dbfs:/databricks-datasets/nyctaxi/tripdata/green/green_tripdata_2016-05.csv.gz', name='green_tripdata_2016-05.csv.gz', size=64343034, modificationTime=1590475517000),\n",
      " FileInfo(path='dbfs:/databricks-datasets/nyctaxi/tripdata/green/green_tripdata_2016-06.csv.gz', name='green_tripdata_2016-06.csv.gz', size=58757414, modificationTime=1590475536000),\n",
      " FileInfo(path='dbfs:/databricks-datasets/nyctaxi/tripdata/green/green_tripdata_2016-07.csv.gz', name='green_tripdata_2016-07.csv.gz', size=20977681, modificationTime=1590475551000),\n",
      " FileInfo(path='dbfs:/databricks-datasets/nyctaxi/tripdata/green/green_tripdata_2016-08.csv.gz', name='green_tripdata_2016-08.csv.gz', size=19960334, modificationTime=1590475591000),\n",
      " FileInfo(path='dbfs:/databricks-datasets/nyctaxi/tripdata/green/green_tripdata_2016-09.csv.gz', name='green_tripdata_2016-09.csv.gz', size=18585230, modificationTime=1590475610000),\n",
      " FileInfo(path='dbfs:/databricks-datasets/nyctaxi/tripdata/green/green_tripdata_2016-10.csv.gz', name='green_tripdata_2016-10.csv.gz', size=19622147, modificationTime=1590475611000),\n",
      " FileInfo(path='dbfs:/databricks-datasets/nyctaxi/tripdata/green/green_tripdata_2016-11.csv.gz', name='green_tripdata_2016-11.csv.gz', size=18201128, modificationTime=1590475611000),\n",
      " FileInfo(path='dbfs:/databricks-datasets/nyctaxi/tripdata/green/green_tripdata_2016-12.csv.gz', name='green_tripdata_2016-12.csv.gz', size=19286856, modificationTime=1590475631000),\n",
      " FileInfo(path='dbfs:/databricks-datasets/nyctaxi/tripdata/green/green_tripdata_2017-01.csv.gz', name='green_tripdata_2017-01.csv.gz', size=16713444, modificationTime=1590475632000),\n",
      " FileInfo(path='dbfs:/databricks-datasets/nyctaxi/tripdata/green/green_tripdata_2017-02.csv.gz', name='green_tripdata_2017-02.csv.gz', size=16078087, modificationTime=1590475638000),\n",
      " FileInfo(path='dbfs:/databricks-datasets/nyctaxi/tripdata/green/green_tripdata_2017-03.csv.gz', name='green_tripdata_2017-03.csv.gz', size=18067641, modificationTime=1590475641000),\n",
      " FileInfo(path='dbfs:/databricks-datasets/nyctaxi/tripdata/green/green_tripdata_2017-04.csv.gz', name='green_tripdata_2017-04.csv.gz', size=16891569, modificationTime=1590475641000),\n",
      " FileInfo(path='dbfs:/databricks-datasets/nyctaxi/tripdata/green/green_tripdata_2017-05.csv.gz', name='green_tripdata_2017-05.csv.gz', size=16751265, modificationTime=1590475652000),\n",
      " FileInfo(path='dbfs:/databricks-datasets/nyctaxi/tripdata/green/green_tripdata_2017-06.csv.gz', name='green_tripdata_2017-06.csv.gz', size=15465935, modificationTime=1590475658000),\n",
      " FileInfo(path='dbfs:/databricks-datasets/nyctaxi/tripdata/green/green_tripdata_2017-07.csv.gz', name='green_tripdata_2017-07.csv.gz', size=14821338, modificationTime=1590475662000),\n",
      " FileInfo(path='dbfs:/databricks-datasets/nyctaxi/tripdata/green/green_tripdata_2017-08.csv.gz', name='green_tripdata_2017-08.csv.gz', size=14044418, modificationTime=1590475666000),\n",
      " FileInfo(path='dbfs:/databricks-datasets/nyctaxi/tripdata/green/green_tripdata_2017-09.csv.gz', name='green_tripdata_2017-09.csv.gz', size=14332463, modificationTime=1590475666000),\n",
      " FileInfo(path='dbfs:/databricks-datasets/nyctaxi/tripdata/green/green_tripdata_2017-10.csv.gz', name='green_tripdata_2017-10.csv.gz', size=14984692, modificationTime=1590475667000),\n",
      " FileInfo(path='dbfs:/databricks-datasets/nyctaxi/tripdata/green/green_tripdata_2017-11.csv.gz', name='green_tripdata_2017-11.csv.gz', size=14110646, modificationTime=1590475671000),\n",
      " FileInfo(path='dbfs:/databricks-datasets/nyctaxi/tripdata/green/green_tripdata_2017-12.csv.gz', name='green_tripdata_2017-12.csv.gz', size=14568474, modificationTime=1590475684000),\n",
      " FileInfo(path='dbfs:/databricks-datasets/nyctaxi/tripdata/green/green_tripdata_2018-01.csv.gz', name='green_tripdata_2018-01.csv.gz', size=12778052, modificationTime=1590475691000),\n",
      " FileInfo(path='dbfs:/databricks-datasets/nyctaxi/tripdata/green/green_tripdata_2018-02.csv.gz', name='green_tripdata_2018-02.csv.gz', size=12422952, modificationTime=1590475691000),\n",
      " FileInfo(path='dbfs:/databricks-datasets/nyctaxi/tripdata/green/green_tripdata_2018-03.csv.gz', name='green_tripdata_2018-03.csv.gz', size=13600182, modificationTime=1590475691000),\n",
      " FileInfo(path='dbfs:/databricks-datasets/nyctaxi/tripdata/green/green_tripdata_2018-04.csv.gz', name='green_tripdata_2018-04.csv.gz', size=13079058, modificationTime=1590475693000),\n",
      " FileInfo(path='dbfs:/databricks-datasets/nyctaxi/tripdata/green/green_tripdata_2018-05.csv.gz', name='green_tripdata_2018-05.csv.gz', size=13112206, modificationTime=1590475698000),\n",
      " FileInfo(path='dbfs:/databricks-datasets/nyctaxi/tripdata/green/green_tripdata_2018-06.csv.gz', name='green_tripdata_2018-06.csv.gz', size=12182045, modificationTime=1590475714000),\n",
      " FileInfo(path='dbfs:/databricks-datasets/nyctaxi/tripdata/green/green_tripdata_2018-07.csv.gz', name='green_tripdata_2018-07.csv.gz', size=11266967, modificationTime=1590475714000),\n",
      " FileInfo(path='dbfs:/databricks-datasets/nyctaxi/tripdata/green/green_tripdata_2018-08.csv.gz', name='green_tripdata_2018-08.csv.gz', size=11045062, modificationTime=1590475714000),\n",
      " FileInfo(path='dbfs:/databricks-datasets/nyctaxi/tripdata/green/green_tripdata_2018-09.csv.gz', name='green_tripdata_2018-09.csv.gz', size=11140744, modificationTime=1590475717000),\n",
      " FileInfo(path='dbfs:/databricks-datasets/nyctaxi/tripdata/green/green_tripdata_2018-10.csv.gz', name='green_tripdata_2018-10.csv.gz', size=11903750, modificationTime=1590475721000),\n",
      " FileInfo(path='dbfs:/databricks-datasets/nyctaxi/tripdata/green/green_tripdata_2018-11.csv.gz', name='green_tripdata_2018-11.csv.gz', size=11008496, modificationTime=1590475724000),\n",
      " FileInfo(path='dbfs:/databricks-datasets/nyctaxi/tripdata/green/green_tripdata_2018-12.csv.gz', name='green_tripdata_2018-12.csv.gz', size=11503076, modificationTime=1590475724000),\n",
      " FileInfo(path='dbfs:/databricks-datasets/nyctaxi/tripdata/green/green_tripdata_2019-01.csv.gz', name='green_tripdata_2019-01.csv.gz', size=10625566, modificationTime=1590475724000),\n",
      " FileInfo(path='dbfs:/databricks-datasets/nyctaxi/tripdata/green/green_tripdata_2019-02.csv.gz', name='green_tripdata_2019-02.csv.gz', size=9934748, modificationTime=1590475731000),\n",
      " FileInfo(path='dbfs:/databricks-datasets/nyctaxi/tripdata/green/green_tripdata_2019-03.csv.gz', name='green_tripdata_2019-03.csv.gz', size=10378973, modificationTime=1590475735000),\n",
      " FileInfo(path='dbfs:/databricks-datasets/nyctaxi/tripdata/green/green_tripdata_2019-04.csv.gz', name='green_tripdata_2019-04.csv.gz', size=8703014, modificationTime=1590475742000),\n",
      " FileInfo(path='dbfs:/databricks-datasets/nyctaxi/tripdata/green/green_tripdata_2019-05.csv.gz', name='green_tripdata_2019-05.csv.gz', size=8507749, modificationTime=1590475742000),\n",
      " FileInfo(path='dbfs:/databricks-datasets/nyctaxi/tripdata/green/green_tripdata_2019-06.csv.gz', name='green_tripdata_2019-06.csv.gz', size=7945561, modificationTime=1590475744000),\n",
      " FileInfo(path='dbfs:/databricks-datasets/nyctaxi/tripdata/green/green_tripdata_2019-07.csv.gz', name='green_tripdata_2019-07.csv.gz', size=7899003, modificationTime=1590475747000),\n",
      " FileInfo(path='dbfs:/databricks-datasets/nyctaxi/tripdata/green/green_tripdata_2019-08.csv.gz', name='green_tripdata_2019-08.csv.gz', size=7535088, modificationTime=1590475752000),\n",
      " FileInfo(path='dbfs:/databricks-datasets/nyctaxi/tripdata/green/green_tripdata_2019-09.csv.gz', name='green_tripdata_2019-09.csv.gz', size=7528459, modificationTime=1590475752000),\n",
      " FileInfo(path='dbfs:/databricks-datasets/nyctaxi/tripdata/green/green_tripdata_2019-10.csv.gz', name='green_tripdata_2019-10.csv.gz', size=7918762, modificationTime=1590475752000),\n",
      " FileInfo(path='dbfs:/databricks-datasets/nyctaxi/tripdata/green/green_tripdata_2019-11.csv.gz', name='green_tripdata_2019-11.csv.gz', size=7458843, modificationTime=1590475752000),\n",
      " FileInfo(path='dbfs:/databricks-datasets/nyctaxi/tripdata/green/green_tripdata_2019-12.csv.gz', name='green_tripdata_2019-12.csv.gz', size=7469977, modificationTime=1590475760000)]"
     ]
    }
   ],
   "source": [
    "dbutils.fs.ls('dbfs:/databricks-datasets/nyctaxi/tripdata/green')"
   ]
  },
  {
   "cell_type": "code",
   "execution_count": null,
   "metadata": {
    "application/vnd.databricks.v1+cell": {
     "cellMetadata": {
      "byteLimit": 2048000,
      "rowLimit": 10000
     },
     "inputWidgets": {},
     "nuid": "a4aa221e-92c5-479e-a5b7-31fc32888598",
     "showTitle": false,
     "title": ""
    }
   },
   "outputs": [
    {
     "data": {
      "text/plain": [
       "\u001b[0;31m---------------------------------------------------------------------------\u001b[0m\n",
       "\u001b[0;31mNameError\u001b[0m                                 Traceback (most recent call last)\n",
       "File \u001b[0;32m<command-2059692673858779>:1\u001b[0m\n",
       "\u001b[0;32m----> 1\u001b[0m \u001b[43mBRONZE\u001b[49m\n",
       "\n",
       "\u001b[0;31mNameError\u001b[0m: name 'BRONZE' is not defined"
      ]
     },
     "metadata": {
      "application/vnd.databricks.v1+output": {
       "arguments": {},
       "data": "\u001b[0;31m---------------------------------------------------------------------------\u001b[0m\n\u001b[0;31mNameError\u001b[0m                                 Traceback (most recent call last)\nFile \u001b[0;32m<command-2059692673858779>:1\u001b[0m\n\u001b[0;32m----> 1\u001b[0m \u001b[43mBRONZE\u001b[49m\n\n\u001b[0;31mNameError\u001b[0m: name 'BRONZE' is not defined",
       "errorSummary": "<span class='ansi-red-fg'>NameError</span>: name 'BRONZE' is not defined",
       "errorTraceType": "ansi",
       "metadata": {},
       "type": "ipynbError"
      }
     },
     "output_type": "display_data"
    }
   ],
   "source": [
    "BRONZE"
   ]
  },
  {
   "cell_type": "code",
   "execution_count": null,
   "metadata": {
    "application/vnd.databricks.v1+cell": {
     "cellMetadata": {
      "byteLimit": 2048000,
      "rowLimit": 10000
     },
     "inputWidgets": {},
     "nuid": "c67eefc3-1b74-4b69-b6a4-1d31b48ff8d4",
     "showTitle": false,
     "title": ""
    }
   },
   "outputs": [
    {
     "data": {
      "application/vnd.databricks.v1+bamboolib_hint": "{\"pd.DataFrames\": [], \"version\": \"0.0.1\"}",
      "text/plain": []
     },
     "metadata": {},
     "output_type": "display_data"
    },
    {
     "name": "stdout",
     "output_type": "stream",
     "text": [
      "+--------+--------------------+---------------------+------------------+----------+------------+------------+---------------+-------------+-----------+-----+-------+----------+------------+---------+---------------------+------------+------------+---------+--------------------+\n",
      "|VendorID|lpep_pickup_datetime|lpep_dropoff_datetime|store_and_fwd_flag|RatecodeID|PULocationID|DOLocationID|passenger_count|trip_distance|fare_amount|extra|mta_tax|tip_amount|tolls_amount|ehail_fee|improvement_surcharge|total_amount|payment_type|trip_type|congestion_surcharge|\n",
      "+--------+--------------------+---------------------+------------------+----------+------------+------------+---------------+-------------+-----------+-----+-------+----------+------------+---------+---------------------+------------+------------+---------+--------------------+\n",
      "|       2| 2019-08-01 00:22:12|  2019-08-01 00:22:38|                 N|         1|         145|         145|              1|          .00|        2.5|    0|    0.5|         0|           0|     null|                  0.3|         3.3|           2|        1|                   0|\n",
      "|       2| 2019-08-01 00:11:35|  2019-08-01 00:25:53|                 N|         1|          66|          49|              5|         2.55|       11.5|  0.5|    0.5|      2.56|           0|     null|                  0.3|       15.36|           1|        1|                   0|\n",
      "|       2| 2019-08-01 00:56:09|  2019-08-01 01:12:02|                 N|         1|          65|          68|              1|         4.33|       15.5|  0.5|    0.5|         2|           0|     null|                  0.3|       21.55|           1|        1|                2.75|\n",
      "|       2| 2019-07-31 23:59:42|  2019-08-01 00:11:44|                 N|         1|          25|         133|              1|         3.85|         13|  0.5|    0.5|         2|           0|     null|                  0.3|        16.3|           1|        1|                   0|\n",
      "|       1| 2019-08-01 00:20:34|  2019-08-01 00:28:44|                 N|         1|          75|         263|              1|         1.30|        7.5| 3.25|    0.5|         1|           0|     null|                  0.3|       12.55|           1|        1|                2.75|\n",
      "|       2| 2019-08-01 00:29:16|  2019-08-01 00:46:21|                 N|         1|          65|         198|              1|         5.25|       17.5|  0.5|    0.5|         2|           0|     null|                  0.3|        20.8|           1|        1|                   0|\n",
      "|       2| 2019-08-01 00:10:14|  2019-08-01 00:24:29|                 N|         1|         146|          75|              1|         4.83|       15.5|  0.5|    0.5|         0|           0|     null|                  0.3|       19.55|           2|        1|                2.75|\n",
      "|       2| 2019-08-01 00:10:23|  2019-08-01 00:13:37|                 N|         1|         166|          41|              1|          .85|          5|  0.5|    0.5|         0|           0|     null|                  0.3|         6.3|           2|        1|                   0|\n",
      "|       1| 2019-08-01 00:03:44|  2019-08-01 00:07:14|                 N|         1|           7|         226|              1|          .80|          5|  0.5|    0.5|      1.26|           0|     null|                  0.3|        7.56|           1|        1|                   0|\n",
      "|       1| 2019-08-01 00:15:27|  2019-08-01 00:24:37|                 N|         1|           7|         226|              1|         1.60|        8.5|  0.5|    0.5|         0|           0|     null|                  0.3|         9.8|           2|        1|                   0|\n",
      "|       2| 2019-08-01 00:47:27|  2019-08-01 01:00:23|                 N|         1|         145|          83|              1|         2.92|       11.5|  0.5|    0.5|         0|           0|     null|                  0.3|        12.8|           2|        1|                   0|\n",
      "|       2| 2019-08-01 00:20:36|  2019-08-01 00:22:51|                 N|         1|          92|          92|              1|          .43|        3.5|  0.5|    0.5|         0|           0|     null|                  0.3|         4.8|           2|        1|                   0|\n",
      "|       2| 2019-08-01 00:18:42|  2019-08-01 00:24:35|                 N|         1|         106|         181|              5|         1.00|          6|  0.5|    0.5|      1.46|           0|     null|                  0.3|        8.76|           1|        1|                   0|\n",
      "|       1| 2019-08-01 00:41:32|  2019-08-01 00:55:43|                 N|         5|          42|         167|              1|         2.50|          0|    0|      0|         0|           0|     null|                    0|           0|           4|        2|                   0|\n",
      "|       2| 2019-08-01 00:10:00|  2019-08-01 00:28:34|                 N|         1|          42|          48|              1|         4.86|       17.5|  0.5|    0.5|         0|           0|     null|                  0.3|       21.55|           2|        1|                2.75|\n",
      "|       2| 2019-08-01 00:24:52|  2019-08-01 00:47:17|                 N|         1|          41|         107|              1|         5.62|       19.5|  0.5|    0.5|         0|           0|     null|                  0.3|       23.55|           2|        1|                2.75|\n",
      "|       1| 2019-08-01 00:13:05|  2019-08-01 00:20:29|                 N|         1|         179|         193|              2|         1.50|        7.5|  0.5|    0.5|         0|           0|     null|                  0.3|         8.8|           2|        1|                   0|\n",
      "|       1| 2019-08-01 00:41:16|  2019-08-01 00:41:32|                 N|         1|          41|          41|              1|          .10|        2.5|  0.5|    0.5|         0|           0|     null|                  0.3|         3.8|           2|        1|                   0|\n",
      "|       1| 2019-08-01 00:45:54|  2019-08-01 00:48:31|                 N|         1|          74|          75|              1|          .90|        4.5|  0.5|    0.5|         0|           0|     null|                  0.3|         5.8|           1|        1|                   0|\n",
      "|       2| 2019-08-01 00:54:48|  2019-08-01 01:06:55|                 N|         1|          52|          62|              1|         2.94|       11.5|  0.5|    0.5|      2.56|           0|     null|                  0.3|       15.36|           1|        1|                   0|\n",
      "+--------+--------------------+---------------------+------------------+----------+------------+------------+---------------+-------------+-----------+-----+-------+----------+------------+---------+---------------------+------------+------------+---------+--------------------+\n",
      "only showing top 20 rows\n",
      "\n",
      "+--------+--------------------+---------------------+------------------+----------+------------+------------+---------------+-------------+-----------+-----+-------+----------+------------+---------+---------------------+------------+------------+---------+--------------------+\n",
      "|VendorID|lpep_pickup_datetime|lpep_dropoff_datetime|store_and_fwd_flag|RatecodeID|PULocationID|DOLocationID|passenger_count|trip_distance|fare_amount|extra|mta_tax|tip_amount|tolls_amount|ehail_fee|improvement_surcharge|total_amount|payment_type|trip_type|congestion_surcharge|\n",
      "+--------+--------------------+---------------------+------------------+----------+------------+------------+---------------+-------------+-----------+-----+-------+----------+------------+---------+---------------------+------------+------------+---------+--------------------+\n",
      "|       2| 2019-09-01 00:10:53|  2019-09-01 00:23:46|                 N|         1|          65|         189|              5|         2.00|       10.5|  0.5|    0.5|      2.36|           0|     null|                  0.3|       14.16|           1|        1|                   0|\n",
      "|       2| 2019-09-01 00:31:22|  2019-09-01 00:44:37|                 N|         1|          97|         225|              5|         3.20|         12|  0.5|    0.5|         0|           0|     null|                  0.3|        13.3|           2|        1|                   0|\n",
      "|       2| 2019-09-01 00:50:24|  2019-09-01 01:03:20|                 N|         1|          37|          61|              5|         2.99|         12|  0.5|    0.5|         0|           0|     null|                  0.3|        13.3|           2|        1|                   0|\n",
      "|       2| 2019-09-01 00:27:06|  2019-09-01 00:33:22|                 N|         1|         145|         112|              1|         1.73|        7.5|  0.5|    0.5|       1.5|           0|     null|                  0.3|        10.3|           1|        1|                   0|\n",
      "|       2| 2019-09-01 00:43:23|  2019-09-01 00:59:54|                 N|         1|         112|         198|              1|         3.42|         14|  0.5|    0.5|      3.06|           0|     null|                  0.3|       18.36|           1|        1|                   0|\n",
      "|       2| 2019-09-01 00:55:37|  2019-09-01 01:17:02|                 N|         1|           7|          41|              1|         6.26|         21|  0.5|    0.5|         0|        6.12|     null|                  0.3|       28.42|           2|        1|                   0|\n",
      "|       2| 2019-09-01 00:28:55|  2019-09-01 00:52:09|                 N|         1|          33|          37|              1|         4.34|         18|  0.5|    0.5|      3.86|           0|     null|                  0.3|       23.16|           1|        1|                   0|\n",
      "|       1| 2019-09-01 00:03:13|  2019-09-01 00:03:32|                 N|         1|          55|          55|              1|         1.20|        2.5|  0.5|    0.5|         0|           0|     null|                  0.3|         3.8|           3|        1|                   0|\n",
      "|       1| 2019-09-01 00:15:28|  2019-09-01 00:43:22|                 N|         1|          55|          89|              1|          .00|       22.2|    0|    0.5|         0|           0|     null|                  0.3|          23|           1|        1|                   0|\n",
      "|       2| 2019-09-01 00:29:16|  2019-09-01 00:30:15|                 N|         1|          17|          17|              1|          .14|        2.5|  0.5|    0.5|         0|           0|     null|                  0.3|         3.8|           2|        1|                   0|\n",
      "|       1| 2019-09-01 00:01:43|  2019-09-01 00:13:13|                 N|         1|         129|           7|              1|         1.90|        9.5|  0.5|    0.5|         0|           0|     null|                  0.3|        10.8|           2|        1|                   0|\n",
      "|       1| 2019-09-01 00:29:57|  2019-09-01 00:57:26|                 N|         1|         179|         215|              1|          .00|       30.2|    0|    0.5|         0|           0|     null|                  0.3|          31|           1|        1|                   0|\n",
      "|       2| 2019-09-01 00:19:22|  2019-09-01 00:46:01|                 N|         1|         129|         171|              5|         6.08|         22|  0.5|    0.5|         0|           0|     null|                  0.3|        23.3|           2|        1|                   0|\n",
      "|       2| 2019-09-01 00:39:37|  2019-09-01 00:48:50|                 N|         1|         129|         129|              1|          .86|          7|  0.5|    0.5|         0|           0|     null|                  0.3|         8.3|           2|        1|                   0|\n",
      "|       2| 2019-09-01 00:13:37|  2019-09-01 00:26:46|                 N|         1|          74|         163|              1|         3.59|         13|  0.5|    0.5|      5.12|           0|     null|                  0.3|       22.17|           1|        1|                2.75|\n",
      "|       1| 2019-09-01 00:35:43|  2019-09-01 00:47:21|                 N|         1|           7|          83|              1|         2.10|        9.5|    1|    0.5|       1.7|           0|     null|                  0.3|          13|           1|        1|                   0|\n",
      "|       2| 2019-09-01 00:24:20|  2019-09-01 00:32:35|                 N|         1|          42|         116|              1|          .86|        6.5|  0.5|    0.5|         0|           0|     null|                  0.3|         7.8|           2|        1|                   0|\n",
      "|       2| 2019-09-01 00:45:46|  2019-09-01 00:54:31|                 N|         1|          92|          70|              1|         2.59|         10|  0.5|    0.5|         0|           0|     null|                  0.3|        11.3|           2|        1|                   0|\n",
      "|       2| 2019-09-01 00:04:52|  2019-09-01 00:26:44|                 N|         1|          83|         202|              1|         3.92|       16.5|  0.5|    0.5|         0|           0|     null|                  0.3|        17.8|           2|        1|                   0|\n",
      "|       2| 2019-09-01 00:13:57|  2019-09-01 00:34:04|                 N|         1|         223|         137|              1|         5.05|       18.5|  0.5|    0.5|         0|           0|     null|                  0.3|       22.55|           2|        1|                2.75|\n",
      "+--------+--------------------+---------------------+------------------+----------+------------+------------+---------------+-------------+-----------+-----+-------+----------+------------+---------+---------------------+------------+------------+---------+--------------------+\n",
      "only showing top 20 rows\n",
      "\n",
      "+--------+--------------------+---------------------+------------------+----------+------------+------------+---------------+-------------+-----------+-----+-------+----------+------------+---------+---------------------+------------+------------+---------+--------------------+\n",
      "|VendorID|lpep_pickup_datetime|lpep_dropoff_datetime|store_and_fwd_flag|RatecodeID|PULocationID|DOLocationID|passenger_count|trip_distance|fare_amount|extra|mta_tax|tip_amount|tolls_amount|ehail_fee|improvement_surcharge|total_amount|payment_type|trip_type|congestion_surcharge|\n",
      "+--------+--------------------+---------------------+------------------+----------+------------+------------+---------------+-------------+-----------+-----+-------+----------+------------+---------+---------------------+------------+------------+---------+--------------------+\n",
      "|       2| 2019-10-01 00:26:02|  2019-10-01 00:39:58|                 N|         1|         112|         196|              1|         5.88|         18|  0.5|    0.5|         0|           0|     null|                  0.3|        19.3|           2|        1|                   0|\n",
      "|       1| 2019-10-01 00:18:11|  2019-10-01 00:22:38|                 N|         1|          43|         263|              1|          .80|          5| 3.25|    0.5|         0|           0|     null|                  0.3|        9.05|           2|        1|                   0|\n",
      "|       1| 2019-10-01 00:09:31|  2019-10-01 00:24:47|                 N|         1|         255|         228|              2|         7.50|       21.5|  0.5|    0.5|         0|           0|     null|                  0.3|        22.8|           2|        1|                   0|\n",
      "|       1| 2019-10-01 00:37:40|  2019-10-01 00:41:49|                 N|         1|         181|         181|              1|          .90|        5.5|  0.5|    0.5|         0|           0|     null|                  0.3|         6.8|           2|        1|                   0|\n",
      "|       2| 2019-10-01 00:08:13|  2019-10-01 00:17:56|                 N|         1|          97|         188|              1|         2.52|         10|  0.5|    0.5|      2.26|           0|     null|                  0.3|       13.56|           1|        1|                   0|\n",
      "|       2| 2019-10-01 00:35:01|  2019-10-01 00:43:40|                 N|         1|          65|          49|              1|         1.47|          8|  0.5|    0.5|      1.86|           0|     null|                  0.3|       11.16|           1|        1|                   0|\n",
      "|       1| 2019-10-01 00:28:09|  2019-10-01 00:30:49|                 N|         1|           7|         179|              1|          .60|          4|  0.5|    0.5|         1|           0|     null|                  0.3|         6.3|           1|        1|                   0|\n",
      "|       2| 2019-10-01 00:28:26|  2019-10-01 00:32:01|                 N|         1|          41|          74|              1|          .56|        4.5|  0.5|    0.5|         0|           0|     null|                  0.3|         5.8|           2|        1|                   0|\n",
      "|       2| 2019-10-01 00:14:01|  2019-10-01 00:26:16|                 N|         1|         255|          49|              1|         2.42|       10.5|  0.5|    0.5|         0|           0|     null|                  0.3|        11.8|           2|        1|                   0|\n",
      "|       1| 2019-10-01 00:03:03|  2019-10-01 00:17:13|                 Y|         1|         130|         131|              1|         3.40|         13|  0.5|    0.5|      2.85|           0|     null|                  0.3|       17.15|           1|        1|                   0|\n",
      "|       2| 2019-10-01 00:07:10|  2019-10-01 00:23:38|                 N|         1|          24|          74|              3|         3.18|       13.5|  0.5|    0.5|         0|           0|     null|                  0.3|        14.8|           2|        1|                   0|\n",
      "|       1| 2019-10-01 00:25:48|  2019-10-01 00:49:52|                 N|         1|         255|         188|              1|         4.70|         18|  0.5|    0.5|         1|           0|     null|                  0.3|        20.3|           1|        1|                   0|\n",
      "|       1| 2019-10-01 00:03:12|  2019-10-01 00:14:43|                 N|         1|         129|         160|              1|         3.10|       10.5|  0.5|    0.5|         0|           0|     null|                  0.3|        11.8|           2|        1|                   0|\n",
      "|       2| 2019-10-01 00:44:56|  2019-10-01 00:51:06|                 N|         5|          18|         169|              1|         1.19|         10|    0|      0|      0.25|           0|     null|                    0|       10.25|           1|        2|                   0|\n",
      "|       2| 2019-10-01 00:55:14|  2019-10-01 01:00:49|                 N|         1|         223|           7|              1|         1.09|          6|  0.5|    0.5|      1.46|           0|     null|                  0.3|        8.76|           1|        1|                   0|\n",
      "|       2| 2019-10-01 00:06:06|  2019-10-01 00:11:05|                 N|         1|          75|         262|              1|         1.24|          6|  0.5|    0.5|      2.01|           0|     null|                  0.3|       12.06|           1|        1|                2.75|\n",
      "|       2| 2019-10-01 00:00:19|  2019-10-01 00:14:32|                 N|         1|          97|         228|              1|         3.03|         13|  0.5|    0.5|      3.58|           0|     null|                  0.3|       17.88|           1|        1|                   0|\n",
      "|       2| 2019-10-01 00:09:31|  2019-10-01 00:20:41|                 N|         1|          41|          74|              1|         2.03|        9.5|  0.5|    0.5|      2.16|           0|     null|                  0.3|       12.96|           1|        1|                   0|\n",
      "|       2| 2019-10-01 00:30:36|  2019-10-01 00:34:30|                 N|         1|          41|          42|              1|          .73|          5|  0.5|    0.5|      1.26|           0|     null|                  0.3|        7.56|           1|        1|                   0|\n",
      "|       2| 2019-10-01 00:58:32|  2019-10-01 01:05:08|                 N|         1|          41|         116|              1|         1.48|        7.5|  0.5|    0.5|         0|           0|     null|                  0.3|         8.8|           2|        1|                   0|\n",
      "+--------+--------------------+---------------------+------------------+----------+------------+------------+---------------+-------------+-----------+-----+-------+----------+------------+---------+---------------------+------------+------------+---------+--------------------+\n",
      "only showing top 20 rows\n",
      "\n",
      "+--------+--------------------+---------------------+------------------+----------+------------+------------+---------------+-------------+-----------+-----+-------+----------+------------+---------+---------------------+------------+------------+---------+--------------------+\n",
      "|VendorID|lpep_pickup_datetime|lpep_dropoff_datetime|store_and_fwd_flag|RatecodeID|PULocationID|DOLocationID|passenger_count|trip_distance|fare_amount|extra|mta_tax|tip_amount|tolls_amount|ehail_fee|improvement_surcharge|total_amount|payment_type|trip_type|congestion_surcharge|\n",
      "+--------+--------------------+---------------------+------------------+----------+------------+------------+---------------+-------------+-----------+-----+-------+----------+------------+---------+---------------------+------------+------------+---------+--------------------+\n",
      "|       2| 2019-11-01 00:11:24|  2019-11-01 00:23:12|                 N|         1|          66|         148|              1|         2.80|       11.5|  0.5|    0.5|      3.11|           0|     null|                  0.3|       18.66|           1|        1|                2.75|\n",
      "|       2| 2019-11-01 00:49:25|  2019-11-01 01:14:19|                 N|         1|         145|         114|              1|         5.59|         20|  0.5|    0.5|      6.03|        6.12|     null|                  0.3|        36.2|           1|        1|                2.75|\n",
      "|       1| 2019-11-01 00:57:22|  2019-11-01 01:09:23|                 N|         1|         255|          37|              1|         2.10|         10|  0.5|    0.5|      2.25|           0|     null|                  0.3|       13.55|           1|        1|                   0|\n",
      "|       2| 2019-11-01 00:59:52|  2019-11-01 01:08:19|                 N|         1|           7|         226|              1|         1.23|        7.5|  0.5|    0.5|         0|           0|     null|                  0.3|         8.8|           2|        1|                   0|\n",
      "|       2| 2019-11-01 00:40:13|  2019-11-01 00:47:41|                 N|         1|         129|         129|              1|         1.18|          7|  0.5|    0.5|         0|           0|     null|                  0.3|         8.3|           2|        1|                   0|\n",
      "|       2| 2019-11-01 00:42:30|  2019-11-01 00:50:41|                 N|         1|           7|         223|              1|         2.34|          9|  0.5|    0.5|         0|           0|     null|                  0.3|        10.3|           2|        1|                   0|\n",
      "|       2| 2019-11-01 00:58:20|  2019-11-01 01:02:01|                 N|         1|         223|           7|              1|          .96|          5|  0.5|    0.5|         0|           0|     null|                  0.3|         6.3|           2|        1|                   0|\n",
      "|       2| 2019-11-01 00:09:35|  2019-11-01 00:28:55|                 N|         1|          49|         113|              1|         5.01|       17.5|  0.5|    0.5|         0|           0|     null|                  0.3|       21.55|           2|        1|                2.75|\n",
      "|       2| 2019-11-01 00:27:50|  2019-11-01 00:35:45|                 N|         1|         166|          43|              1|         2.06|        8.5|  0.5|    0.5|      0.49|           0|     null|                  0.3|       10.29|           1|        1|                   0|\n",
      "|       2| 2019-11-01 00:57:28|  2019-11-01 01:04:16|                 N|         1|          42|         116|              1|         1.57|          7|  0.5|    0.5|         0|           0|     null|                  0.3|         8.3|           2|        1|                   0|\n",
      "|       2| 2019-11-01 00:16:53|  2019-11-01 00:23:33|                 N|         1|         116|         244|              3|         1.50|        7.5|  0.5|    0.5|         1|           0|     null|                  0.3|         9.8|           1|        1|                   0|\n",
      "|       1| 2019-11-01 00:42:25|  2019-11-01 00:59:59|                 N|         1|          82|          16|              1|         8.40|       24.5|  0.5|    0.5|         0|           0|     null|                  0.3|        25.8|           2|        1|                   0|\n",
      "|       1| 2019-11-01 00:13:55|  2019-11-01 00:20:51|                 N|         1|          42|          41|              1|         1.20|          7|  0.5|    0.5|         0|           0|     null|                  0.3|         8.3|           2|        1|                   0|\n",
      "|       1| 2019-11-01 00:34:44|  2019-11-01 00:37:39|                 N|         1|          42|          41|              1|          .60|        4.5|  0.5|    0.5|         0|           0|     null|                  0.3|         5.8|           2|        1|                   0|\n",
      "|       1| 2019-11-01 00:42:17|  2019-11-01 00:52:48|                 N|         1|          41|         244|              1|         2.20|         10|  0.5|    0.5|         0|           0|     null|                  0.3|        11.3|           2|        1|                   0|\n",
      "|       2| 2019-11-01 00:06:54|  2019-11-01 00:10:55|                 N|         1|         129|         129|              1|          .84|          5|  0.5|    0.5|         0|           0|     null|                  0.3|         6.3|           2|        1|                   0|\n",
      "|       2| 2019-11-01 00:25:36|  2019-11-01 00:39:50|                 N|         1|          83|         173|              1|         2.21|       10.5|  0.5|    0.5|         0|           0|     null|                  0.3|        11.8|           1|        1|                   0|\n",
      "|       1| 2019-11-01 00:20:56|  2019-11-01 00:30:15|                 N|         1|         256|         148|              1|         2.50|         10| 3.25|    0.5|         0|           0|     null|                  0.3|       14.05|           2|        1|                2.75|\n",
      "|       1| 2019-11-01 00:19:27|  2019-11-01 00:26:08|                 N|         1|          65|         181|              1|         1.10|        6.5|  0.5|    0.5|      1.95|           0|     null|                  0.3|        9.75|           1|        1|                   0|\n",
      "|       1| 2019-11-01 00:38:06|  2019-11-01 00:43:31|                 N|         1|          97|          49|              1|         1.30|          6|  0.5|    0.5|      1.45|           0|     null|                  0.3|        8.75|           1|        1|                   0|\n",
      "+--------+--------------------+---------------------+------------------+----------+------------+------------+---------------+-------------+-----------+-----+-------+----------+------------+---------+---------------------+------------+------------+---------+--------------------+\n",
      "only showing top 20 rows\n",
      "\n",
      "+--------+--------------------+---------------------+------------------+----------+------------+------------+---------------+-------------+-----------+-----+-------+----------+------------+---------+---------------------+------------+------------+---------+--------------------+\n",
      "|VendorID|lpep_pickup_datetime|lpep_dropoff_datetime|store_and_fwd_flag|RatecodeID|PULocationID|DOLocationID|passenger_count|trip_distance|fare_amount|extra|mta_tax|tip_amount|tolls_amount|ehail_fee|improvement_surcharge|total_amount|payment_type|trip_type|congestion_surcharge|\n",
      "+--------+--------------------+---------------------+------------------+----------+------------+------------+---------------+-------------+-----------+-----+-------+----------+------------+---------+---------------------+------------+------------+---------+--------------------+\n",
      "|       1| 2019-12-01 00:09:45|  2019-12-01 00:10:59|                 N|         1|         145|         145|              1|          .00|          3|  0.5|    0.5|         0|           0|     null|                  0.3|         4.3|           2|        1|                   0|\n",
      "|       2| 2019-12-01 00:26:05|  2019-12-01 00:31:30|                 N|         1|          24|          41|              1|          .67|        5.5|  0.5|    0.5|      2.04|           0|     null|                  0.3|        8.84|           1|        1|                   0|\n",
      "|       2| 2019-12-01 00:56:36|  2019-12-01 00:59:38|                 N|         1|          74|          41|              1|          .61|        4.5|  0.5|    0.5|         0|           0|     null|                  0.3|         5.8|           2|        1|                   0|\n",
      "|       2| 2019-12-01 00:26:20|  2019-12-01 00:40:19|                 N|         1|         255|         157|              1|         3.90|         14|  0.5|    0.5|         0|           0|     null|                  0.3|        15.3|           2|        1|                   0|\n",
      "|       2| 2019-12-01 00:56:36|  2019-12-01 00:59:56|                 N|         1|          80|         255|              1|          .50|        4.5|  0.5|    0.5|         0|           0|     null|                  0.3|         5.8|           2|        1|                   0|\n",
      "|       1| 2019-12-01 00:14:28|  2019-12-01 00:19:39|                 N|         1|          21|         123|              1|         1.10|          6|  0.5|    0.5|         0|           0|     null|                  0.3|         7.3|           2|        1|                   0|\n",
      "|       1| 2019-12-01 00:45:54|  2019-12-01 00:52:46|                 N|         1|         181|         228|              1|         1.50|        7.5|  0.5|    0.5|         0|           0|     null|                  0.3|         8.8|           2|        1|                   0|\n",
      "|       2| 2019-12-01 00:25:35|  2019-12-01 01:04:08|                 N|         1|           7|          53|              1|         7.42|         30|  0.5|    0.5|         0|           0|     null|                  0.3|        31.3|           2|        1|                   0|\n",
      "|       1| 2019-12-01 00:43:12|  2019-12-01 00:56:44|                 N|         1|          75|         223|              1|         5.30|       16.5|  0.5|    0.5|         0|        6.12|     null|                  0.3|       23.92|           2|        1|                   0|\n",
      "|       2| 2019-12-01 00:56:08|  2019-12-01 01:05:11|                 N|         1|         112|         232|              1|         2.64|         10|  0.5|    0.5|      2.81|           0|     null|                  0.3|       16.86|           1|        1|                2.75|\n",
      "|       2| 2019-12-01 00:10:32|  2019-12-01 00:34:48|                 N|         1|          97|         227|              5|         3.85|         18|  0.5|    0.5|       2.9|           0|     null|                  0.3|        22.2|           1|        1|                   0|\n",
      "|       2| 2019-12-01 00:16:41|  2019-12-01 00:20:42|                 N|         1|         129|         260|              1|          .68|        4.5|  0.5|    0.5|         0|           0|     null|                  0.3|         5.8|           2|        1|                   0|\n",
      "|       2| 2019-12-01 00:04:57|  2019-12-01 00:06:22|                 N|         1|           7|           7|              1|          .04|          3|  0.5|    0.5|         0|           0|     null|                  0.3|         4.3|           2|        1|                   0|\n",
      "|       2| 2019-12-01 00:32:08|  2019-12-01 00:44:06|                 N|         1|         223|         129|              1|         2.97|       11.5|  0.5|    0.5|         1|           0|     null|                  0.3|        13.8|           1|        1|                   0|\n",
      "|       2| 2019-12-01 00:13:31|  2019-12-01 00:22:38|                 N|         1|         223|           7|              1|         1.60|          8|  0.5|    0.5|      2.32|           0|     null|                  0.3|       11.62|           1|        1|                   0|\n",
      "|       2| 2019-12-01 00:09:15|  2019-12-01 00:14:28|                 N|         1|         255|         255|              1|          .63|          5|  0.5|    0.5|      1.26|           0|     null|                  0.3|        7.56|           1|        1|                   0|\n",
      "|       2| 2019-12-01 00:12:29|  2019-12-01 00:27:39|                 N|         1|          75|         116|              1|         3.66|       13.5|  0.5|    0.5|      2.96|           0|     null|                  0.3|       17.76|           1|        1|                   0|\n",
      "|       1| 2019-12-01 00:30:08|  2019-12-01 00:33:24|                 N|         1|          42|          42|              1|          .50|        4.5|  0.5|    0.5|         0|           0|     null|                  0.3|         5.8|           2|        1|                   0|\n",
      "|       1| 2019-12-01 00:43:11|  2019-12-01 00:51:47|                 N|         1|          42|         152|              1|         1.60|          8|  0.5|    0.5|         0|           0|     null|                  0.3|         9.3|           2|        1|                   0|\n",
      "|       1| 2019-12-01 00:55:42|  2019-12-01 00:57:50|                 N|         1|         116|         116|              1|          .30|        3.5|  0.5|    0.5|         0|           0|     null|                  0.3|         4.8|           2|        1|                   0|\n",
      "+--------+--------------------+---------------------+------------------+----------+------------+------------+---------------+-------------+-----------+-----+-------+----------+------------+---------+---------------------+------------+------------+---------+--------------------+\n",
      "only showing top 20 rows\n",
      "\n"
     ]
    }
   ],
   "source": [
    "import re\n",
    "import pandas as pd\n",
    "from pyspark.sql import SparkSession\n",
    "\n",
    "# Initialize Spark Session\n",
    "spark = SparkSession.builder.appName(\"LoadNYCTaxiData\").getOrCreate()\n",
    "\n",
    "# List of file paths\n",
    "file_paths = [\n",
    "    'dbfs:/databricks-datasets/nyctaxi/tripdata/green/green_tripdata_2019-08.csv.gz',\n",
    "    'dbfs:/databricks-datasets/nyctaxi/tripdata/green/green_tripdata_2019-09.csv.gz',\n",
    "    'dbfs:/databricks-datasets/nyctaxi/tripdata/green/green_tripdata_2019-10.csv.gz',\n",
    "    'dbfs:/databricks-datasets/nyctaxi/tripdata/green/green_tripdata_2019-11.csv.gz',\n",
    "    'dbfs:/databricks-datasets/nyctaxi/tripdata/green/green_tripdata_2019-12.csv.gz'\n",
    "]\n",
    "\n",
    "# Load data using read.format().load() for each file\n",
    "dataframes = []\n",
    "for file_path in file_paths:\n",
    "    df = spark.read.format(\"csv\").option(\"header\", \"true\").load(file_path)\n",
    "    dataframes.append(df)\n",
    "\n",
    "# Perform operations on DataFrames\n",
    "for df in dataframes:\n",
    "    df.show()\n",
    "\n",
    "\n"
   ]
  },
  {
   "cell_type": "code",
   "execution_count": null,
   "metadata": {
    "application/vnd.databricks.v1+cell": {
     "cellMetadata": {
      "byteLimit": 2048000,
      "rowLimit": 10000
     },
     "inputWidgets": {},
     "nuid": "a7884fb4-57a9-4bb9-8483-11f6931757d2",
     "showTitle": false,
     "title": ""
    }
   },
   "outputs": [
    {
     "name": "stdout",
     "output_type": "stream",
     "text": [
      "Cleaned DataFrame 1:\n",
      "+--------+--------------------+---------------------+------------------+----------+------------+------------+---------------+-------------+-----------+-----+-------+----------+------------+---------+---------------------+------------+------------+---------+--------------------+\n",
      "|vendorid|lpep_pickup_datetime|lpep_dropoff_datetime|store_and_fwd_flag|ratecodeid|pulocationid|dolocationid|passenger_count|trip_distance|fare_amount|extra|mta_tax|tip_amount|tolls_amount|ehail_fee|improvement_surcharge|total_amount|payment_type|trip_type|congestion_surcharge|\n",
      "+--------+--------------------+---------------------+------------------+----------+------------+------------+---------------+-------------+-----------+-----+-------+----------+------------+---------+---------------------+------------+------------+---------+--------------------+\n",
      "|       2|  2019-08-0100:22:12|   2019-08-0100:22:38|                 n|         1|         145|         145|              1|          .00|        2.5|    0|    0.5|         0|           0|     none|                  0.3|         3.3|           2|        1|                   0|\n",
      "|       2|  2019-08-0100:11:35|   2019-08-0100:25:53|                 n|         1|          66|          49|              5|         2.55|       11.5|  0.5|    0.5|      2.56|           0|     none|                  0.3|       15.36|           1|        1|                   0|\n",
      "|       2|  2019-08-0100:56:09|   2019-08-0101:12:02|                 n|         1|          65|          68|              1|         4.33|       15.5|  0.5|    0.5|         2|           0|     none|                  0.3|       21.55|           1|        1|                2.75|\n",
      "|       2|  2019-07-3123:59:42|   2019-08-0100:11:44|                 n|         1|          25|         133|              1|         3.85|         13|  0.5|    0.5|         2|           0|     none|                  0.3|        16.3|           1|        1|                   0|\n",
      "|       1|  2019-08-0100:20:34|   2019-08-0100:28:44|                 n|         1|          75|         263|              1|         1.30|        7.5| 3.25|    0.5|         1|           0|     none|                  0.3|       12.55|           1|        1|                2.75|\n",
      "|       2|  2019-08-0100:29:16|   2019-08-0100:46:21|                 n|         1|          65|         198|              1|         5.25|       17.5|  0.5|    0.5|         2|           0|     none|                  0.3|        20.8|           1|        1|                   0|\n",
      "|       2|  2019-08-0100:10:14|   2019-08-0100:24:29|                 n|         1|         146|          75|              1|         4.83|       15.5|  0.5|    0.5|         0|           0|     none|                  0.3|       19.55|           2|        1|                2.75|\n",
      "|       2|  2019-08-0100:10:23|   2019-08-0100:13:37|                 n|         1|         166|          41|              1|          .85|          5|  0.5|    0.5|         0|           0|     none|                  0.3|         6.3|           2|        1|                   0|\n",
      "|       1|  2019-08-0100:03:44|   2019-08-0100:07:14|                 n|         1|           7|         226|              1|          .80|          5|  0.5|    0.5|      1.26|           0|     none|                  0.3|        7.56|           1|        1|                   0|\n",
      "|       1|  2019-08-0100:15:27|   2019-08-0100:24:37|                 n|         1|           7|         226|              1|         1.60|        8.5|  0.5|    0.5|         0|           0|     none|                  0.3|         9.8|           2|        1|                   0|\n",
      "|       2|  2019-08-0100:47:27|   2019-08-0101:00:23|                 n|         1|         145|          83|              1|         2.92|       11.5|  0.5|    0.5|         0|           0|     none|                  0.3|        12.8|           2|        1|                   0|\n",
      "|       2|  2019-08-0100:20:36|   2019-08-0100:22:51|                 n|         1|          92|          92|              1|          .43|        3.5|  0.5|    0.5|         0|           0|     none|                  0.3|         4.8|           2|        1|                   0|\n",
      "|       2|  2019-08-0100:18:42|   2019-08-0100:24:35|                 n|         1|         106|         181|              5|         1.00|          6|  0.5|    0.5|      1.46|           0|     none|                  0.3|        8.76|           1|        1|                   0|\n",
      "|       1|  2019-08-0100:41:32|   2019-08-0100:55:43|                 n|         5|          42|         167|              1|         2.50|          0|    0|      0|         0|           0|     none|                    0|           0|           4|        2|                   0|\n",
      "|       2|  2019-08-0100:10:00|   2019-08-0100:28:34|                 n|         1|          42|          48|              1|         4.86|       17.5|  0.5|    0.5|         0|           0|     none|                  0.3|       21.55|           2|        1|                2.75|\n",
      "|       2|  2019-08-0100:24:52|   2019-08-0100:47:17|                 n|         1|          41|         107|              1|         5.62|       19.5|  0.5|    0.5|         0|           0|     none|                  0.3|       23.55|           2|        1|                2.75|\n",
      "|       1|  2019-08-0100:13:05|   2019-08-0100:20:29|                 n|         1|         179|         193|              2|         1.50|        7.5|  0.5|    0.5|         0|           0|     none|                  0.3|         8.8|           2|        1|                   0|\n",
      "|       1|  2019-08-0100:41:16|   2019-08-0100:41:32|                 n|         1|          41|          41|              1|          .10|        2.5|  0.5|    0.5|         0|           0|     none|                  0.3|         3.8|           2|        1|                   0|\n",
      "|       1|  2019-08-0100:45:54|   2019-08-0100:48:31|                 n|         1|          74|          75|              1|          .90|        4.5|  0.5|    0.5|         0|           0|     none|                  0.3|         5.8|           1|        1|                   0|\n",
      "|       2|  2019-08-0100:54:48|   2019-08-0101:06:55|                 n|         1|          52|          62|              1|         2.94|       11.5|  0.5|    0.5|      2.56|           0|     none|                  0.3|       15.36|           1|        1|                   0|\n",
      "+--------+--------------------+---------------------+------------------+----------+------------+------------+---------------+-------------+-----------+-----+-------+----------+------------+---------+---------------------+------------+------------+---------+--------------------+\n",
      "only showing top 20 rows\n",
      "\n",
      "Cleaned DataFrame 2:\n",
      "+--------+--------------------+---------------------+------------------+----------+------------+------------+---------------+-------------+-----------+-----+-------+----------+------------+---------+---------------------+------------+------------+---------+--------------------+\n",
      "|vendorid|lpep_pickup_datetime|lpep_dropoff_datetime|store_and_fwd_flag|ratecodeid|pulocationid|dolocationid|passenger_count|trip_distance|fare_amount|extra|mta_tax|tip_amount|tolls_amount|ehail_fee|improvement_surcharge|total_amount|payment_type|trip_type|congestion_surcharge|\n",
      "+--------+--------------------+---------------------+------------------+----------+------------+------------+---------------+-------------+-----------+-----+-------+----------+------------+---------+---------------------+------------+------------+---------+--------------------+\n",
      "|       2|  2019-09-0100:10:53|   2019-09-0100:23:46|                 n|         1|          65|         189|              5|         2.00|       10.5|  0.5|    0.5|      2.36|           0|     none|                  0.3|       14.16|           1|        1|                   0|\n",
      "|       2|  2019-09-0100:31:22|   2019-09-0100:44:37|                 n|         1|          97|         225|              5|         3.20|         12|  0.5|    0.5|         0|           0|     none|                  0.3|        13.3|           2|        1|                   0|\n",
      "|       2|  2019-09-0100:50:24|   2019-09-0101:03:20|                 n|         1|          37|          61|              5|         2.99|         12|  0.5|    0.5|         0|           0|     none|                  0.3|        13.3|           2|        1|                   0|\n",
      "|       2|  2019-09-0100:27:06|   2019-09-0100:33:22|                 n|         1|         145|         112|              1|         1.73|        7.5|  0.5|    0.5|       1.5|           0|     none|                  0.3|        10.3|           1|        1|                   0|\n",
      "|       2|  2019-09-0100:43:23|   2019-09-0100:59:54|                 n|         1|         112|         198|              1|         3.42|         14|  0.5|    0.5|      3.06|           0|     none|                  0.3|       18.36|           1|        1|                   0|\n",
      "|       2|  2019-09-0100:55:37|   2019-09-0101:17:02|                 n|         1|           7|          41|              1|         6.26|         21|  0.5|    0.5|         0|        6.12|     none|                  0.3|       28.42|           2|        1|                   0|\n",
      "|       2|  2019-09-0100:28:55|   2019-09-0100:52:09|                 n|         1|          33|          37|              1|         4.34|         18|  0.5|    0.5|      3.86|           0|     none|                  0.3|       23.16|           1|        1|                   0|\n",
      "|       1|  2019-09-0100:03:13|   2019-09-0100:03:32|                 n|         1|          55|          55|              1|         1.20|        2.5|  0.5|    0.5|         0|           0|     none|                  0.3|         3.8|           3|        1|                   0|\n",
      "|       1|  2019-09-0100:15:28|   2019-09-0100:43:22|                 n|         1|          55|          89|              1|          .00|       22.2|    0|    0.5|         0|           0|     none|                  0.3|          23|           1|        1|                   0|\n",
      "|       2|  2019-09-0100:29:16|   2019-09-0100:30:15|                 n|         1|          17|          17|              1|          .14|        2.5|  0.5|    0.5|         0|           0|     none|                  0.3|         3.8|           2|        1|                   0|\n",
      "|       1|  2019-09-0100:01:43|   2019-09-0100:13:13|                 n|         1|         129|           7|              1|         1.90|        9.5|  0.5|    0.5|         0|           0|     none|                  0.3|        10.8|           2|        1|                   0|\n",
      "|       1|  2019-09-0100:29:57|   2019-09-0100:57:26|                 n|         1|         179|         215|              1|          .00|       30.2|    0|    0.5|         0|           0|     none|                  0.3|          31|           1|        1|                   0|\n",
      "|       2|  2019-09-0100:19:22|   2019-09-0100:46:01|                 n|         1|         129|         171|              5|         6.08|         22|  0.5|    0.5|         0|           0|     none|                  0.3|        23.3|           2|        1|                   0|\n",
      "|       2|  2019-09-0100:39:37|   2019-09-0100:48:50|                 n|         1|         129|         129|              1|          .86|          7|  0.5|    0.5|         0|           0|     none|                  0.3|         8.3|           2|        1|                   0|\n",
      "|       2|  2019-09-0100:13:37|   2019-09-0100:26:46|                 n|         1|          74|         163|              1|         3.59|         13|  0.5|    0.5|      5.12|           0|     none|                  0.3|       22.17|           1|        1|                2.75|\n",
      "|       1|  2019-09-0100:35:43|   2019-09-0100:47:21|                 n|         1|           7|          83|              1|         2.10|        9.5|    1|    0.5|       1.7|           0|     none|                  0.3|          13|           1|        1|                   0|\n",
      "|       2|  2019-09-0100:24:20|   2019-09-0100:32:35|                 n|         1|          42|         116|              1|          .86|        6.5|  0.5|    0.5|         0|           0|     none|                  0.3|         7.8|           2|        1|                   0|\n",
      "|       2|  2019-09-0100:45:46|   2019-09-0100:54:31|                 n|         1|          92|          70|              1|         2.59|         10|  0.5|    0.5|         0|           0|     none|                  0.3|        11.3|           2|        1|                   0|\n",
      "|       2|  2019-09-0100:04:52|   2019-09-0100:26:44|                 n|         1|          83|         202|              1|         3.92|       16.5|  0.5|    0.5|         0|           0|     none|                  0.3|        17.8|           2|        1|                   0|\n",
      "|       2|  2019-09-0100:13:57|   2019-09-0100:34:04|                 n|         1|         223|         137|              1|         5.05|       18.5|  0.5|    0.5|         0|           0|     none|                  0.3|       22.55|           2|        1|                2.75|\n",
      "+--------+--------------------+---------------------+------------------+----------+------------+------------+---------------+-------------+-----------+-----+-------+----------+------------+---------+---------------------+------------+------------+---------+--------------------+\n",
      "only showing top 20 rows\n",
      "\n",
      "Cleaned DataFrame 3:\n",
      "+--------+--------------------+---------------------+------------------+----------+------------+------------+---------------+-------------+-----------+-----+-------+----------+------------+---------+---------------------+------------+------------+---------+--------------------+\n",
      "|vendorid|lpep_pickup_datetime|lpep_dropoff_datetime|store_and_fwd_flag|ratecodeid|pulocationid|dolocationid|passenger_count|trip_distance|fare_amount|extra|mta_tax|tip_amount|tolls_amount|ehail_fee|improvement_surcharge|total_amount|payment_type|trip_type|congestion_surcharge|\n",
      "+--------+--------------------+---------------------+------------------+----------+------------+------------+---------------+-------------+-----------+-----+-------+----------+------------+---------+---------------------+------------+------------+---------+--------------------+\n",
      "|       2|  2019-10-0100:26:02|   2019-10-0100:39:58|                 n|         1|         112|         196|              1|         5.88|         18|  0.5|    0.5|         0|           0|     none|                  0.3|        19.3|           2|        1|                   0|\n",
      "|       1|  2019-10-0100:18:11|   2019-10-0100:22:38|                 n|         1|          43|         263|              1|          .80|          5| 3.25|    0.5|         0|           0|     none|                  0.3|        9.05|           2|        1|                   0|\n",
      "|       1|  2019-10-0100:09:31|   2019-10-0100:24:47|                 n|         1|         255|         228|              2|         7.50|       21.5|  0.5|    0.5|         0|           0|     none|                  0.3|        22.8|           2|        1|                   0|\n",
      "|       1|  2019-10-0100:37:40|   2019-10-0100:41:49|                 n|         1|         181|         181|              1|          .90|        5.5|  0.5|    0.5|         0|           0|     none|                  0.3|         6.8|           2|        1|                   0|\n",
      "|       2|  2019-10-0100:08:13|   2019-10-0100:17:56|                 n|         1|          97|         188|              1|         2.52|         10|  0.5|    0.5|      2.26|           0|     none|                  0.3|       13.56|           1|        1|                   0|\n",
      "|       2|  2019-10-0100:35:01|   2019-10-0100:43:40|                 n|         1|          65|          49|              1|         1.47|          8|  0.5|    0.5|      1.86|           0|     none|                  0.3|       11.16|           1|        1|                   0|\n",
      "|       1|  2019-10-0100:28:09|   2019-10-0100:30:49|                 n|         1|           7|         179|              1|          .60|          4|  0.5|    0.5|         1|           0|     none|                  0.3|         6.3|           1|        1|                   0|\n",
      "|       2|  2019-10-0100:28:26|   2019-10-0100:32:01|                 n|         1|          41|          74|              1|          .56|        4.5|  0.5|    0.5|         0|           0|     none|                  0.3|         5.8|           2|        1|                   0|\n",
      "|       2|  2019-10-0100:14:01|   2019-10-0100:26:16|                 n|         1|         255|          49|              1|         2.42|       10.5|  0.5|    0.5|         0|           0|     none|                  0.3|        11.8|           2|        1|                   0|\n",
      "|       1|  2019-10-0100:03:03|   2019-10-0100:17:13|                 y|         1|         130|         131|              1|         3.40|         13|  0.5|    0.5|      2.85|           0|     none|                  0.3|       17.15|           1|        1|                   0|\n",
      "|       2|  2019-10-0100:07:10|   2019-10-0100:23:38|                 n|         1|          24|          74|              3|         3.18|       13.5|  0.5|    0.5|         0|           0|     none|                  0.3|        14.8|           2|        1|                   0|\n",
      "|       1|  2019-10-0100:25:48|   2019-10-0100:49:52|                 n|         1|         255|         188|              1|         4.70|         18|  0.5|    0.5|         1|           0|     none|                  0.3|        20.3|           1|        1|                   0|\n",
      "|       1|  2019-10-0100:03:12|   2019-10-0100:14:43|                 n|         1|         129|         160|              1|         3.10|       10.5|  0.5|    0.5|         0|           0|     none|                  0.3|        11.8|           2|        1|                   0|\n",
      "|       2|  2019-10-0100:44:56|   2019-10-0100:51:06|                 n|         5|          18|         169|              1|         1.19|         10|    0|      0|      0.25|           0|     none|                    0|       10.25|           1|        2|                   0|\n",
      "|       2|  2019-10-0100:55:14|   2019-10-0101:00:49|                 n|         1|         223|           7|              1|         1.09|          6|  0.5|    0.5|      1.46|           0|     none|                  0.3|        8.76|           1|        1|                   0|\n",
      "|       2|  2019-10-0100:06:06|   2019-10-0100:11:05|                 n|         1|          75|         262|              1|         1.24|          6|  0.5|    0.5|      2.01|           0|     none|                  0.3|       12.06|           1|        1|                2.75|\n",
      "|       2|  2019-10-0100:00:19|   2019-10-0100:14:32|                 n|         1|          97|         228|              1|         3.03|         13|  0.5|    0.5|      3.58|           0|     none|                  0.3|       17.88|           1|        1|                   0|\n",
      "|       2|  2019-10-0100:09:31|   2019-10-0100:20:41|                 n|         1|          41|          74|              1|         2.03|        9.5|  0.5|    0.5|      2.16|           0|     none|                  0.3|       12.96|           1|        1|                   0|\n",
      "|       2|  2019-10-0100:30:36|   2019-10-0100:34:30|                 n|         1|          41|          42|              1|          .73|          5|  0.5|    0.5|      1.26|           0|     none|                  0.3|        7.56|           1|        1|                   0|\n",
      "|       2|  2019-10-0100:58:32|   2019-10-0101:05:08|                 n|         1|          41|         116|              1|         1.48|        7.5|  0.5|    0.5|         0|           0|     none|                  0.3|         8.8|           2|        1|                   0|\n",
      "+--------+--------------------+---------------------+------------------+----------+------------+------------+---------------+-------------+-----------+-----+-------+----------+------------+---------+---------------------+------------+------------+---------+--------------------+\n",
      "only showing top 20 rows\n",
      "\n",
      "Cleaned DataFrame 4:\n",
      "+--------+--------------------+---------------------+------------------+----------+------------+------------+---------------+-------------+-----------+-----+-------+----------+------------+---------+---------------------+------------+------------+---------+--------------------+\n",
      "|vendorid|lpep_pickup_datetime|lpep_dropoff_datetime|store_and_fwd_flag|ratecodeid|pulocationid|dolocationid|passenger_count|trip_distance|fare_amount|extra|mta_tax|tip_amount|tolls_amount|ehail_fee|improvement_surcharge|total_amount|payment_type|trip_type|congestion_surcharge|\n",
      "+--------+--------------------+---------------------+------------------+----------+------------+------------+---------------+-------------+-----------+-----+-------+----------+------------+---------+---------------------+------------+------------+---------+--------------------+\n",
      "|       2|  2019-11-0100:11:24|   2019-11-0100:23:12|                 n|         1|          66|         148|              1|         2.80|       11.5|  0.5|    0.5|      3.11|           0|     none|                  0.3|       18.66|           1|        1|                2.75|\n",
      "|       2|  2019-11-0100:49:25|   2019-11-0101:14:19|                 n|         1|         145|         114|              1|         5.59|         20|  0.5|    0.5|      6.03|        6.12|     none|                  0.3|        36.2|           1|        1|                2.75|\n",
      "|       1|  2019-11-0100:57:22|   2019-11-0101:09:23|                 n|         1|         255|          37|              1|         2.10|         10|  0.5|    0.5|      2.25|           0|     none|                  0.3|       13.55|           1|        1|                   0|\n",
      "|       2|  2019-11-0100:59:52|   2019-11-0101:08:19|                 n|         1|           7|         226|              1|         1.23|        7.5|  0.5|    0.5|         0|           0|     none|                  0.3|         8.8|           2|        1|                   0|\n",
      "|       2|  2019-11-0100:40:13|   2019-11-0100:47:41|                 n|         1|         129|         129|              1|         1.18|          7|  0.5|    0.5|         0|           0|     none|                  0.3|         8.3|           2|        1|                   0|\n",
      "|       2|  2019-11-0100:42:30|   2019-11-0100:50:41|                 n|         1|           7|         223|              1|         2.34|          9|  0.5|    0.5|         0|           0|     none|                  0.3|        10.3|           2|        1|                   0|\n",
      "|       2|  2019-11-0100:58:20|   2019-11-0101:02:01|                 n|         1|         223|           7|              1|          .96|          5|  0.5|    0.5|         0|           0|     none|                  0.3|         6.3|           2|        1|                   0|\n",
      "|       2|  2019-11-0100:09:35|   2019-11-0100:28:55|                 n|         1|          49|         113|              1|         5.01|       17.5|  0.5|    0.5|         0|           0|     none|                  0.3|       21.55|           2|        1|                2.75|\n",
      "|       2|  2019-11-0100:27:50|   2019-11-0100:35:45|                 n|         1|         166|          43|              1|         2.06|        8.5|  0.5|    0.5|      0.49|           0|     none|                  0.3|       10.29|           1|        1|                   0|\n",
      "|       2|  2019-11-0100:57:28|   2019-11-0101:04:16|                 n|         1|          42|         116|              1|         1.57|          7|  0.5|    0.5|         0|           0|     none|                  0.3|         8.3|           2|        1|                   0|\n",
      "|       2|  2019-11-0100:16:53|   2019-11-0100:23:33|                 n|         1|         116|         244|              3|         1.50|        7.5|  0.5|    0.5|         1|           0|     none|                  0.3|         9.8|           1|        1|                   0|\n",
      "|       1|  2019-11-0100:42:25|   2019-11-0100:59:59|                 n|         1|          82|          16|              1|         8.40|       24.5|  0.5|    0.5|         0|           0|     none|                  0.3|        25.8|           2|        1|                   0|\n",
      "|       1|  2019-11-0100:13:55|   2019-11-0100:20:51|                 n|         1|          42|          41|              1|         1.20|          7|  0.5|    0.5|         0|           0|     none|                  0.3|         8.3|           2|        1|                   0|\n",
      "|       1|  2019-11-0100:34:44|   2019-11-0100:37:39|                 n|         1|          42|          41|              1|          .60|        4.5|  0.5|    0.5|         0|           0|     none|                  0.3|         5.8|           2|        1|                   0|\n",
      "|       1|  2019-11-0100:42:17|   2019-11-0100:52:48|                 n|         1|          41|         244|              1|         2.20|         10|  0.5|    0.5|         0|           0|     none|                  0.3|        11.3|           2|        1|                   0|\n",
      "|       2|  2019-11-0100:06:54|   2019-11-0100:10:55|                 n|         1|         129|         129|              1|          .84|          5|  0.5|    0.5|         0|           0|     none|                  0.3|         6.3|           2|        1|                   0|\n",
      "|       2|  2019-11-0100:25:36|   2019-11-0100:39:50|                 n|         1|          83|         173|              1|         2.21|       10.5|  0.5|    0.5|         0|           0|     none|                  0.3|        11.8|           1|        1|                   0|\n",
      "|       1|  2019-11-0100:20:56|   2019-11-0100:30:15|                 n|         1|         256|         148|              1|         2.50|         10| 3.25|    0.5|         0|           0|     none|                  0.3|       14.05|           2|        1|                2.75|\n",
      "|       1|  2019-11-0100:19:27|   2019-11-0100:26:08|                 n|         1|          65|         181|              1|         1.10|        6.5|  0.5|    0.5|      1.95|           0|     none|                  0.3|        9.75|           1|        1|                   0|\n",
      "|       1|  2019-11-0100:38:06|   2019-11-0100:43:31|                 n|         1|          97|          49|              1|         1.30|          6|  0.5|    0.5|      1.45|           0|     none|                  0.3|        8.75|           1|        1|                   0|\n",
      "+--------+--------------------+---------------------+------------------+----------+------------+------------+---------------+-------------+-----------+-----+-------+----------+------------+---------+---------------------+------------+------------+---------+--------------------+\n",
      "only showing top 20 rows\n",
      "\n",
      "Cleaned DataFrame 5:\n",
      "+--------+--------------------+---------------------+------------------+----------+------------+------------+---------------+-------------+-----------+-----+-------+----------+------------+---------+---------------------+------------+------------+---------+--------------------+\n",
      "|vendorid|lpep_pickup_datetime|lpep_dropoff_datetime|store_and_fwd_flag|ratecodeid|pulocationid|dolocationid|passenger_count|trip_distance|fare_amount|extra|mta_tax|tip_amount|tolls_amount|ehail_fee|improvement_surcharge|total_amount|payment_type|trip_type|congestion_surcharge|\n",
      "+--------+--------------------+---------------------+------------------+----------+------------+------------+---------------+-------------+-----------+-----+-------+----------+------------+---------+---------------------+------------+------------+---------+--------------------+\n",
      "|       1|  2019-12-0100:09:45|   2019-12-0100:10:59|                 n|         1|         145|         145|              1|          .00|          3|  0.5|    0.5|         0|           0|     none|                  0.3|         4.3|           2|        1|                   0|\n",
      "|       2|  2019-12-0100:26:05|   2019-12-0100:31:30|                 n|         1|          24|          41|              1|          .67|        5.5|  0.5|    0.5|      2.04|           0|     none|                  0.3|        8.84|           1|        1|                   0|\n",
      "|       2|  2019-12-0100:56:36|   2019-12-0100:59:38|                 n|         1|          74|          41|              1|          .61|        4.5|  0.5|    0.5|         0|           0|     none|                  0.3|         5.8|           2|        1|                   0|\n",
      "|       2|  2019-12-0100:26:20|   2019-12-0100:40:19|                 n|         1|         255|         157|              1|         3.90|         14|  0.5|    0.5|         0|           0|     none|                  0.3|        15.3|           2|        1|                   0|\n",
      "|       2|  2019-12-0100:56:36|   2019-12-0100:59:56|                 n|         1|          80|         255|              1|          .50|        4.5|  0.5|    0.5|         0|           0|     none|                  0.3|         5.8|           2|        1|                   0|\n",
      "|       1|  2019-12-0100:14:28|   2019-12-0100:19:39|                 n|         1|          21|         123|              1|         1.10|          6|  0.5|    0.5|         0|           0|     none|                  0.3|         7.3|           2|        1|                   0|\n",
      "|       1|  2019-12-0100:45:54|   2019-12-0100:52:46|                 n|         1|         181|         228|              1|         1.50|        7.5|  0.5|    0.5|         0|           0|     none|                  0.3|         8.8|           2|        1|                   0|\n",
      "|       2|  2019-12-0100:25:35|   2019-12-0101:04:08|                 n|         1|           7|          53|              1|         7.42|         30|  0.5|    0.5|         0|           0|     none|                  0.3|        31.3|           2|        1|                   0|\n",
      "|       1|  2019-12-0100:43:12|   2019-12-0100:56:44|                 n|         1|          75|         223|              1|         5.30|       16.5|  0.5|    0.5|         0|        6.12|     none|                  0.3|       23.92|           2|        1|                   0|\n",
      "|       2|  2019-12-0100:56:08|   2019-12-0101:05:11|                 n|         1|         112|         232|              1|         2.64|         10|  0.5|    0.5|      2.81|           0|     none|                  0.3|       16.86|           1|        1|                2.75|\n",
      "|       2|  2019-12-0100:10:32|   2019-12-0100:34:48|                 n|         1|          97|         227|              5|         3.85|         18|  0.5|    0.5|       2.9|           0|     none|                  0.3|        22.2|           1|        1|                   0|\n",
      "|       2|  2019-12-0100:16:41|   2019-12-0100:20:42|                 n|         1|         129|         260|              1|          .68|        4.5|  0.5|    0.5|         0|           0|     none|                  0.3|         5.8|           2|        1|                   0|\n",
      "|       2|  2019-12-0100:04:57|   2019-12-0100:06:22|                 n|         1|           7|           7|              1|          .04|          3|  0.5|    0.5|         0|           0|     none|                  0.3|         4.3|           2|        1|                   0|\n",
      "|       2|  2019-12-0100:32:08|   2019-12-0100:44:06|                 n|         1|         223|         129|              1|         2.97|       11.5|  0.5|    0.5|         1|           0|     none|                  0.3|        13.8|           1|        1|                   0|\n",
      "|       2|  2019-12-0100:13:31|   2019-12-0100:22:38|                 n|         1|         223|           7|              1|         1.60|          8|  0.5|    0.5|      2.32|           0|     none|                  0.3|       11.62|           1|        1|                   0|\n",
      "|       2|  2019-12-0100:09:15|   2019-12-0100:14:28|                 n|         1|         255|         255|              1|          .63|          5|  0.5|    0.5|      1.26|           0|     none|                  0.3|        7.56|           1|        1|                   0|\n",
      "|       2|  2019-12-0100:12:29|   2019-12-0100:27:39|                 n|         1|          75|         116|              1|         3.66|       13.5|  0.5|    0.5|      2.96|           0|     none|                  0.3|       17.76|           1|        1|                   0|\n",
      "|       1|  2019-12-0100:30:08|   2019-12-0100:33:24|                 n|         1|          42|          42|              1|          .50|        4.5|  0.5|    0.5|         0|           0|     none|                  0.3|         5.8|           2|        1|                   0|\n",
      "|       1|  2019-12-0100:43:11|   2019-12-0100:51:47|                 n|         1|          42|         152|              1|         1.60|          8|  0.5|    0.5|         0|           0|     none|                  0.3|         9.3|           2|        1|                   0|\n",
      "|       1|  2019-12-0100:55:42|   2019-12-0100:57:50|                 n|         1|         116|         116|              1|          .30|        3.5|  0.5|    0.5|         0|           0|     none|                  0.3|         4.8|           2|        1|                   0|\n",
      "+--------+--------------------+---------------------+------------------+----------+------------+------------+---------------+-------------+-----------+-----+-------+----------+------------+---------+---------------------+------------+------------+---------+--------------------+\n",
      "only showing top 20 rows\n",
      "\n"
     ]
    }
   ],
   "source": [
    "from pyspark.sql import SparkSession\n",
    "from pyspark.sql.functions import col, udf\n",
    "from pyspark.sql.types import StringType\n",
    "import re\n",
    "\n",
    "cleaned_dataframes = []\n",
    "\n",
    "def clean_and_lower_string(input_string):\n",
    "    # Remove invalid characters and convert to lowercase\n",
    "    cleaned_string = re.sub(r'[ ,;{}()\\n\\t=]', '', str(input_string)).lower()\n",
    "    return cleaned_string\n",
    "\n",
    "# Assuming you have a list of DataFrames named dataframes\n",
    "for i, df in enumerate(dataframes):\n",
    "    column_names = df.columns\n",
    "\n",
    "    # Create a UDF for the clean_and_lower_string function\n",
    "    clean_and_lower_udf = udf(clean_and_lower_string, StringType())\n",
    "\n",
    "    # Apply the UDF to each column name and create a new DataFrame with cleaned column names\n",
    "    cleaned_df = df.select([clean_and_lower_udf(col(column)).alias(clean_and_lower_string(column)) for column in column_names])\n",
    "\n",
    "    cleaned_dataframes.append(cleaned_df)\n",
    "\n",
    "    # Show the cleaned DataFrame\n",
    "    print(f\"Cleaned DataFrame {i+1}:\")\n",
    "    cleaned_df.show()\n",
    "\n"
   ]
  },
  {
   "cell_type": "code",
   "execution_count": null,
   "metadata": {
    "application/vnd.databricks.v1+cell": {
     "cellMetadata": {
      "byteLimit": 2048000,
      "rowLimit": 10000
     },
     "inputWidgets": {},
     "nuid": "b9589dfb-c5be-4d34-a69f-8bbf8056a76d",
     "showTitle": false,
     "title": ""
    }
   },
   "outputs": [
    {
     "name": "stdout",
     "output_type": "stream",
     "text": [
      "+--------+--------------------+---------------------+------------------+----------+------------+------------+---------------+-------------+-----------+-----+-------+----------+------------+---------+---------------------+------------+------------+---------+--------------------+\n",
      "|vendorid|lpep_pickup_datetime|lpep_dropoff_datetime|store_and_fwd_flag|ratecodeid|pulocationid|dolocationid|passenger_count|trip_distance|fare_amount|extra|mta_tax|tip_amount|tolls_amount|ehail_fee|improvement_surcharge|total_amount|payment_type|trip_type|congestion_surcharge|\n",
      "+--------+--------------------+---------------------+------------------+----------+------------+------------+---------------+-------------+-----------+-----+-------+----------+------------+---------+---------------------+------------+------------+---------+--------------------+\n",
      "|       2|  2019-08-0100:22:12|   2019-08-0100:22:38|                 n|         1|         145|         145|              1|          .00|        2.5|    0|    0.5|         0|           0|     none|                  0.3|         3.3|           2|        1|                   0|\n",
      "|       2|  2019-08-0100:11:35|   2019-08-0100:25:53|                 n|         1|          66|          49|              5|         2.55|       11.5|  0.5|    0.5|      2.56|           0|     none|                  0.3|       15.36|           1|        1|                   0|\n",
      "|       2|  2019-08-0100:56:09|   2019-08-0101:12:02|                 n|         1|          65|          68|              1|         4.33|       15.5|  0.5|    0.5|         2|           0|     none|                  0.3|       21.55|           1|        1|                2.75|\n",
      "|       2|  2019-07-3123:59:42|   2019-08-0100:11:44|                 n|         1|          25|         133|              1|         3.85|         13|  0.5|    0.5|         2|           0|     none|                  0.3|        16.3|           1|        1|                   0|\n",
      "|       1|  2019-08-0100:20:34|   2019-08-0100:28:44|                 n|         1|          75|         263|              1|         1.30|        7.5| 3.25|    0.5|         1|           0|     none|                  0.3|       12.55|           1|        1|                2.75|\n",
      "|       2|  2019-08-0100:29:16|   2019-08-0100:46:21|                 n|         1|          65|         198|              1|         5.25|       17.5|  0.5|    0.5|         2|           0|     none|                  0.3|        20.8|           1|        1|                   0|\n",
      "|       2|  2019-08-0100:10:14|   2019-08-0100:24:29|                 n|         1|         146|          75|              1|         4.83|       15.5|  0.5|    0.5|         0|           0|     none|                  0.3|       19.55|           2|        1|                2.75|\n",
      "|       2|  2019-08-0100:10:23|   2019-08-0100:13:37|                 n|         1|         166|          41|              1|          .85|          5|  0.5|    0.5|         0|           0|     none|                  0.3|         6.3|           2|        1|                   0|\n",
      "|       1|  2019-08-0100:03:44|   2019-08-0100:07:14|                 n|         1|           7|         226|              1|          .80|          5|  0.5|    0.5|      1.26|           0|     none|                  0.3|        7.56|           1|        1|                   0|\n",
      "|       1|  2019-08-0100:15:27|   2019-08-0100:24:37|                 n|         1|           7|         226|              1|         1.60|        8.5|  0.5|    0.5|         0|           0|     none|                  0.3|         9.8|           2|        1|                   0|\n",
      "|       2|  2019-08-0100:47:27|   2019-08-0101:00:23|                 n|         1|         145|          83|              1|         2.92|       11.5|  0.5|    0.5|         0|           0|     none|                  0.3|        12.8|           2|        1|                   0|\n",
      "|       2|  2019-08-0100:20:36|   2019-08-0100:22:51|                 n|         1|          92|          92|              1|          .43|        3.5|  0.5|    0.5|         0|           0|     none|                  0.3|         4.8|           2|        1|                   0|\n",
      "|       2|  2019-08-0100:18:42|   2019-08-0100:24:35|                 n|         1|         106|         181|              5|         1.00|          6|  0.5|    0.5|      1.46|           0|     none|                  0.3|        8.76|           1|        1|                   0|\n",
      "|       1|  2019-08-0100:41:32|   2019-08-0100:55:43|                 n|         5|          42|         167|              1|         2.50|          0|    0|      0|         0|           0|     none|                    0|           0|           4|        2|                   0|\n",
      "|       2|  2019-08-0100:10:00|   2019-08-0100:28:34|                 n|         1|          42|          48|              1|         4.86|       17.5|  0.5|    0.5|         0|           0|     none|                  0.3|       21.55|           2|        1|                2.75|\n",
      "|       2|  2019-08-0100:24:52|   2019-08-0100:47:17|                 n|         1|          41|         107|              1|         5.62|       19.5|  0.5|    0.5|         0|           0|     none|                  0.3|       23.55|           2|        1|                2.75|\n",
      "|       1|  2019-08-0100:13:05|   2019-08-0100:20:29|                 n|         1|         179|         193|              2|         1.50|        7.5|  0.5|    0.5|         0|           0|     none|                  0.3|         8.8|           2|        1|                   0|\n",
      "|       1|  2019-08-0100:41:16|   2019-08-0100:41:32|                 n|         1|          41|          41|              1|          .10|        2.5|  0.5|    0.5|         0|           0|     none|                  0.3|         3.8|           2|        1|                   0|\n",
      "|       1|  2019-08-0100:45:54|   2019-08-0100:48:31|                 n|         1|          74|          75|              1|          .90|        4.5|  0.5|    0.5|         0|           0|     none|                  0.3|         5.8|           1|        1|                   0|\n",
      "|       2|  2019-08-0100:54:48|   2019-08-0101:06:55|                 n|         1|          52|          62|              1|         2.94|       11.5|  0.5|    0.5|      2.56|           0|     none|                  0.3|       15.36|           1|        1|                   0|\n",
      "+--------+--------------------+---------------------+------------------+----------+------------+------------+---------------+-------------+-----------+-----+-------+----------+------------+---------+---------------------+------------+------------+---------+--------------------+\n",
      "only showing top 20 rows\n",
      "\n"
     ]
    }
   ],
   "source": [
    "from pyspark.sql import SparkSession\n",
    "from pyspark.sql.functions import col, udf\n",
    "from pyspark.sql.types import StringType\n",
    "import re\n",
    "\n",
    "\n",
    "# Merge DataFrames using union\n",
    "merged_cleaned_df = None\n",
    "for df in cleaned_dataframes:\n",
    "    if merged_cleaned_df is None:\n",
    "        merged_cleaned_df = df\n",
    "    else:\n",
    "        merged_cleaned_df = merged_cleaned_df.union(df)\n",
    "\n",
    "# Show the merged cleaned DataFrame\n",
    "merged_cleaned_df.show()"
   ]
  },
  {
   "cell_type": "code",
   "execution_count": null,
   "metadata": {
    "application/vnd.databricks.v1+cell": {
     "cellMetadata": {
      "byteLimit": 2048000,
      "rowLimit": 10000
     },
     "inputWidgets": {},
     "nuid": "3dd65225-fc3f-4435-9d6c-e73c3eda8b29",
     "showTitle": false,
     "title": ""
    }
   },
   "outputs": [
    {
     "name": "stdout",
     "output_type": "stream",
     "text": [
      "+--------+--------------------+---------------------+------------------+----------+------------+------------+---------------+-------------+-----------+-----+-------+----------+------------+---------+---------------------+------------+------------+---------+--------------------+\n",
      "|vendorid|lpep_pickup_datetime|lpep_dropoff_datetime|store_and_fwd_flag|ratecodeid|pulocationid|dolocationid|passenger_count|trip_distance|fare_amount|extra|mta_tax|tip_amount|tolls_amount|ehail_fee|improvement_surcharge|total_amount|payment_type|trip_type|congestion_surcharge|\n",
      "+--------+--------------------+---------------------+------------------+----------+------------+------------+---------------+-------------+-----------+-----+-------+----------+------------+---------+---------------------+------------+------------+---------+--------------------+\n",
      "|       2|  2019-08-0100:22:12|   2019-08-0100:22:38|                 n|         1|         145|         145|              1|          .00|        2.5|    0|    0.5|         0|           0|     none|                  0.3|         3.3|           2|        1|                   0|\n",
      "|       2|  2019-08-0100:11:35|   2019-08-0100:25:53|                 n|         1|          66|          49|              5|         2.55|       11.5|  0.5|    0.5|      2.56|           0|     none|                  0.3|       15.36|           1|        1|                   0|\n",
      "|       2|  2019-08-0100:56:09|   2019-08-0101:12:02|                 n|         1|          65|          68|              1|         4.33|       15.5|  0.5|    0.5|         2|           0|     none|                  0.3|       21.55|           1|        1|                2.75|\n",
      "|       2|  2019-07-3123:59:42|   2019-08-0100:11:44|                 n|         1|          25|         133|              1|         3.85|         13|  0.5|    0.5|         2|           0|     none|                  0.3|        16.3|           1|        1|                   0|\n",
      "|       1|  2019-08-0100:20:34|   2019-08-0100:28:44|                 n|         1|          75|         263|              1|         1.30|        7.5| 3.25|    0.5|         1|           0|     none|                  0.3|       12.55|           1|        1|                2.75|\n",
      "|       2|  2019-08-0100:29:16|   2019-08-0100:46:21|                 n|         1|          65|         198|              1|         5.25|       17.5|  0.5|    0.5|         2|           0|     none|                  0.3|        20.8|           1|        1|                   0|\n",
      "|       2|  2019-08-0100:10:14|   2019-08-0100:24:29|                 n|         1|         146|          75|              1|         4.83|       15.5|  0.5|    0.5|         0|           0|     none|                  0.3|       19.55|           2|        1|                2.75|\n",
      "|       2|  2019-08-0100:10:23|   2019-08-0100:13:37|                 n|         1|         166|          41|              1|          .85|          5|  0.5|    0.5|         0|           0|     none|                  0.3|         6.3|           2|        1|                   0|\n",
      "|       1|  2019-08-0100:03:44|   2019-08-0100:07:14|                 n|         1|           7|         226|              1|          .80|          5|  0.5|    0.5|      1.26|           0|     none|                  0.3|        7.56|           1|        1|                   0|\n",
      "|       1|  2019-08-0100:15:27|   2019-08-0100:24:37|                 n|         1|           7|         226|              1|         1.60|        8.5|  0.5|    0.5|         0|           0|     none|                  0.3|         9.8|           2|        1|                   0|\n",
      "|       2|  2019-08-0100:47:27|   2019-08-0101:00:23|                 n|         1|         145|          83|              1|         2.92|       11.5|  0.5|    0.5|         0|           0|     none|                  0.3|        12.8|           2|        1|                   0|\n",
      "|       2|  2019-08-0100:20:36|   2019-08-0100:22:51|                 n|         1|          92|          92|              1|          .43|        3.5|  0.5|    0.5|         0|           0|     none|                  0.3|         4.8|           2|        1|                   0|\n",
      "|       2|  2019-08-0100:18:42|   2019-08-0100:24:35|                 n|         1|         106|         181|              5|         1.00|          6|  0.5|    0.5|      1.46|           0|     none|                  0.3|        8.76|           1|        1|                   0|\n",
      "|       1|  2019-08-0100:41:32|   2019-08-0100:55:43|                 n|         5|          42|         167|              1|         2.50|          0|    0|      0|         0|           0|     none|                    0|           0|           4|        2|                   0|\n",
      "|       2|  2019-08-0100:10:00|   2019-08-0100:28:34|                 n|         1|          42|          48|              1|         4.86|       17.5|  0.5|    0.5|         0|           0|     none|                  0.3|       21.55|           2|        1|                2.75|\n",
      "|       2|  2019-08-0100:24:52|   2019-08-0100:47:17|                 n|         1|          41|         107|              1|         5.62|       19.5|  0.5|    0.5|         0|           0|     none|                  0.3|       23.55|           2|        1|                2.75|\n",
      "|       1|  2019-08-0100:13:05|   2019-08-0100:20:29|                 n|         1|         179|         193|              2|         1.50|        7.5|  0.5|    0.5|         0|           0|     none|                  0.3|         8.8|           2|        1|                   0|\n",
      "|       1|  2019-08-0100:41:16|   2019-08-0100:41:32|                 n|         1|          41|          41|              1|          .10|        2.5|  0.5|    0.5|         0|           0|     none|                  0.3|         3.8|           2|        1|                   0|\n",
      "|       1|  2019-08-0100:45:54|   2019-08-0100:48:31|                 n|         1|          74|          75|              1|          .90|        4.5|  0.5|    0.5|         0|           0|     none|                  0.3|         5.8|           1|        1|                   0|\n",
      "|       2|  2019-08-0100:54:48|   2019-08-0101:06:55|                 n|         1|          52|          62|              1|         2.94|       11.5|  0.5|    0.5|      2.56|           0|     none|                  0.3|       15.36|           1|        1|                   0|\n",
      "+--------+--------------------+---------------------+------------------+----------+------------+------------+---------------+-------------+-----------+-----+-------+----------+------------+---------+---------------------+------------+------------+---------+--------------------+\n",
      "only showing top 20 rows\n",
      "\n"
     ]
    }
   ],
   "source": [
    "# Assuming you have a DataFrame named merged_cleaned_df\n",
    "merged_cleaned_df.createOrReplaceTempView(\"my_temp_view\")\n",
    "\n",
    "# Now you can use SQL queries on the temporary view\n",
    "spark.sql(\"SELECT * FROM my_temp_view\").show()"
   ]
  },
  {
   "cell_type": "code",
   "execution_count": null,
   "metadata": {
    "application/vnd.databricks.v1+cell": {
     "cellMetadata": {
      "byteLimit": 2048000,
      "rowLimit": 10000
     },
     "inputWidgets": {},
     "nuid": "d41b043c-b624-4266-8b4b-e72718acbcb7",
     "showTitle": false,
     "title": ""
    }
   },
   "outputs": [
    {
     "name": "stdout",
     "output_type": "stream",
     "text": [
      "Out[6]: DataFrame[vendorid: string, lpep_pickup_datetime: string, lpep_dropoff_datetime: string, store_and_fwd_flag: string, ratecodeid: string, pulocationid: string, dolocationid: string, passenger_count: string, trip_distance: string, fare_amount: string, extra: string, mta_tax: string, tip_amount: string, tolls_amount: string, ehail_fee: string, improvement_surcharge: string, total_amount: string, payment_type: string, trip_type: string, congestion_surcharge: string]"
     ]
    }
   ],
   "source": [
    "from delta import DeltaTable\n",
    "\n",
    "spark.sql(\"SELECT * FROM my_temp_view\")\n",
    "\n",
    "# Create a Delta table using CTAS\n",
    "spark.sql('''\n",
    "    CREATE TABLE bronze_green_trip_data4\n",
    "    USING delta\n",
    "    AS\n",
    "    SELECT *\n",
    "    FROM my_temp_view\n",
    "''')\n",
    "\n",
    "spark.sql('''SELECT *\n",
    "    FROM my_temp_view''')\n",
    "\n"
   ]
  },
  {
   "cell_type": "code",
   "execution_count": null,
   "metadata": {
    "application/vnd.databricks.v1+cell": {
     "cellMetadata": {
      "byteLimit": 2048000,
      "rowLimit": 10000
     },
     "inputWidgets": {},
     "nuid": "5ae5561a-aec4-4db0-88a2-81d2f4ccaa9f",
     "showTitle": false,
     "title": ""
    }
   },
   "outputs": [
    {
     "data": {
      "text/plain": [
       "\u001b[0;31m---------------------------------------------------------------------------\u001b[0m\n",
       "\u001b[0;31mAnalysisException\u001b[0m                         Traceback (most recent call last)\n",
       "File \u001b[0;32m<command-2059692673858777>:1\u001b[0m\n",
       "\u001b[0;32m----> 1\u001b[0m result \u001b[38;5;241m=\u001b[39m spark\u001b[38;5;241m.\u001b[39msql(\u001b[38;5;124m\"\u001b[39m\u001b[38;5;124mSELECT * FROM bronze_green_trip_data4 WHERE columntripdistance is null\u001b[39m\u001b[38;5;124m\"\u001b[39m)\n",
       "\u001b[1;32m      2\u001b[0m result\u001b[38;5;241m.\u001b[39mshow()\n",
       "\n",
       "File \u001b[0;32m/databricks/spark/python/pyspark/instrumentation_utils.py:48\u001b[0m, in \u001b[0;36m_wrap_function.<locals>.wrapper\u001b[0;34m(*args, **kwargs)\u001b[0m\n",
       "\u001b[1;32m     46\u001b[0m start \u001b[38;5;241m=\u001b[39m time\u001b[38;5;241m.\u001b[39mperf_counter()\n",
       "\u001b[1;32m     47\u001b[0m \u001b[38;5;28;01mtry\u001b[39;00m:\n",
       "\u001b[0;32m---> 48\u001b[0m     res \u001b[38;5;241m=\u001b[39m \u001b[43mfunc\u001b[49m\u001b[43m(\u001b[49m\u001b[38;5;241;43m*\u001b[39;49m\u001b[43margs\u001b[49m\u001b[43m,\u001b[49m\u001b[43m \u001b[49m\u001b[38;5;241;43m*\u001b[39;49m\u001b[38;5;241;43m*\u001b[39;49m\u001b[43mkwargs\u001b[49m\u001b[43m)\u001b[49m\n",
       "\u001b[1;32m     49\u001b[0m     logger\u001b[38;5;241m.\u001b[39mlog_success(\n",
       "\u001b[1;32m     50\u001b[0m         module_name, class_name, function_name, time\u001b[38;5;241m.\u001b[39mperf_counter() \u001b[38;5;241m-\u001b[39m start, signature\n",
       "\u001b[1;32m     51\u001b[0m     )\n",
       "\u001b[1;32m     52\u001b[0m     \u001b[38;5;28;01mreturn\u001b[39;00m res\n",
       "\n",
       "File \u001b[0;32m/databricks/spark/python/pyspark/sql/session.py:1387\u001b[0m, in \u001b[0;36mSparkSession.sql\u001b[0;34m(self, sqlQuery, args, **kwargs)\u001b[0m\n",
       "\u001b[1;32m   1385\u001b[0m \u001b[38;5;28;01mtry\u001b[39;00m:\n",
       "\u001b[1;32m   1386\u001b[0m     litArgs \u001b[38;5;241m=\u001b[39m {k: _to_java_column(lit(v)) \u001b[38;5;28;01mfor\u001b[39;00m k, v \u001b[38;5;129;01min\u001b[39;00m (args \u001b[38;5;129;01mor\u001b[39;00m {})\u001b[38;5;241m.\u001b[39mitems()}\n",
       "\u001b[0;32m-> 1387\u001b[0m     \u001b[38;5;28;01mreturn\u001b[39;00m DataFrame(\u001b[38;5;28;43mself\u001b[39;49m\u001b[38;5;241;43m.\u001b[39;49m\u001b[43m_jsparkSession\u001b[49m\u001b[38;5;241;43m.\u001b[39;49m\u001b[43msql\u001b[49m\u001b[43m(\u001b[49m\u001b[43msqlQuery\u001b[49m\u001b[43m,\u001b[49m\u001b[43m \u001b[49m\u001b[43mlitArgs\u001b[49m\u001b[43m)\u001b[49m, \u001b[38;5;28mself\u001b[39m)\n",
       "\u001b[1;32m   1388\u001b[0m \u001b[38;5;28;01mfinally\u001b[39;00m:\n",
       "\u001b[1;32m   1389\u001b[0m     \u001b[38;5;28;01mif\u001b[39;00m \u001b[38;5;28mlen\u001b[39m(kwargs) \u001b[38;5;241m>\u001b[39m \u001b[38;5;241m0\u001b[39m:\n",
       "\n",
       "File \u001b[0;32m/databricks/spark/python/lib/py4j-0.10.9.5-src.zip/py4j/java_gateway.py:1321\u001b[0m, in \u001b[0;36mJavaMember.__call__\u001b[0;34m(self, *args)\u001b[0m\n",
       "\u001b[1;32m   1315\u001b[0m command \u001b[38;5;241m=\u001b[39m proto\u001b[38;5;241m.\u001b[39mCALL_COMMAND_NAME \u001b[38;5;241m+\u001b[39m\\\n",
       "\u001b[1;32m   1316\u001b[0m     \u001b[38;5;28mself\u001b[39m\u001b[38;5;241m.\u001b[39mcommand_header \u001b[38;5;241m+\u001b[39m\\\n",
       "\u001b[1;32m   1317\u001b[0m     args_command \u001b[38;5;241m+\u001b[39m\\\n",
       "\u001b[1;32m   1318\u001b[0m     proto\u001b[38;5;241m.\u001b[39mEND_COMMAND_PART\n",
       "\u001b[1;32m   1320\u001b[0m answer \u001b[38;5;241m=\u001b[39m \u001b[38;5;28mself\u001b[39m\u001b[38;5;241m.\u001b[39mgateway_client\u001b[38;5;241m.\u001b[39msend_command(command)\n",
       "\u001b[0;32m-> 1321\u001b[0m return_value \u001b[38;5;241m=\u001b[39m \u001b[43mget_return_value\u001b[49m\u001b[43m(\u001b[49m\n",
       "\u001b[1;32m   1322\u001b[0m \u001b[43m    \u001b[49m\u001b[43manswer\u001b[49m\u001b[43m,\u001b[49m\u001b[43m \u001b[49m\u001b[38;5;28;43mself\u001b[39;49m\u001b[38;5;241;43m.\u001b[39;49m\u001b[43mgateway_client\u001b[49m\u001b[43m,\u001b[49m\u001b[43m \u001b[49m\u001b[38;5;28;43mself\u001b[39;49m\u001b[38;5;241;43m.\u001b[39;49m\u001b[43mtarget_id\u001b[49m\u001b[43m,\u001b[49m\u001b[43m \u001b[49m\u001b[38;5;28;43mself\u001b[39;49m\u001b[38;5;241;43m.\u001b[39;49m\u001b[43mname\u001b[49m\u001b[43m)\u001b[49m\n",
       "\u001b[1;32m   1324\u001b[0m \u001b[38;5;28;01mfor\u001b[39;00m temp_arg \u001b[38;5;129;01min\u001b[39;00m temp_args:\n",
       "\u001b[1;32m   1325\u001b[0m     temp_arg\u001b[38;5;241m.\u001b[39m_detach()\n",
       "\n",
       "File \u001b[0;32m/databricks/spark/python/pyspark/errors/exceptions.py:234\u001b[0m, in \u001b[0;36mcapture_sql_exception.<locals>.deco\u001b[0;34m(*a, **kw)\u001b[0m\n",
       "\u001b[1;32m    230\u001b[0m converted \u001b[38;5;241m=\u001b[39m convert_exception(e\u001b[38;5;241m.\u001b[39mjava_exception)\n",
       "\u001b[1;32m    231\u001b[0m \u001b[38;5;28;01mif\u001b[39;00m \u001b[38;5;129;01mnot\u001b[39;00m \u001b[38;5;28misinstance\u001b[39m(converted, UnknownException):\n",
       "\u001b[1;32m    232\u001b[0m     \u001b[38;5;66;03m# Hide where the exception came from that shows a non-Pythonic\u001b[39;00m\n",
       "\u001b[1;32m    233\u001b[0m     \u001b[38;5;66;03m# JVM exception message.\u001b[39;00m\n",
       "\u001b[0;32m--> 234\u001b[0m     \u001b[38;5;28;01mraise\u001b[39;00m converted \u001b[38;5;28;01mfrom\u001b[39;00m \u001b[38;5;28mNone\u001b[39m\n",
       "\u001b[1;32m    235\u001b[0m \u001b[38;5;28;01melse\u001b[39;00m:\n",
       "\u001b[1;32m    236\u001b[0m     \u001b[38;5;28;01mraise\u001b[39;00m\n",
       "\n",
       "\u001b[0;31mAnalysisException\u001b[0m: [UNRESOLVED_COLUMN.WITH_SUGGESTION] A column or function parameter with name `columntripdistance` cannot be resolved. Did you mean one of the following? [`spark_catalog`.`default`.`bronze_green_trip_data4`.`extra`, `spark_catalog`.`default`.`bronze_green_trip_data4`.`mta_tax`, `spark_catalog`.`default`.`bronze_green_trip_data4`.`trip_distance`, `spark_catalog`.`default`.`bronze_green_trip_data4`.`vendorid`, `spark_catalog`.`default`.`bronze_green_trip_data4`.`ehail_fee`].; line 1 pos 44;\n",
       "'Project [*]\n",
       "+- 'Filter isnull('columntripdistance)\n",
       "   +- SubqueryAlias spark_catalog.default.bronze_green_trip_data4\n",
       "      +- Relation spark_catalog.default.bronze_green_trip_data4[vendorid#4304,lpep_pickup_datetime#4305,lpep_dropoff_datetime#4306,store_and_fwd_flag#4307,ratecodeid#4308,pulocationid#4309,dolocationid#4310,passenger_count#4311,trip_distance#4312,fare_amount#4313,extra#4314,mta_tax#4315,tip_amount#4316,tolls_amount#4317,ehail_fee#4318,improvement_surcharge#4319,total_amount#4320,payment_type#4321,trip_type#4322,congestion_surcharge#4323] parquet\n"
      ]
     },
     "metadata": {
      "application/vnd.databricks.v1+output": {
       "arguments": {},
       "data": "\u001b[0;31m---------------------------------------------------------------------------\u001b[0m\n\u001b[0;31mAnalysisException\u001b[0m                         Traceback (most recent call last)\nFile \u001b[0;32m<command-2059692673858777>:1\u001b[0m\n\u001b[0;32m----> 1\u001b[0m result \u001b[38;5;241m=\u001b[39m spark\u001b[38;5;241m.\u001b[39msql(\u001b[38;5;124m\"\u001b[39m\u001b[38;5;124mSELECT * FROM bronze_green_trip_data4 WHERE columntripdistance is null\u001b[39m\u001b[38;5;124m\"\u001b[39m)\n\u001b[1;32m      2\u001b[0m result\u001b[38;5;241m.\u001b[39mshow()\n\nFile \u001b[0;32m/databricks/spark/python/pyspark/instrumentation_utils.py:48\u001b[0m, in \u001b[0;36m_wrap_function.<locals>.wrapper\u001b[0;34m(*args, **kwargs)\u001b[0m\n\u001b[1;32m     46\u001b[0m start \u001b[38;5;241m=\u001b[39m time\u001b[38;5;241m.\u001b[39mperf_counter()\n\u001b[1;32m     47\u001b[0m \u001b[38;5;28;01mtry\u001b[39;00m:\n\u001b[0;32m---> 48\u001b[0m     res \u001b[38;5;241m=\u001b[39m \u001b[43mfunc\u001b[49m\u001b[43m(\u001b[49m\u001b[38;5;241;43m*\u001b[39;49m\u001b[43margs\u001b[49m\u001b[43m,\u001b[49m\u001b[43m \u001b[49m\u001b[38;5;241;43m*\u001b[39;49m\u001b[38;5;241;43m*\u001b[39;49m\u001b[43mkwargs\u001b[49m\u001b[43m)\u001b[49m\n\u001b[1;32m     49\u001b[0m     logger\u001b[38;5;241m.\u001b[39mlog_success(\n\u001b[1;32m     50\u001b[0m         module_name, class_name, function_name, time\u001b[38;5;241m.\u001b[39mperf_counter() \u001b[38;5;241m-\u001b[39m start, signature\n\u001b[1;32m     51\u001b[0m     )\n\u001b[1;32m     52\u001b[0m     \u001b[38;5;28;01mreturn\u001b[39;00m res\n\nFile \u001b[0;32m/databricks/spark/python/pyspark/sql/session.py:1387\u001b[0m, in \u001b[0;36mSparkSession.sql\u001b[0;34m(self, sqlQuery, args, **kwargs)\u001b[0m\n\u001b[1;32m   1385\u001b[0m \u001b[38;5;28;01mtry\u001b[39;00m:\n\u001b[1;32m   1386\u001b[0m     litArgs \u001b[38;5;241m=\u001b[39m {k: _to_java_column(lit(v)) \u001b[38;5;28;01mfor\u001b[39;00m k, v \u001b[38;5;129;01min\u001b[39;00m (args \u001b[38;5;129;01mor\u001b[39;00m {})\u001b[38;5;241m.\u001b[39mitems()}\n\u001b[0;32m-> 1387\u001b[0m     \u001b[38;5;28;01mreturn\u001b[39;00m DataFrame(\u001b[38;5;28;43mself\u001b[39;49m\u001b[38;5;241;43m.\u001b[39;49m\u001b[43m_jsparkSession\u001b[49m\u001b[38;5;241;43m.\u001b[39;49m\u001b[43msql\u001b[49m\u001b[43m(\u001b[49m\u001b[43msqlQuery\u001b[49m\u001b[43m,\u001b[49m\u001b[43m \u001b[49m\u001b[43mlitArgs\u001b[49m\u001b[43m)\u001b[49m, \u001b[38;5;28mself\u001b[39m)\n\u001b[1;32m   1388\u001b[0m \u001b[38;5;28;01mfinally\u001b[39;00m:\n\u001b[1;32m   1389\u001b[0m     \u001b[38;5;28;01mif\u001b[39;00m \u001b[38;5;28mlen\u001b[39m(kwargs) \u001b[38;5;241m>\u001b[39m \u001b[38;5;241m0\u001b[39m:\n\nFile \u001b[0;32m/databricks/spark/python/lib/py4j-0.10.9.5-src.zip/py4j/java_gateway.py:1321\u001b[0m, in \u001b[0;36mJavaMember.__call__\u001b[0;34m(self, *args)\u001b[0m\n\u001b[1;32m   1315\u001b[0m command \u001b[38;5;241m=\u001b[39m proto\u001b[38;5;241m.\u001b[39mCALL_COMMAND_NAME \u001b[38;5;241m+\u001b[39m\\\n\u001b[1;32m   1316\u001b[0m     \u001b[38;5;28mself\u001b[39m\u001b[38;5;241m.\u001b[39mcommand_header \u001b[38;5;241m+\u001b[39m\\\n\u001b[1;32m   1317\u001b[0m     args_command \u001b[38;5;241m+\u001b[39m\\\n\u001b[1;32m   1318\u001b[0m     proto\u001b[38;5;241m.\u001b[39mEND_COMMAND_PART\n\u001b[1;32m   1320\u001b[0m answer \u001b[38;5;241m=\u001b[39m \u001b[38;5;28mself\u001b[39m\u001b[38;5;241m.\u001b[39mgateway_client\u001b[38;5;241m.\u001b[39msend_command(command)\n\u001b[0;32m-> 1321\u001b[0m return_value \u001b[38;5;241m=\u001b[39m \u001b[43mget_return_value\u001b[49m\u001b[43m(\u001b[49m\n\u001b[1;32m   1322\u001b[0m \u001b[43m    \u001b[49m\u001b[43manswer\u001b[49m\u001b[43m,\u001b[49m\u001b[43m \u001b[49m\u001b[38;5;28;43mself\u001b[39;49m\u001b[38;5;241;43m.\u001b[39;49m\u001b[43mgateway_client\u001b[49m\u001b[43m,\u001b[49m\u001b[43m \u001b[49m\u001b[38;5;28;43mself\u001b[39;49m\u001b[38;5;241;43m.\u001b[39;49m\u001b[43mtarget_id\u001b[49m\u001b[43m,\u001b[49m\u001b[43m \u001b[49m\u001b[38;5;28;43mself\u001b[39;49m\u001b[38;5;241;43m.\u001b[39;49m\u001b[43mname\u001b[49m\u001b[43m)\u001b[49m\n\u001b[1;32m   1324\u001b[0m \u001b[38;5;28;01mfor\u001b[39;00m temp_arg \u001b[38;5;129;01min\u001b[39;00m temp_args:\n\u001b[1;32m   1325\u001b[0m     temp_arg\u001b[38;5;241m.\u001b[39m_detach()\n\nFile \u001b[0;32m/databricks/spark/python/pyspark/errors/exceptions.py:234\u001b[0m, in \u001b[0;36mcapture_sql_exception.<locals>.deco\u001b[0;34m(*a, **kw)\u001b[0m\n\u001b[1;32m    230\u001b[0m converted \u001b[38;5;241m=\u001b[39m convert_exception(e\u001b[38;5;241m.\u001b[39mjava_exception)\n\u001b[1;32m    231\u001b[0m \u001b[38;5;28;01mif\u001b[39;00m \u001b[38;5;129;01mnot\u001b[39;00m \u001b[38;5;28misinstance\u001b[39m(converted, UnknownException):\n\u001b[1;32m    232\u001b[0m     \u001b[38;5;66;03m# Hide where the exception came from that shows a non-Pythonic\u001b[39;00m\n\u001b[1;32m    233\u001b[0m     \u001b[38;5;66;03m# JVM exception message.\u001b[39;00m\n\u001b[0;32m--> 234\u001b[0m     \u001b[38;5;28;01mraise\u001b[39;00m converted \u001b[38;5;28;01mfrom\u001b[39;00m \u001b[38;5;28mNone\u001b[39m\n\u001b[1;32m    235\u001b[0m \u001b[38;5;28;01melse\u001b[39;00m:\n\u001b[1;32m    236\u001b[0m     \u001b[38;5;28;01mraise\u001b[39;00m\n\n\u001b[0;31mAnalysisException\u001b[0m: [UNRESOLVED_COLUMN.WITH_SUGGESTION] A column or function parameter with name `columntripdistance` cannot be resolved. Did you mean one of the following? [`spark_catalog`.`default`.`bronze_green_trip_data4`.`extra`, `spark_catalog`.`default`.`bronze_green_trip_data4`.`mta_tax`, `spark_catalog`.`default`.`bronze_green_trip_data4`.`trip_distance`, `spark_catalog`.`default`.`bronze_green_trip_data4`.`vendorid`, `spark_catalog`.`default`.`bronze_green_trip_data4`.`ehail_fee`].; line 1 pos 44;\n'Project [*]\n+- 'Filter isnull('columntripdistance)\n   +- SubqueryAlias spark_catalog.default.bronze_green_trip_data4\n      +- Relation spark_catalog.default.bronze_green_trip_data4[vendorid#4304,lpep_pickup_datetime#4305,lpep_dropoff_datetime#4306,store_and_fwd_flag#4307,ratecodeid#4308,pulocationid#4309,dolocationid#4310,passenger_count#4311,trip_distance#4312,fare_amount#4313,extra#4314,mta_tax#4315,tip_amount#4316,tolls_amount#4317,ehail_fee#4318,improvement_surcharge#4319,total_amount#4320,payment_type#4321,trip_type#4322,congestion_surcharge#4323] parquet\n",
       "errorSummary": "<span class='ansi-red-fg'>AnalysisException</span>: [UNRESOLVED_COLUMN.WITH_SUGGESTION] A column or function parameter with name `columntripdistance` cannot be resolved. Did you mean one of the following? [`spark_catalog`.`default`.`bronze_green_trip_data4`.`extra`, `spark_catalog`.`default`.`bronze_green_trip_data4`.`mta_tax`, `spark_catalog`.`default`.`bronze_green_trip_data4`.`trip_distance`, `spark_catalog`.`default`.`bronze_green_trip_data4`.`vendorid`, `spark_catalog`.`default`.`bronze_green_trip_data4`.`ehail_fee`].; line 1 pos 44;\n'Project [*]\n+- 'Filter isnull('columntripdistance)\n   +- SubqueryAlias spark_catalog.default.bronze_green_trip_data4\n      +- Relation spark_catalog.default.bronze_green_trip_data4[vendorid#4304,lpep_pickup_datetime#4305,lpep_dropoff_datetime#4306,store_and_fwd_flag#4307,ratecodeid#4308,pulocationid#4309,dolocationid#4310,passenger_count#4311,trip_distance#4312,fare_amount#4313,extra#4314,mta_tax#4315,tip_amount#4316,tolls_amount#4317,ehail_fee#4318,improvement_surcharge#4319,total_amount#4320,payment_type#4321,trip_type#4322,congestion_surcharge#4323] parquet\n",
       "errorTraceType": "ansi",
       "metadata": {},
       "type": "ipynbError"
      }
     },
     "output_type": "display_data"
    }
   ],
   "source": [
    "result = spark.sql(\"SELECT * FROM bronze_green_trip_data4 WHERE columntripdistance is null\")\n",
    "result.show()"
   ]
  },
  {
   "cell_type": "code",
   "execution_count": null,
   "metadata": {
    "application/vnd.databricks.v1+cell": {
     "cellMetadata": {
      "byteLimit": 2048000,
      "rowLimit": 10000
     },
     "inputWidgets": {},
     "nuid": "523794c8-3c95-40b2-9d2d-cf2cdb31d0ef",
     "showTitle": false,
     "title": ""
    }
   },
   "outputs": [
    {
     "data": {
      "text/plain": []
     },
     "metadata": {
      "application/vnd.databricks.v1+output": {
       "arguments": {},
       "data": "",
       "errorSummary": "Command skipped",
       "errorTraceType": "ansi",
       "metadata": {},
       "type": "ipynbError"
      }
     },
     "output_type": "display_data"
    }
   ],
   "source": [
    "SILVER"
   ]
  },
  {
   "cell_type": "code",
   "execution_count": null,
   "metadata": {
    "application/vnd.databricks.v1+cell": {
     "cellMetadata": {
      "byteLimit": 2048000,
      "rowLimit": 10000
     },
     "inputWidgets": {},
     "nuid": "0ffef34f-cf8e-4dfa-98f4-1d0f77e54b43",
     "showTitle": false,
     "title": ""
    }
   },
   "outputs": [
    {
     "name": "stdout",
     "output_type": "stream",
     "text": [
      "+--------+--------------------+---------------------+------------------+----------+------------+------------+---------------+-------------+-----------+-----+-------+----------+------------+---------+---------------------+------------+------------+---------+--------------------+\n",
      "|vendorid|lpep_pickup_datetime|lpep_dropoff_datetime|store_and_fwd_flag|ratecodeid|pulocationid|dolocationid|passenger_count|trip_distance|fare_amount|extra|mta_tax|tip_amount|tolls_amount|ehail_fee|improvement_surcharge|total_amount|payment_type|trip_type|congestion_surcharge|\n",
      "+--------+--------------------+---------------------+------------------+----------+------------+------------+---------------+-------------+-----------+-----+-------+----------+------------+---------+---------------------+------------+------------+---------+--------------------+\n",
      "|       2|  2019-08-0100:22:12|   2019-08-0100:22:38|                 n|         1|         145|         145|              1|          .00|        2.5|    0|    0.5|         0|           0|     none|                  0.3|         3.3|           2|        1|                   0|\n",
      "|       2|  2019-08-0100:11:35|   2019-08-0100:25:53|                 n|         1|          66|          49|              5|         2.55|       11.5|  0.5|    0.5|      2.56|           0|     none|                  0.3|       15.36|           1|        1|                   0|\n",
      "|       2|  2019-08-0100:56:09|   2019-08-0101:12:02|                 n|         1|          65|          68|              1|         4.33|       15.5|  0.5|    0.5|         2|           0|     none|                  0.3|       21.55|           1|        1|                2.75|\n",
      "|       2|  2019-07-3123:59:42|   2019-08-0100:11:44|                 n|         1|          25|         133|              1|         3.85|         13|  0.5|    0.5|         2|           0|     none|                  0.3|        16.3|           1|        1|                   0|\n",
      "|       1|  2019-08-0100:20:34|   2019-08-0100:28:44|                 n|         1|          75|         263|              1|         1.30|        7.5| 3.25|    0.5|         1|           0|     none|                  0.3|       12.55|           1|        1|                2.75|\n",
      "|       2|  2019-08-0100:29:16|   2019-08-0100:46:21|                 n|         1|          65|         198|              1|         5.25|       17.5|  0.5|    0.5|         2|           0|     none|                  0.3|        20.8|           1|        1|                   0|\n",
      "|       2|  2019-08-0100:10:14|   2019-08-0100:24:29|                 n|         1|         146|          75|              1|         4.83|       15.5|  0.5|    0.5|         0|           0|     none|                  0.3|       19.55|           2|        1|                2.75|\n",
      "|       2|  2019-08-0100:10:23|   2019-08-0100:13:37|                 n|         1|         166|          41|              1|          .85|          5|  0.5|    0.5|         0|           0|     none|                  0.3|         6.3|           2|        1|                   0|\n",
      "|       1|  2019-08-0100:03:44|   2019-08-0100:07:14|                 n|         1|           7|         226|              1|          .80|          5|  0.5|    0.5|      1.26|           0|     none|                  0.3|        7.56|           1|        1|                   0|\n",
      "|       1|  2019-08-0100:15:27|   2019-08-0100:24:37|                 n|         1|           7|         226|              1|         1.60|        8.5|  0.5|    0.5|         0|           0|     none|                  0.3|         9.8|           2|        1|                   0|\n",
      "|       2|  2019-08-0100:47:27|   2019-08-0101:00:23|                 n|         1|         145|          83|              1|         2.92|       11.5|  0.5|    0.5|         0|           0|     none|                  0.3|        12.8|           2|        1|                   0|\n",
      "|       2|  2019-08-0100:20:36|   2019-08-0100:22:51|                 n|         1|          92|          92|              1|          .43|        3.5|  0.5|    0.5|         0|           0|     none|                  0.3|         4.8|           2|        1|                   0|\n",
      "|       2|  2019-08-0100:18:42|   2019-08-0100:24:35|                 n|         1|         106|         181|              5|         1.00|          6|  0.5|    0.5|      1.46|           0|     none|                  0.3|        8.76|           1|        1|                   0|\n",
      "|       1|  2019-08-0100:41:32|   2019-08-0100:55:43|                 n|         5|          42|         167|              1|         2.50|          0|    0|      0|         0|           0|     none|                    0|           0|           4|        2|                   0|\n",
      "|       2|  2019-08-0100:10:00|   2019-08-0100:28:34|                 n|         1|          42|          48|              1|         4.86|       17.5|  0.5|    0.5|         0|           0|     none|                  0.3|       21.55|           2|        1|                2.75|\n",
      "|       2|  2019-08-0100:24:52|   2019-08-0100:47:17|                 n|         1|          41|         107|              1|         5.62|       19.5|  0.5|    0.5|         0|           0|     none|                  0.3|       23.55|           2|        1|                2.75|\n",
      "|       1|  2019-08-0100:13:05|   2019-08-0100:20:29|                 n|         1|         179|         193|              2|         1.50|        7.5|  0.5|    0.5|         0|           0|     none|                  0.3|         8.8|           2|        1|                   0|\n",
      "|       1|  2019-08-0100:41:16|   2019-08-0100:41:32|                 n|         1|          41|          41|              1|          .10|        2.5|  0.5|    0.5|         0|           0|     none|                  0.3|         3.8|           2|        1|                   0|\n",
      "|       1|  2019-08-0100:45:54|   2019-08-0100:48:31|                 n|         1|          74|          75|              1|          .90|        4.5|  0.5|    0.5|         0|           0|     none|                  0.3|         5.8|           1|        1|                   0|\n",
      "|       2|  2019-08-0100:54:48|   2019-08-0101:06:55|                 n|         1|          52|          62|              1|         2.94|       11.5|  0.5|    0.5|      2.56|           0|     none|                  0.3|       15.36|           1|        1|                   0|\n",
      "|       2|  2019-08-0100:11:58|   2019-08-0100:20:50|                 n|         1|          83|         160|              1|         2.16|        8.5|  0.5|    0.5|      1.96|           0|     none|                  0.3|       11.76|           1|        1|                   0|\n",
      "|       2|  2019-08-0100:26:50|   2019-08-0100:33:00|                 n|         1|           7|         179|              1|         1.05|          6|  0.5|    0.5|         2|           0|     none|                  0.3|         9.3|           1|        1|                   0|\n",
      "|       2|  2019-08-0100:32:16|   2019-08-0100:40:30|                 n|         1|          42|          41|              1|         1.83|        8.5|  0.5|    0.5|         0|           0|     none|                  0.3|         9.8|           2|        1|                   0|\n",
      "|       2|  2019-08-0100:55:42|   2019-08-0101:03:15|                 n|         1|          42|          75|              1|         1.87|          8|  0.5|    0.5|         0|           0|     none|                  0.3|         9.3|           2|        1|                   0|\n",
      "|       1|  2019-08-0100:23:50|   2019-08-0100:29:53|                 n|         1|          82|          82|              1|          .60|        5.5|  0.5|    0.5|         0|           0|     none|                  0.3|         6.8|           2|        1|                   0|\n",
      "|       2|  2019-08-0100:06:36|   2019-08-0100:23:07|                 n|         1|         134|          51|              2|        13.79|         37|  0.5|    0.5|         2|        6.12|     none|                  0.3|       46.42|           1|        1|                   0|\n",
      "|       2|  2019-08-0100:13:58|   2019-08-0100:18:52|                 n|         1|         260|         226|              1|          .80|        5.5|  0.5|    0.5|      1.36|           0|     none|                  0.3|        8.16|           1|        1|                   0|\n",
      "|       2|  2019-08-0100:56:43|   2019-08-0101:09:10|                 n|         1|         129|           7|              1|         2.50|         11|  0.5|    0.5|         0|           0|     none|                  0.3|        12.3|           2|        1|                   0|\n",
      "|       2|  2019-08-0100:06:57|   2019-08-0100:13:30|                 n|         1|          82|          82|              1|         1.28|        6.5|  0.5|    0.5|         0|           0|     none|                  0.3|         7.8|           2|        1|                   0|\n",
      "|       2|  2019-08-0100:43:37|   2019-08-0100:58:16|                 n|         1|         255|          17|              1|         2.77|         12|  0.5|    0.5|      2.66|           0|     none|                  0.3|       15.96|           1|        1|                   0|\n",
      "|       2|  2019-08-0100:51:40|   2019-08-0100:51:45|                 n|         5|         173|         173|              2|          .00|         10|    0|      0|     19.02|           0|     none|                    0|       29.02|           1|        2|                   0|\n",
      "|       2|  2019-08-0100:04:56|   2019-08-0100:25:47|                 n|         1|          36|         114|              1|         5.14|         19|  0.5|    0.5|      4.61|           0|     none|                  0.3|       27.66|           1|        1|                2.75|\n",
      "|       2|  2019-08-0100:43:28|   2019-08-0100:53:38|                 n|         1|         255|         144|              1|         3.03|       11.5|  0.5|    0.5|      3.89|           0|     none|                  0.3|       19.44|           1|        1|                2.75|\n",
      "|       1|  2019-08-0100:21:19|   2019-08-0100:51:06|                 n|         1|         166|          79|              1|         8.10|       27.5| 3.25|    0.5|         0|           0|     none|                  0.3|       31.55|           4|        1|                2.75|\n",
      "|       2|  2019-08-0100:19:55|   2019-08-0100:24:28|                 n|         1|           7|         223|              1|         1.08|        5.5|  0.5|    0.5|      1.36|           0|     none|                  0.3|        8.16|           1|        1|                   0|\n",
      "|       2|  2019-08-0100:51:14|   2019-08-0100:56:23|                 n|         1|          36|         198|              6|          .88|        5.5|  0.5|    0.5|         0|           0|     none|                  0.3|         6.8|           2|        1|                   0|\n",
      "|       2|  2019-08-0100:09:15|   2019-08-0100:22:28|                 n|         1|         116|          69|              1|         2.29|         11|  0.5|    0.5|         0|           0|     none|                  0.3|        12.3|           2|        1|                   0|\n",
      "|       2|  2019-08-0100:40:40|   2019-08-0100:58:32|                 n|         1|          42|          48|              1|         7.17|       22.5|  0.5|    0.5|         0|           0|     none|                  0.3|       26.55|           2|        1|                2.75|\n",
      "|       2|  2019-08-0100:17:45|   2019-08-0100:22:56|                 n|         1|          25|         106|              4|         1.07|          6|  0.5|    0.5|      1.46|           0|     none|                  0.3|        8.76|           1|        1|                   0|\n",
      "|       2|  2019-08-0100:03:09|   2019-08-0100:22:47|                 n|         1|         255|         181|              1|         7.01|       22.5|  0.5|    0.5|      5.95|           0|     none|                  0.3|       29.75|           1|        1|                   0|\n",
      "|       2|  2019-08-0100:29:06|   2019-08-0100:35:38|                 n|         1|          82|          56|              1|          .81|        5.5|  0.5|    0.5|       1.7|           0|     none|                  0.3|         8.5|           1|        1|                   0|\n",
      "|       2|  2019-08-0100:21:55|   2019-08-0100:27:47|                 n|         1|         244|         243|              2|          .98|          6|  0.5|    0.5|         0|           0|     none|                  0.3|         7.3|           2|        1|                   0|\n",
      "|       2|  2019-08-0100:42:03|   2019-08-0100:49:34|                 n|         1|         247|         159|              1|         1.56|        7.5|  0.5|    0.5|         0|           0|     none|                  0.3|         8.8|           2|        1|                   0|\n",
      "|       2|  2019-08-0100:11:31|   2019-08-0100:15:11|                 n|         1|          74|          41|              1|          .42|        4.5|  0.5|    0.5|         0|           0|     none|                  0.3|         5.8|           2|        1|                   0|\n",
      "|       2|  2019-08-0100:19:25|   2019-08-0100:27:47|                 n|         1|          41|          42|              1|         1.69|        8.5|  0.5|    0.5|         0|           0|     none|                  0.3|         9.8|           2|        1|                   0|\n",
      "|       2|  2019-08-0100:02:54|   2019-08-0100:14:12|                 n|         1|          42|         263|              1|         3.54|         13|  0.5|    0.5|         2|           0|     none|                  0.3|       19.05|           1|        1|                2.75|\n",
      "|       2|  2019-08-0100:29:29|   2019-08-0100:41:34|                 n|         1|          74|         235|              1|         4.64|         16|  0.5|    0.5|         0|           0|     none|                  0.3|        17.3|           2|        1|                   0|\n",
      "|       2|  2019-08-0100:40:19|   2019-08-0101:05:44|                 n|         5|         129|         129|              1|         3.74|         10|    0|      0|         0|           0|     none|                    0|          10|           2|        2|                   0|\n",
      "|       2|  2019-08-0100:41:25|   2019-08-0100:44:12|                 n|         1|          41|          42|              1|          .74|        4.5|  0.5|    0.5|         0|           0|     none|                  0.3|         5.8|           2|        1|                   0|\n",
      "|       2|  2019-08-0100:28:19|   2019-08-0100:33:53|                 n|         1|         223|         223|              1|         1.46|        6.5|  0.5|    0.5|      1.56|           0|     none|                  0.3|        9.36|           1|        1|                   0|\n",
      "|       2|  2019-08-0100:14:19|   2019-08-0100:17:17|                 n|         1|         152|         116|              1|          .88|        4.5|  0.5|    0.5|         0|           0|     none|                  0.3|         5.8|           2|        1|                   0|\n",
      "|       2|  2019-08-0100:22:54|   2019-08-0100:26:46|                 n|         1|          42|          41|              1|          .98|        5.5|  0.5|    0.5|         0|           0|     none|                  0.3|         6.8|           1|        1|                   0|\n",
      "|       2|  2019-08-0100:41:28|   2019-08-0100:44:57|                 n|         1|          95|         135|              1|         1.21|        5.5|  0.5|    0.5|      1.36|           0|     none|                  0.3|        8.16|           1|        1|                   0|\n",
      "|       2|  2019-08-0100:00:33|   2019-08-0100:06:37|                 n|         1|          75|         262|              2|         1.23|        6.5|  0.5|    0.5|      3.16|           0|     none|                  0.3|       13.71|           1|        1|                2.75|\n",
      "|       2|  2019-08-0100:02:08|   2019-08-0100:03:52|                 n|         5|         152|          42|              1|          .47|          8|    0|      0|         0|           0|     none|                    0|           8|           1|        2|                   0|\n",
      "|       2|  2019-08-0100:37:23|   2019-08-0100:45:54|                 n|         1|          75|         239|              1|         2.21|          9|  0.5|    0.5|         2|           0|     none|                  0.3|       15.05|           1|        1|                2.75|\n",
      "|       2|  2019-08-0100:31:12|   2019-08-0100:43:25|                 n|         1|         174|         169|              1|         3.26|       12.5|  0.5|    0.5|         2|           0|     none|                  0.3|        15.8|           1|        1|                   0|\n",
      "|       1|  2019-08-0100:21:06|   2019-08-0100:23:58|                 n|         1|         210|          29|              1|         1.00|          5|  0.5|    0.5|         0|           0|     none|                  0.3|         6.3|           1|        1|                   0|\n",
      "|       2|  2019-08-0100:12:01|   2019-08-0100:25:48|                 n|         1|          82|          92|              1|         2.84|       11.5|  0.5|    0.5|         0|           0|     none|                  0.3|        12.8|           2|        1|                   0|\n",
      "|       2|  2019-08-0100:58:46|   2019-08-0101:19:44|                 n|         1|         165|          26|              3|         2.89|       16.5|  0.5|    0.5|         0|           0|     none|                  0.3|        17.8|           1|        1|                   0|\n",
      "|       2|  2019-08-0100:47:00|   2019-08-0100:57:09|                 n|         1|          42|         151|              1|         2.18|         10|  0.5|    0.5|         0|           0|     none|                  0.3|        11.3|           2|        1|                   0|\n",
      "|       2|  2019-08-0100:09:45|   2019-08-0100:13:58|                 n|         1|         112|          80|              1|         1.02|          5|  0.5|    0.5|      1.26|           0|     none|                  0.3|        7.56|           1|        1|                   0|\n",
      "|       2|  2019-08-0100:24:18|   2019-08-0100:51:56|                 n|         1|         256|         186|              1|         5.46|         21|  0.5|    0.5|         0|           0|     none|                  0.3|       25.05|           2|        1|                2.75|\n",
      "|       2|  2019-08-0100:36:12|   2019-08-0100:43:15|                 n|         1|         247|          42|              4|         1.13|          7|  0.5|    0.5|      1.66|           0|     none|                  0.3|        9.96|           1|        1|                   0|\n",
      "|       2|  2019-08-0100:47:03|   2019-08-0100:51:45|                 n|         1|         116|         244|              4|          .60|          5|  0.5|    0.5|         0|           0|     none|                  0.3|         6.3|           2|        1|                   0|\n",
      "|       2|  2019-08-0100:06:28|   2019-08-0100:12:00|                 n|         1|          41|          74|              1|         1.12|          6|  0.5|    0.5|         0|           0|     none|                  0.3|         7.3|           2|        1|                   0|\n",
      "|       1|  2019-08-0100:12:23|   2019-08-0100:20:27|                 n|         1|          66|          45|              1|         2.00|          9| 3.25|    0.5|         0|           0|     none|                  0.3|       13.05|           2|        1|                2.75|\n",
      "|       2|  2019-08-0100:50:14|   2019-08-0101:04:24|                 n|         1|          92|         129|              1|         3.44|         13|  0.5|    0.5|         0|           0|     none|                  0.3|        14.3|           2|        1|                   0|\n",
      "|       2|  2019-08-0100:06:15|   2019-08-0100:28:08|                 n|         1|          25|          14|              1|         5.52|       19.5|  0.5|    0.5|         0|           0|     none|                  0.3|        20.8|           2|        1|                   0|\n",
      "|       2|  2019-08-0100:43:24|   2019-08-0100:45:40|                 n|         1|          42|          42|              1|          .49|          4|  0.5|    0.5|         0|           0|     none|                  0.3|         5.3|           2|        1|                   0|\n",
      "|       2|  2019-08-0100:40:34|   2019-08-0100:47:09|                 n|         1|          42|          41|              1|          .96|        6.5|  0.5|    0.5|         0|           0|     none|                  0.3|         7.8|           2|        1|                   0|\n",
      "|       2|  2019-08-0100:42:03|   2019-08-0100:58:26|                 n|         1|         129|         226|              1|         2.38|       12.5|  0.5|    0.5|         0|           0|     none|                  0.3|        13.8|           2|        1|                   0|\n",
      "|       2|  2019-08-0100:43:30|   2019-08-0100:50:33|                 n|         1|         260|         226|              1|          .85|        6.5|  0.5|    0.5|         0|           0|     none|                  0.3|         7.8|           2|        1|                   0|\n",
      "|       2|  2019-08-0100:47:24|   2019-08-0100:56:56|                 n|         5|          16|          16|              1|          .00|         20|    0|      0|         0|           0|     none|                    0|          20|           2|        2|                   0|\n",
      "|       2|  2019-08-0100:24:47|   2019-08-0100:39:51|                 n|         1|         244|         143|              1|         5.64|       18.5|  0.5|    0.5|         0|           0|     none|                  0.3|       22.55|           1|        1|                2.75|\n",
      "|       2|  2019-08-0100:38:01|   2019-08-0100:52:31|                 n|         1|          74|         127|              1|         5.61|       18.5|  0.5|    0.5|         0|           0|     none|                  0.3|        19.8|           2|        1|                   0|\n",
      "|       2|  2019-08-0100:39:54|   2019-08-0100:46:12|                 n|         1|         255|         112|              1|         1.34|          7|  0.5|    0.5|         0|           0|     none|                  0.3|         8.3|           2|        1|                   0|\n",
      "|       1|  2019-08-0100:30:23|   2019-08-0100:36:39|                 y|         1|           7|         193|              1|         1.80|        7.5|  0.5|    0.5|         0|           0|     none|                  0.3|         8.8|           2|        1|                   0|\n",
      "|       2|  2019-08-0100:06:55|   2019-08-0100:15:19|                 n|         1|         181|         181|              1|         1.50|        7.5|  0.5|    0.5|      1.32|           0|     none|                  0.3|       10.12|           1|        1|                   0|\n",
      "|       2|  2019-08-0100:11:48|   2019-08-0100:23:28|                 n|         1|          82|         258|              1|         3.48|         13|  0.5|    0.5|         0|           0|     none|                  0.3|        14.3|           2|        1|                   0|\n",
      "|       2|  2019-08-0100:23:55|   2019-08-0101:08:31|                 n|         1|          66|         238|              1|        12.36|       40.5|  0.5|    0.5|      8.91|           0|     none|                  0.3|       53.46|           1|        1|                2.75|\n",
      "|       2|  2019-08-0100:29:42|   2019-08-0100:37:59|                 n|         1|         247|          74|              1|         2.46|         10|  0.5|    0.5|      3.39|           0|     none|                  0.3|       14.69|           1|        1|                   0|\n",
      "|       2|  2019-08-0100:06:33|   2019-08-0100:22:54|                 n|         1|          25|          61|              1|         3.28|       13.5|  0.5|    0.5|         0|           0|     none|                  0.3|        14.8|           2|        1|                   0|\n",
      "|       2|  2019-08-0100:36:12|   2019-08-0100:39:15|                 n|         1|           7|           7|              1|          .48|          4|  0.5|    0.5|      1.32|           0|     none|                  0.3|        6.62|           1|        1|                   0|\n",
      "|       1|  2019-08-0100:04:01|   2019-08-0100:48:59|                 n|         1|         149|         165|              1|         5.20|         30|  0.5|    0.5|         0|           0|     none|                  0.3|        31.3|           2|        1|                   0|\n",
      "|       2|  2019-08-0100:29:51|   2019-08-0100:42:38|                 n|         1|          25|          61|              3|         2.73|         12|  0.5|    0.5|         0|           0|     none|                  0.3|        13.3|           2|        1|                   0|\n",
      "|       2|  2019-08-0100:10:39|   2019-08-0100:27:46|                 n|         1|          66|          90|              1|         4.33|         16|  0.5|    0.5|         2|           0|     none|                  0.3|       22.05|           1|        1|                2.75|\n",
      "|       2|  2019-08-0100:49:02|   2019-08-0100:53:38|                 n|         1|         255|         112|              1|          .97|        5.5|  0.5|    0.5|         2|           0|     none|                  0.3|         8.8|           1|        1|                   0|\n",
      "|       1|  2019-08-0100:03:05|   2019-08-0100:13:20|                 n|         1|          42|         169|              1|         3.70|       12.5|  0.5|    0.5|         0|           0|     none|                  0.3|        13.8|           2|        1|                   0|\n",
      "|       2|  2019-08-0100:07:36|   2019-08-0100:13:51|                 n|         1|          74|          42|              1|         1.28|        6.5|  0.5|    0.5|         0|           0|     none|                  0.3|         7.8|           1|        1|                   0|\n",
      "|       2|  2019-08-0100:43:35|   2019-08-0100:55:46|                 n|         1|         167|          78|              1|         2.77|         11|  0.5|    0.5|         0|           0|     none|                  0.3|        12.3|           2|        1|                   0|\n",
      "|       2|  2019-08-0100:17:40|   2019-08-0100:30:52|                 n|         1|         168|          60|              1|         2.70|       11.5|  0.5|    0.5|         0|           0|     none|                  0.3|        12.8|           2|        1|                   0|\n",
      "|       2|  2019-08-0100:35:49|   2019-08-0100:49:43|                 n|         1|          82|         157|              1|         2.84|       11.5|  0.5|    0.5|         0|           0|     none|                  0.3|        12.8|           2|        1|                   0|\n",
      "|       2|  2019-08-0100:55:18|   2019-08-0101:01:23|                 n|         1|         157|          82|              1|         1.63|        7.5|  0.5|    0.5|      2.64|           0|     none|                  0.3|       11.44|           1|        1|                   0|\n",
      "|       2|  2019-08-0100:41:16|   2019-08-0100:44:56|                 n|         1|          36|          37|              1|          .73|       -4.5| -0.5|   -0.5|         0|           0|     none|                 -0.3|        -5.8|           3|        1|                   0|\n",
      "|       2|  2019-08-0100:41:16|   2019-08-0100:44:56|                 n|         1|          36|          37|              1|          .73|        4.5|  0.5|    0.5|         0|           0|     none|                  0.3|         5.8|           2|        1|                   0|\n",
      "|       2|  2019-08-0100:08:37|   2019-08-0100:30:34|                 n|         1|         112|         181|              1|         7.47|       24.5|  0.5|    0.5|      5.16|           0|     none|                  0.3|       30.96|           1|        1|                   0|\n",
      "|       2|  2019-08-0100:31:02|   2019-08-0100:43:51|                 n|         1|          65|          17|              1|         2.68|       11.5|  0.5|    0.5|      2.56|           0|     none|                  0.3|       15.36|           1|        1|                   0|\n",
      "|       1|  2019-08-0100:01:06|   2019-08-0100:09:47|                 n|         1|         129|         129|              1|         1.10|        7.5|  0.5|    0.5|         0|           0|     none|                  0.3|         8.8|           2|        1|                   0|\n",
      "|       1|  2019-08-0100:23:56|   2019-08-0100:31:14|                 n|         1|          82|          82|              1|         1.50|        7.5|  0.5|    0.5|         0|           0|     none|                  0.3|         8.8|           2|        1|                   0|\n",
      "+--------+--------------------+---------------------+------------------+----------+------------+------------+---------------+-------------+-----------+-----+-------+----------+------------+---------+---------------------+------------+------------+---------+--------------------+\n",
      "only showing top 100 rows\n",
      "\n"
     ]
    }
   ],
   "source": [
    "table_name = \"bronze_green_trip_data4\"\n",
    "delta_table = spark.table(table_name)\n",
    "\n",
    "# Show the contents of the Delta table\n",
    "delta_table.show(100)"
   ]
  },
  {
   "cell_type": "code",
   "execution_count": null,
   "metadata": {
    "application/vnd.databricks.v1+cell": {
     "cellMetadata": {
      "byteLimit": 2048000,
      "rowLimit": 10000
     },
     "inputWidgets": {},
     "nuid": "8b90dece-6c70-4a93-b336-8bda0e154565",
     "showTitle": false,
     "title": ""
    }
   },
   "outputs": [
    {
     "name": "stdout",
     "output_type": "stream",
     "text": [
      "Processing column: vendorid\n",
      "Total values in vendorid: 2275271\n",
      "'none' values in vendorid: 376740\n",
      "'none percentage in vendorid: 16.55802759319659\n",
      "\n",
      "Processing column: lpep_pickup_datetime\n",
      "Total values in lpep_pickup_datetime: 2275271\n",
      "'none' values in lpep_pickup_datetime: 0\n",
      "'none percentage in lpep_pickup_datetime: 0.0\n",
      "\n",
      "Processing column: lpep_dropoff_datetime\n",
      "Total values in lpep_dropoff_datetime: 2275271\n",
      "'none' values in lpep_dropoff_datetime: 0\n",
      "'none percentage in lpep_dropoff_datetime: 0.0\n",
      "\n",
      "Processing column: store_and_fwd_flag\n",
      "Total values in store_and_fwd_flag: 2275271\n",
      "'none' values in store_and_fwd_flag: 376740\n",
      "'none percentage in store_and_fwd_flag: 16.55802759319659\n",
      "\n",
      "Processing column: ratecodeid\n",
      "Total values in ratecodeid: 2275271\n",
      "'none' values in ratecodeid: 376740\n",
      "'none percentage in ratecodeid: 16.55802759319659\n",
      "\n",
      "Processing column: pulocationid\n",
      "Total values in pulocationid: 2275271\n",
      "'none' values in pulocationid: 0\n",
      "'none percentage in pulocationid: 0.0\n",
      "\n",
      "Processing column: dolocationid\n",
      "Total values in dolocationid: 2275271\n",
      "'none' values in dolocationid: 0\n",
      "'none percentage in dolocationid: 0.0\n",
      "\n",
      "Processing column: passenger_count\n",
      "Total values in passenger_count: 2275271\n",
      "'none' values in passenger_count: 376740\n",
      "'none percentage in passenger_count: 16.55802759319659\n",
      "\n",
      "Processing column: trip_distance\n",
      "Total values in trip_distance: 2275271\n",
      "'none' values in trip_distance: 0\n",
      "'none percentage in trip_distance: 0.0\n",
      "\n",
      "Processing column: fare_amount\n",
      "Total values in fare_amount: 2275271\n",
      "'none' values in fare_amount: 0\n",
      "'none percentage in fare_amount: 0.0\n",
      "\n",
      "Processing column: extra\n",
      "Total values in extra: 2275271\n",
      "'none' values in extra: 0\n",
      "'none percentage in extra: 0.0\n",
      "\n",
      "Processing column: mta_tax\n",
      "Total values in mta_tax: 2275271\n",
      "'none' values in mta_tax: 0\n",
      "'none percentage in mta_tax: 0.0\n",
      "\n",
      "Processing column: tip_amount\n",
      "Total values in tip_amount: 2275271\n",
      "'none' values in tip_amount: 0\n",
      "'none percentage in tip_amount: 0.0\n",
      "\n",
      "Processing column: tolls_amount\n",
      "Total values in tolls_amount: 2275271\n",
      "'none' values in tolls_amount: 0\n",
      "'none percentage in tolls_amount: 0.0\n",
      "\n",
      "Processing column: ehail_fee\n",
      "Total values in ehail_fee: 2275271\n",
      "'none' values in ehail_fee: 2275189\n",
      "'none percentage in ehail_fee: 99.99639603370323\n",
      "\n",
      "Processing column: improvement_surcharge\n",
      "Total values in improvement_surcharge: 2275271\n",
      "'none' values in improvement_surcharge: 2\n",
      "'none percentage in improvement_surcharge: 8.790161699419542e-05\n",
      "\n",
      "Processing column: total_amount\n",
      "Total values in total_amount: 2275271\n",
      "'none' values in total_amount: 0\n",
      "'none percentage in total_amount: 0.0\n",
      "\n",
      "Processing column: payment_type\n",
      "Total values in payment_type: 2275271\n",
      "'none' values in payment_type: 376740\n",
      "'none percentage in payment_type: 16.55802759319659\n",
      "\n",
      "Processing column: trip_type\n",
      "Total values in trip_type: 2275271\n",
      "'none' values in trip_type: 376827\n",
      "'none percentage in trip_type: 16.56185131353584\n",
      "\n",
      "Processing column: congestion_surcharge\n",
      "Total values in congestion_surcharge: 2275271\n",
      "'none' values in congestion_surcharge: 376742\n",
      "'none percentage in congestion_surcharge: 16.558115494813585\n",
      "\n",
      "ehail_fee\n",
      "+--------+--------------------+---------------------+------------------+----------+------------+------------+---------------+-------------+-----------+-----+-------+----------+------------+---------------------+------------+------------+---------+--------------------+\n",
      "|vendorid|lpep_pickup_datetime|lpep_dropoff_datetime|store_and_fwd_flag|ratecodeid|pulocationid|dolocationid|passenger_count|trip_distance|fare_amount|extra|mta_tax|tip_amount|tolls_amount|improvement_surcharge|total_amount|payment_type|trip_type|congestion_surcharge|\n",
      "+--------+--------------------+---------------------+------------------+----------+------------+------------+---------------+-------------+-----------+-----+-------+----------+------------+---------------------+------------+------------+---------+--------------------+\n",
      "|       2|  2019-08-0100:22:12|   2019-08-0100:22:38|                 n|         1|         145|         145|              1|          .00|        2.5|    0|    0.5|         0|           0|                  0.3|         3.3|           2|        1|                   0|\n",
      "|       2|  2019-08-0100:11:35|   2019-08-0100:25:53|                 n|         1|          66|          49|              5|         2.55|       11.5|  0.5|    0.5|      2.56|           0|                  0.3|       15.36|           1|        1|                   0|\n",
      "|       2|  2019-08-0100:56:09|   2019-08-0101:12:02|                 n|         1|          65|          68|              1|         4.33|       15.5|  0.5|    0.5|         2|           0|                  0.3|       21.55|           1|        1|                2.75|\n",
      "|       2|  2019-07-3123:59:42|   2019-08-0100:11:44|                 n|         1|          25|         133|              1|         3.85|         13|  0.5|    0.5|         2|           0|                  0.3|        16.3|           1|        1|                   0|\n",
      "|       1|  2019-08-0100:20:34|   2019-08-0100:28:44|                 n|         1|          75|         263|              1|         1.30|        7.5| 3.25|    0.5|         1|           0|                  0.3|       12.55|           1|        1|                2.75|\n",
      "|       2|  2019-08-0100:29:16|   2019-08-0100:46:21|                 n|         1|          65|         198|              1|         5.25|       17.5|  0.5|    0.5|         2|           0|                  0.3|        20.8|           1|        1|                   0|\n",
      "|       2|  2019-08-0100:10:14|   2019-08-0100:24:29|                 n|         1|         146|          75|              1|         4.83|       15.5|  0.5|    0.5|         0|           0|                  0.3|       19.55|           2|        1|                2.75|\n",
      "|       2|  2019-08-0100:10:23|   2019-08-0100:13:37|                 n|         1|         166|          41|              1|          .85|          5|  0.5|    0.5|         0|           0|                  0.3|         6.3|           2|        1|                   0|\n",
      "|       1|  2019-08-0100:03:44|   2019-08-0100:07:14|                 n|         1|           7|         226|              1|          .80|          5|  0.5|    0.5|      1.26|           0|                  0.3|        7.56|           1|        1|                   0|\n",
      "|       1|  2019-08-0100:15:27|   2019-08-0100:24:37|                 n|         1|           7|         226|              1|         1.60|        8.5|  0.5|    0.5|         0|           0|                  0.3|         9.8|           2|        1|                   0|\n",
      "|       2|  2019-08-0100:47:27|   2019-08-0101:00:23|                 n|         1|         145|          83|              1|         2.92|       11.5|  0.5|    0.5|         0|           0|                  0.3|        12.8|           2|        1|                   0|\n",
      "|       2|  2019-08-0100:20:36|   2019-08-0100:22:51|                 n|         1|          92|          92|              1|          .43|        3.5|  0.5|    0.5|         0|           0|                  0.3|         4.8|           2|        1|                   0|\n",
      "|       2|  2019-08-0100:18:42|   2019-08-0100:24:35|                 n|         1|         106|         181|              5|         1.00|          6|  0.5|    0.5|      1.46|           0|                  0.3|        8.76|           1|        1|                   0|\n",
      "|       1|  2019-08-0100:41:32|   2019-08-0100:55:43|                 n|         5|          42|         167|              1|         2.50|          0|    0|      0|         0|           0|                    0|           0|           4|        2|                   0|\n",
      "|       2|  2019-08-0100:10:00|   2019-08-0100:28:34|                 n|         1|          42|          48|              1|         4.86|       17.5|  0.5|    0.5|         0|           0|                  0.3|       21.55|           2|        1|                2.75|\n",
      "|       2|  2019-08-0100:24:52|   2019-08-0100:47:17|                 n|         1|          41|         107|              1|         5.62|       19.5|  0.5|    0.5|         0|           0|                  0.3|       23.55|           2|        1|                2.75|\n",
      "|       1|  2019-08-0100:13:05|   2019-08-0100:20:29|                 n|         1|         179|         193|              2|         1.50|        7.5|  0.5|    0.5|         0|           0|                  0.3|         8.8|           2|        1|                   0|\n",
      "|       1|  2019-08-0100:41:16|   2019-08-0100:41:32|                 n|         1|          41|          41|              1|          .10|        2.5|  0.5|    0.5|         0|           0|                  0.3|         3.8|           2|        1|                   0|\n",
      "|       1|  2019-08-0100:45:54|   2019-08-0100:48:31|                 n|         1|          74|          75|              1|          .90|        4.5|  0.5|    0.5|         0|           0|                  0.3|         5.8|           1|        1|                   0|\n",
      "|       2|  2019-08-0100:54:48|   2019-08-0101:06:55|                 n|         1|          52|          62|              1|         2.94|       11.5|  0.5|    0.5|      2.56|           0|                  0.3|       15.36|           1|        1|                   0|\n",
      "+--------+--------------------+---------------------+------------------+----------+------------+------------+---------------+-------------+-----------+-----+-------+----------+------------+---------------------+------------+------------+---------+--------------------+\n",
      "only showing top 20 rows\n",
      "\n"
     ]
    }
   ],
   "source": [
    "from pyspark.sql import SparkSession\n",
    "from pyspark.sql.functions import col, count, sum, when\n",
    "\n",
    "column_names = delta_table.columns\n",
    "\n",
    "row_count = delta_table.count()\n",
    " \n",
    "for column in column_names:\n",
    "    print(f\"Processing column: {column}\")\n",
    "    \n",
    "    # Calculate the total number of values and the number of null values in the column\n",
    "    none_count = delta_table.select(sum(when(col(column) == 'none', 1).otherwise(0))).first()[0]\n",
    "    procentas = (none_count / row_count)*100\n",
    "    if procentas >40:\n",
    "        columtodelete = column\n",
    "\n",
    "\n",
    "\n",
    "    print(f\"Total values in {column}: {row_count}\")\n",
    "    print(f\"'none' values in {column}: {none_count}\")\n",
    "    print(f\"'none percentage in {column}: {procentas}\")\n",
    "\n",
    "\n",
    "    print(\"\")\n",
    "print(columtodelete)\n",
    "\n",
    "columns_to_keep = [col for col in delta_table.columns if col != columtodelete]\n",
    "new_delta_table = delta_table.select(columns_to_keep)\n",
    "\n",
    "new_delta_table.show()\n",
    "\n"
   ]
  },
  {
   "cell_type": "code",
   "execution_count": null,
   "metadata": {
    "application/vnd.databricks.v1+cell": {
     "cellMetadata": {
      "byteLimit": 2048000,
      "rowLimit": 10000
     },
     "inputWidgets": {},
     "nuid": "2d351d8a-2808-4743-a323-48a92d10db5f",
     "showTitle": false,
     "title": ""
    }
   },
   "outputs": [
    {
     "name": "stdout",
     "output_type": "stream",
     "text": [
      "+--------+--------------------+---------------------+------------------+----------+------------+------------+---------------+-------------+-----------+-----+-------+----------+------------+---------------------+------------+------------+---------+--------------------+\n",
      "|vendorid|lpep_pickup_datetime|lpep_dropoff_datetime|store_and_fwd_flag|ratecodeid|pulocationid|dolocationid|passenger_count|trip_distance|fare_amount|extra|mta_tax|tip_amount|tolls_amount|improvement_surcharge|total_amount|payment_type|trip_type|congestion_surcharge|\n",
      "+--------+--------------------+---------------------+------------------+----------+------------+------------+---------------+-------------+-----------+-----+-------+----------+------------+---------------------+------------+------------+---------+--------------------+\n",
      "|       2|  2019-10-0100:00:48|   2019-10-0100:05:42|                 n|         1|         210|         108|              2|         1.03|          6|  0.5|    0.5|      2.19|           0|                  0.3|        9.49|           1|        1|                   0|\n",
      "|       2|  2019-10-0105:39:45|   2019-10-0105:49:55|                 n|         1|         116|         238|              1|         3.47|       12.5|  0.5|    0.5|      3.31|           0|                  0.3|       19.86|           1|        1|                2.75|\n",
      "|       2|  2019-10-0107:55:40|   2019-10-0108:11:43|                 n|         1|         145|         237|              1|         3.23|         14|    0|    0.5|      3.51|           0|                  0.3|       23.01|           1|        1|                2.75|\n",
      "|       2|  2019-10-0107:35:32|   2019-10-0107:41:23|                 n|         1|         244|         243|              1|         1.16|        6.5|    0|    0.5|         0|           0|                  0.3|         7.3|           2|        1|                   0|\n",
      "|       2|  2019-10-0107:21:39|   2019-10-0107:35:52|                 n|         1|          75|         239|              1|         2.32|       11.5|    0|    0.5|      3.01|           0|                  0.3|       18.06|           1|        1|                2.75|\n",
      "|       1|  2019-10-0108:49:15|   2019-10-0108:54:47|                 n|         1|          42|         152|              4|         1.10|          6|    0|    0.5|         0|           0|                  0.3|         6.8|           2|        1|                   0|\n",
      "|       2|  2019-10-0108:43:57|   2019-10-0108:52:54|                 n|         1|         129|          82|              1|         1.50|          8|    0|    0.5|         1|           0|                  0.3|         9.8|           1|        1|                   0|\n",
      "|       2|  2019-10-0108:50:53|   2019-10-0109:08:52|                 n|         1|         134|          92|              1|         4.41|         17|    0|    0.5|         0|           0|                  0.3|        17.8|           2|        1|                   0|\n",
      "|       2|  2019-10-0108:52:35|   2019-10-0109:01:39|                 n|         1|          75|         263|              1|          .69|          7|    0|    0.5|         1|           0|                  0.3|       11.55|           1|        1|                2.75|\n",
      "|       2|  2019-10-0108:05:22|   2019-10-0108:05:23|                 n|         5|         264|         264|              0|          .10|         10|    0|      0|         2|           0|                    0|          12|           1|        2|                   0|\n",
      "|       2|  2019-10-0108:55:58|   2019-10-0108:57:48|                 n|         1|          75|          74|              1|          .68|          4|    0|    0.5|         0|           0|                  0.3|         4.8|           1|        1|                   0|\n",
      "|       2|  2019-10-0108:41:24|   2019-10-0109:16:26|                 n|         1|         189|         237|              1|         9.02|       31.5|    0|    0.5|         0|           0|                  0.3|       35.05|           2|        1|                2.75|\n",
      "|       2|  2019-10-0108:32:07|   2019-10-0108:42:17|                 n|         1|         130|         130|              1|         1.33|        8.5|    0|    0.5|      1.86|           0|                  0.3|       11.16|           1|        1|                   0|\n",
      "|       2|  2019-10-0110:06:13|   2019-10-0110:14:35|                 n|         1|         159|          42|              1|          .92|        7.5|    0|    0.5|         0|           0|                  0.3|         8.3|           1|        1|                   0|\n",
      "|       2|  2019-10-0109:46:12|   2019-10-0110:01:39|                 n|         1|          75|         159|              1|         3.41|       13.5|    0|    0.5|         0|           0|                  0.3|        14.3|           2|        1|                   0|\n",
      "|       2|  2019-10-0109:02:55|   2019-10-0109:13:11|                 n|         1|         130|         121|              3|         3.42|         12|    0|    0.5|         0|           0|                  0.3|        12.8|           2|        1|                   0|\n",
      "|       2|  2019-10-0109:11:43|   2019-10-0109:20:16|                 n|         1|          97|          66|              1|         1.38|        7.5|    0|    0.5|         0|           0|                  0.3|         8.3|           2|        1|                   0|\n",
      "|       2|  2019-10-0109:47:35|   2019-10-0109:53:32|                 n|         1|          92|         173|              2|         1.62|          7|    0|    0.5|         0|           0|                  0.3|         7.8|           2|        1|                   0|\n",
      "|       2|  2019-10-0109:08:28|   2019-10-0109:09:06|                 n|         5|         212|         212|              2|          .15|          8|    0|      0|         0|           0|                    0|           8|           2|        2|                   0|\n",
      "|       2|  2019-10-0109:10:25|   2019-10-0109:23:04|                 n|         1|          74|          75|              2|         1.08|        9.5|    0|    0.5|         0|           0|                  0.3|        10.3|           2|        1|                   0|\n",
      "+--------+--------------------+---------------------+------------------+----------+------------+------------+---------------+-------------+-----------+-----+-------+----------+------------+---------------------+------------+------------+---------+--------------------+\n",
      "only showing top 20 rows\n",
      "\n"
     ]
    }
   ],
   "source": [
    "from pyspark.sql import SparkSession\n",
    "from pyspark.sql.functions import expr\n",
    "\n",
    "distinct_table = new_delta_table.distinct()\n",
    "\n",
    "distinct_table.show()"
   ]
  },
  {
   "cell_type": "code",
   "execution_count": null,
   "metadata": {
    "application/vnd.databricks.v1+cell": {
     "cellMetadata": {
      "byteLimit": 2048000,
      "rowLimit": 10000
     },
     "inputWidgets": {},
     "nuid": "941860d1-1e5c-4fef-a465-bd419eb8ea30",
     "showTitle": false,
     "title": ""
    }
   },
   "outputs": [
    {
     "name": "stdout",
     "output_type": "stream",
     "text": [
      "+--------+--------------------+---------------------+------------------+----------+------------+------------+---------------+-------------+-----------+-----+-------+----------+------------+---------------------+------------+------------+---------+--------------------+\n",
      "|vendorid|lpep_pickup_datetime|lpep_dropoff_datetime|store_and_fwd_flag|ratecodeid|pulocationid|dolocationid|passenger_count|trip_distance|fare_amount|extra|mta_tax|tip_amount|tolls_amount|improvement_surcharge|total_amount|payment_type|trip_type|congestion_surcharge|\n",
      "+--------+--------------------+---------------------+------------------+----------+------------+------------+---------------+-------------+-----------+-----+-------+----------+------------+---------------------+------------+------------+---------+--------------------+\n",
      "|       2|  2019-10-0100:00:48|   2019-10-0100:05:42|                 n|         1|         210|         108|              2|         1.03|          6|  0.5|    0.5|      2.19|           0|                  0.3|        9.49|           1|        1|                   0|\n",
      "|       2|  2019-10-0105:39:45|   2019-10-0105:49:55|                 n|         1|         116|         238|              1|         3.47|       12.5|  0.5|    0.5|      3.31|           0|                  0.3|       19.86|           1|        1|                2.75|\n",
      "|       2|  2019-10-0107:55:40|   2019-10-0108:11:43|                 n|         1|         145|         237|              1|         3.23|         14|    0|    0.5|      3.51|           0|                  0.3|       23.01|           1|        1|                2.75|\n",
      "|       2|  2019-10-0107:35:32|   2019-10-0107:41:23|                 n|         1|         244|         243|              1|         1.16|        6.5|    0|    0.5|         0|           0|                  0.3|         7.3|           2|        1|                   0|\n",
      "|       2|  2019-10-0107:21:39|   2019-10-0107:35:52|                 n|         1|          75|         239|              1|         2.32|       11.5|    0|    0.5|      3.01|           0|                  0.3|       18.06|           1|        1|                2.75|\n",
      "|       1|  2019-10-0108:49:15|   2019-10-0108:54:47|                 n|         1|          42|         152|              4|         1.10|          6|    0|    0.5|         0|           0|                  0.3|         6.8|           2|        1|                   0|\n",
      "|       2|  2019-10-0108:43:57|   2019-10-0108:52:54|                 n|         1|         129|          82|              1|         1.50|          8|    0|    0.5|         1|           0|                  0.3|         9.8|           1|        1|                   0|\n",
      "|       2|  2019-10-0108:50:53|   2019-10-0109:08:52|                 n|         1|         134|          92|              1|         4.41|         17|    0|    0.5|         0|           0|                  0.3|        17.8|           2|        1|                   0|\n",
      "|       2|  2019-10-0108:52:35|   2019-10-0109:01:39|                 n|         1|          75|         263|              1|          .69|          7|    0|    0.5|         1|           0|                  0.3|       11.55|           1|        1|                2.75|\n",
      "|       2|  2019-10-0108:05:22|   2019-10-0108:05:23|                 n|         5|         264|         264|              0|          .10|         10|    0|      0|         2|           0|                    0|          12|           1|        2|                   0|\n",
      "|       2|  2019-10-0108:55:58|   2019-10-0108:57:48|                 n|         1|          75|          74|              1|          .68|          4|    0|    0.5|         0|           0|                  0.3|         4.8|           1|        1|                   0|\n",
      "|       2|  2019-10-0108:41:24|   2019-10-0109:16:26|                 n|         1|         189|         237|              1|         9.02|       31.5|    0|    0.5|         0|           0|                  0.3|       35.05|           2|        1|                2.75|\n",
      "|       2|  2019-10-0108:32:07|   2019-10-0108:42:17|                 n|         1|         130|         130|              1|         1.33|        8.5|    0|    0.5|      1.86|           0|                  0.3|       11.16|           1|        1|                   0|\n",
      "|       2|  2019-10-0110:06:13|   2019-10-0110:14:35|                 n|         1|         159|          42|              1|          .92|        7.5|    0|    0.5|         0|           0|                  0.3|         8.3|           1|        1|                   0|\n",
      "|       2|  2019-10-0109:46:12|   2019-10-0110:01:39|                 n|         1|          75|         159|              1|         3.41|       13.5|    0|    0.5|         0|           0|                  0.3|        14.3|           2|        1|                   0|\n",
      "|       2|  2019-10-0109:02:55|   2019-10-0109:13:11|                 n|         1|         130|         121|              3|         3.42|         12|    0|    0.5|         0|           0|                  0.3|        12.8|           2|        1|                   0|\n",
      "|       2|  2019-10-0109:11:43|   2019-10-0109:20:16|                 n|         1|          97|          66|              1|         1.38|        7.5|    0|    0.5|         0|           0|                  0.3|         8.3|           2|        1|                   0|\n",
      "|       2|  2019-10-0109:47:35|   2019-10-0109:53:32|                 n|         1|          92|         173|              2|         1.62|          7|    0|    0.5|         0|           0|                  0.3|         7.8|           2|        1|                   0|\n",
      "|       2|  2019-10-0109:08:28|   2019-10-0109:09:06|                 n|         5|         212|         212|              2|          .15|          8|    0|      0|         0|           0|                    0|           8|           2|        2|                   0|\n",
      "|       2|  2019-10-0109:10:25|   2019-10-0109:23:04|                 n|         1|          74|          75|              2|         1.08|        9.5|    0|    0.5|         0|           0|                  0.3|        10.3|           2|        1|                   0|\n",
      "+--------+--------------------+---------------------+------------------+----------+------------+------------+---------------+-------------+-----------+-----+-------+----------+------------+---------------------+------------+------------+---------+--------------------+\n",
      "only showing top 20 rows\n",
      "\n",
      "Out[13]: DataFrame[num_affected_rows: bigint, num_inserted_rows: bigint]"
     ]
    }
   ],
   "source": [
    "\n",
    "distinct_table.createOrReplaceTempView(\"SilverView\")\n",
    "\n",
    "# Now you can use SQL queries on the temporary view\n",
    "spark.sql(\"SELECT * FROM SilverView\").show()\n",
    "\n",
    "# Create a Delta table using CTAS\n",
    "spark.sql('''\n",
    "    CREATE TABLE silver_green_trip_data4\n",
    "    USING delta\n",
    "    AS\n",
    "    SELECT *\n",
    "    FROM SilverView\n",
    "''')\n"
   ]
  },
  {
   "cell_type": "code",
   "execution_count": null,
   "metadata": {
    "application/vnd.databricks.v1+cell": {
     "cellMetadata": {
      "byteLimit": 2048000,
      "rowLimit": 10000
     },
     "inputWidgets": {},
     "nuid": "b97bce0e-771f-4dcf-9e5f-92007d45cbd5",
     "showTitle": false,
     "title": ""
    }
   },
   "outputs": [
    {
     "name": "stdout",
     "output_type": "stream",
     "text": [
      "+--------+--------------------+---------------------+------------------+----------+------------+------------+---------------+-------------+-----------+-----+-------+----------+------------+---------------------+------------+------------+---------+--------------------+\n",
      "|vendorid|lpep_pickup_datetime|lpep_dropoff_datetime|store_and_fwd_flag|ratecodeid|pulocationid|dolocationid|passenger_count|trip_distance|fare_amount|extra|mta_tax|tip_amount|tolls_amount|improvement_surcharge|total_amount|payment_type|trip_type|congestion_surcharge|\n",
      "+--------+--------------------+---------------------+------------------+----------+------------+------------+---------------+-------------+-----------+-----+-------+----------+------------+---------------------+------------+------------+---------+--------------------+\n",
      "|       2|  2019-10-0100:00:48|   2019-10-0100:05:42|                 n|         1|         210|         108|              2|         1.03|          6|  0.5|    0.5|      2.19|           0|                  0.3|        9.49|           1|        1|                   0|\n",
      "|       2|  2019-10-0105:39:45|   2019-10-0105:49:55|                 n|         1|         116|         238|              1|         3.47|       12.5|  0.5|    0.5|      3.31|           0|                  0.3|       19.86|           1|        1|                2.75|\n",
      "|       2|  2019-10-0107:55:40|   2019-10-0108:11:43|                 n|         1|         145|         237|              1|         3.23|         14|    0|    0.5|      3.51|           0|                  0.3|       23.01|           1|        1|                2.75|\n",
      "|       2|  2019-10-0107:35:32|   2019-10-0107:41:23|                 n|         1|         244|         243|              1|         1.16|        6.5|    0|    0.5|         0|           0|                  0.3|         7.3|           2|        1|                   0|\n",
      "|       2|  2019-10-0107:21:39|   2019-10-0107:35:52|                 n|         1|          75|         239|              1|         2.32|       11.5|    0|    0.5|      3.01|           0|                  0.3|       18.06|           1|        1|                2.75|\n",
      "|       1|  2019-10-0108:49:15|   2019-10-0108:54:47|                 n|         1|          42|         152|              4|         1.10|          6|    0|    0.5|         0|           0|                  0.3|         6.8|           2|        1|                   0|\n",
      "|       2|  2019-10-0108:43:57|   2019-10-0108:52:54|                 n|         1|         129|          82|              1|         1.50|          8|    0|    0.5|         1|           0|                  0.3|         9.8|           1|        1|                   0|\n",
      "|       2|  2019-10-0108:50:53|   2019-10-0109:08:52|                 n|         1|         134|          92|              1|         4.41|         17|    0|    0.5|         0|           0|                  0.3|        17.8|           2|        1|                   0|\n",
      "|       2|  2019-10-0108:52:35|   2019-10-0109:01:39|                 n|         1|          75|         263|              1|          .69|          7|    0|    0.5|         1|           0|                  0.3|       11.55|           1|        1|                2.75|\n",
      "|       2|  2019-10-0108:05:22|   2019-10-0108:05:23|                 n|         5|         264|         264|              0|          .10|         10|    0|      0|         2|           0|                    0|          12|           1|        2|                   0|\n",
      "|       2|  2019-10-0108:55:58|   2019-10-0108:57:48|                 n|         1|          75|          74|              1|          .68|          4|    0|    0.5|         0|           0|                  0.3|         4.8|           1|        1|                   0|\n",
      "|       2|  2019-10-0108:41:24|   2019-10-0109:16:26|                 n|         1|         189|         237|              1|         9.02|       31.5|    0|    0.5|         0|           0|                  0.3|       35.05|           2|        1|                2.75|\n",
      "|       2|  2019-10-0108:32:07|   2019-10-0108:42:17|                 n|         1|         130|         130|              1|         1.33|        8.5|    0|    0.5|      1.86|           0|                  0.3|       11.16|           1|        1|                   0|\n",
      "|       2|  2019-10-0110:06:13|   2019-10-0110:14:35|                 n|         1|         159|          42|              1|          .92|        7.5|    0|    0.5|         0|           0|                  0.3|         8.3|           1|        1|                   0|\n",
      "|       2|  2019-10-0109:46:12|   2019-10-0110:01:39|                 n|         1|          75|         159|              1|         3.41|       13.5|    0|    0.5|         0|           0|                  0.3|        14.3|           2|        1|                   0|\n",
      "|       2|  2019-10-0109:02:55|   2019-10-0109:13:11|                 n|         1|         130|         121|              3|         3.42|         12|    0|    0.5|         0|           0|                  0.3|        12.8|           2|        1|                   0|\n",
      "|       2|  2019-10-0109:11:43|   2019-10-0109:20:16|                 n|         1|          97|          66|              1|         1.38|        7.5|    0|    0.5|         0|           0|                  0.3|         8.3|           2|        1|                   0|\n",
      "|       2|  2019-10-0109:47:35|   2019-10-0109:53:32|                 n|         1|          92|         173|              2|         1.62|          7|    0|    0.5|         0|           0|                  0.3|         7.8|           2|        1|                   0|\n",
      "|       2|  2019-10-0109:08:28|   2019-10-0109:09:06|                 n|         5|         212|         212|              2|          .15|          8|    0|      0|         0|           0|                    0|           8|           2|        2|                   0|\n",
      "|       2|  2019-10-0109:10:25|   2019-10-0109:23:04|                 n|         1|          74|          75|              2|         1.08|        9.5|    0|    0.5|         0|           0|                  0.3|        10.3|           2|        1|                   0|\n",
      "|       2|  2019-10-0110:59:02|   2019-10-0111:30:36|                 n|         1|         193|         252|              1|         8.63|       31.5|    0|    0.5|         0|           0|                  0.3|        32.3|           1|        1|                   0|\n",
      "|       2|  2019-10-0110:18:25|   2019-10-0110:30:17|                 n|         1|          33|         231|              1|         2.43|         11|    0|    0.5|      3.64|           0|                  0.3|       18.19|           1|        1|                2.75|\n",
      "|       2|  2019-10-0110:20:19|   2019-10-0110:37:26|                 n|         1|         130|         203|              1|         7.48|         23|    0|    0.5|         3|           0|                  0.3|        26.8|           1|        1|                   0|\n",
      "|       2|  2019-10-0111:24:23|   2019-10-0111:42:01|                 n|         1|          52|          49|              1|         2.69|       13.5|    0|    0.5|      2.86|           0|                  0.3|       17.16|           1|        1|                   0|\n",
      "|       2|  2019-10-0111:20:10|   2019-10-0111:22:40|                 n|         1|           7|           7|              1|          .42|          4|    0|    0.5|         0|           0|                  0.3|         4.8|           2|        1|                   0|\n",
      "|       1|  2019-10-0111:41:21|   2019-10-0111:46:49|                 n|         1|         260|         157|              2|          .90|        5.5|    0|    0.5|         0|           0|                  0.3|         6.3|           2|        1|                   0|\n",
      "|       1|  2019-10-0112:24:47|   2019-10-0112:49:44|                 n|         1|          33|          17|              1|         3.10|         17|    0|    0.5|         0|           0|                  0.3|        17.8|           1|        1|                   0|\n",
      "|       2|  2019-10-0112:38:35|   2019-10-0112:49:19|                 n|         1|         244|          42|              1|         2.57|       10.5|    0|    0.5|         0|           0|                  0.3|        11.3|           2|        1|                   0|\n",
      "|       1|  2019-10-0113:32:29|   2019-10-0113:50:06|                 n|         1|          52|          61|              1|         2.50|       12.5|    0|    0.5|         0|           0|                  0.3|        13.3|           2|        1|                   0|\n",
      "|       2|  2019-10-0113:02:12|   2019-10-0113:08:21|                 n|         1|          74|          74|              1|          .68|          6|    0|    0.5|      1.36|           0|                  0.3|        8.16|           1|        1|                   0|\n",
      "|       2|  2019-10-0113:39:26|   2019-10-0113:43:28|                 n|         1|          75|          74|              1|          .82|          5|    0|    0.5|         0|           0|                  0.3|         5.8|           2|        1|                   0|\n",
      "|       2|  2019-10-0113:35:52|   2019-10-0113:48:10|                 n|         1|         181|          62|              1|         2.03|         10|    0|    0.5|         0|           0|                  0.3|        10.8|           2|        1|                   0|\n",
      "|       2|  2019-10-0114:15:43|   2019-10-0114:30:22|                 n|         1|          82|         196|              1|         1.78|       10.5|    0|    0.5|         0|           0|                  0.3|        11.3|           2|        1|                   0|\n",
      "|       2|  2019-10-0114:31:31|   2019-10-0114:36:10|                 n|         1|          75|          75|              1|          .62|          5|    0|    0.5|         0|           0|                  0.3|         5.8|           2|        1|                   0|\n",
      "|       1|  2019-10-0115:10:59|   2019-10-0115:47:55|                 n|         1|         227|         198|              1|          .00|       30.2|    0|    0.5|         0|           0|                  0.3|          31|           1|        1|                   0|\n",
      "|       2|  2019-10-0115:08:44|   2019-10-0115:15:56|                 n|         5|          37|          37|              1|          .11|      17.57|    0|    0.5|         0|           0|                    0|       18.07|           2|        2|                   0|\n",
      "|       2|  2019-10-0115:40:24|   2019-10-0116:40:32|                 n|         1|          92|          89|              1|        20.17|         59|    0|    0.5|         0|           0|                  0.3|        59.8|           1|        1|                   0|\n",
      "|       2|  2019-10-0115:34:15|   2019-10-0115:43:27|                 n|         1|          95|         102|              1|         1.94|        8.5|    0|    0.5|         0|           0|                  0.3|         9.3|           2|        1|                   0|\n",
      "|       1|  2019-10-0116:06:07|   2019-10-0116:15:46|                 n|         1|          41|         152|              1|         1.70|        8.5|    1|    0.5|         0|           0|                  0.3|        10.3|           2|        1|                   0|\n",
      "|       2|  2019-10-0116:45:16|   2019-10-0116:55:02|                 n|         1|          33|          45|              1|         2.05|        9.5|    1|    0.5|         0|           0|                  0.3|       14.05|           2|        1|                2.75|\n",
      "|       2|  2019-10-0116:14:35|   2019-10-0116:32:34|                 n|         1|          17|          25|              1|         2.16|         13|    1|    0.5|         0|           0|                  0.3|        14.8|           1|        1|                   0|\n",
      "|       1|  2019-10-0116:23:11|   2019-10-0117:17:11|                 n|         1|          95|          85|              1|          .00|       28.2|    0|    0.5|         0|           0|                  0.3|          29|           1|        1|                   0|\n",
      "|       2|  2019-10-0116:25:50|   2019-10-0117:15:27|                 n|         1|          76|         156|              1|        23.58|         66|    1|    0.5|         0|       12.24|                  0.3|       80.04|           1|        1|                   0|\n",
      "|       2|  2019-10-0117:41:42|   2019-10-0117:58:20|                 n|         1|          82|         129|              1|         1.87|         12|    1|    0.5|         0|           0|                  0.3|        13.8|           2|        1|                   0|\n",
      "|       2|  2019-10-0117:16:43|   2019-10-0118:08:30|                 n|         1|          65|         210|              1|        15.25|       49.5|    1|    0.5|         0|           0|                  0.3|        51.3|           1|        1|                   0|\n",
      "|       2|  2019-10-0117:43:45|   2019-10-0117:51:50|                 n|         1|          41|          74|              1|         1.44|        7.5|    1|    0.5|         0|           0|                  0.3|         9.3|           1|        1|                   0|\n",
      "|       2|  2019-10-0118:33:58|   2019-10-0118:40:00|                 n|         1|         210|         210|              1|          .93|          6|    1|    0.5|         0|           0|                  0.3|         7.8|           2|        1|                   0|\n",
      "|       2|  2019-10-0118:32:52|   2019-10-0118:41:33|                 n|         1|          82|         138|              1|         3.18|         12|    1|    0.5|      2.76|           0|                  0.3|       16.56|           1|        1|                   0|\n",
      "|       2|  2019-10-0118:52:23|   2019-10-0118:59:50|                 n|         1|         260|          83|              1|          .84|        6.5|    1|    0.5|         0|           0|                  0.3|         8.3|           2|        1|                   0|\n",
      "|       2|  2019-10-0118:19:23|   2019-10-0118:25:39|                 n|         1|         181|          49|              1|         1.26|        6.5|    1|    0.5|      2.49|           0|                  0.3|       10.79|           1|        1|                   0|\n",
      "|       2|  2019-10-0118:38:23|   2019-10-0118:53:48|                 n|         1|          92|           7|              1|         5.39|         18|    1|    0.5|         0|           0|                  0.3|        19.8|           2|        1|                   0|\n",
      "|       2|  2019-10-0118:59:06|   2019-10-0119:03:13|                 n|         1|         134|          28|              1|          .92|        5.5|    1|    0.5|         0|           0|                  0.3|         7.3|           2|        1|                   0|\n",
      "|       1|  2019-10-0118:13:41|   2019-10-0118:20:20|                 n|         1|          74|          42|              1|          .80|        6.5|    1|    0.5|         0|           0|                  0.3|         8.3|           1|        1|                   0|\n",
      "|       2|  2019-10-0118:35:29|   2019-10-0118:39:37|                 n|         1|          42|         168|              1|          .74|          5|    1|    0.5|         0|           0|                  0.3|         6.8|           2|        1|                   0|\n",
      "|       2|  2019-10-0118:32:49|   2019-10-0118:36:02|                 n|         1|           7|           7|              1|          .54|        4.5|    1|    0.5|         0|           0|                  0.3|         6.3|           2|        1|                   0|\n",
      "|       2|  2019-10-0118:28:33|   2019-10-0118:37:17|                 n|         1|         166|          75|              1|         1.33|        7.5|    1|    0.5|      1.25|           0|                  0.3|       10.55|           1|        1|                   0|\n",
      "|       2|  2019-10-0118:02:26|   2019-10-0118:05:51|                 n|         1|          65|          40|              1|          .88|        4.5|    1|    0.5|      1.89|           0|                  0.3|        8.19|           1|        1|                   0|\n",
      "|       1|  2019-10-0119:56:06|   2019-10-0120:14:20|                 n|         1|         244|         142|              2|         6.00|         20| 3.25|    0.5|         2|           0|                  0.3|       26.05|           1|        1|                2.75|\n",
      "|       2|  2019-10-0119:52:09|   2019-10-0120:00:25|                 n|         1|          97|         106|              1|         1.08|          7|    1|    0.5|         0|           0|                  0.3|         8.8|           2|        1|                   0|\n",
      "|       1|  2019-10-0119:53:30|   2019-10-0120:55:53|                 n|         1|         166|          91|              1|          .00|       40.2|    0|    0.5|         0|           0|                  0.3|          41|           1|        1|                   0|\n",
      "|       2|  2019-10-0119:50:26|   2019-10-0120:08:10|                 n|         1|          65|         188|              1|         3.83|       14.5|    1|    0.5|         0|           0|                  0.3|        16.3|           2|        1|                   0|\n",
      "|       2|  2019-10-0119:05:07|   2019-10-0119:10:15|                 n|         1|         146|         179|              1|         1.40|          6|    1|    0.5|         1|           0|                  0.3|         8.8|           1|        1|                   0|\n",
      "|       2|  2019-10-0120:42:25|   2019-10-0120:49:44|                 n|         1|          33|         195|              1|         1.86|          8|  0.5|    0.5|      1.86|           0|                  0.3|       11.16|           1|        1|                   0|\n",
      "|       2|  2019-10-0120:24:57|   2019-10-0120:37:19|                 n|         1|          74|         179|              1|         3.95|       13.5|  0.5|    0.5|      5.23|        6.12|                  0.3|       26.15|           1|        1|                   0|\n",
      "|       1|  2019-10-0120:30:33|   2019-10-0120:42:26|                 n|         1|          74|         152|              1|         1.70|          9|  0.5|    0.5|      2.05|           0|                  0.3|       12.35|           1|        1|                   0|\n",
      "|       2|  2019-10-0121:56:30|   2019-10-0122:09:26|                 n|         1|          92|         135|              1|         3.27|         12|  0.5|    0.5|      2.66|           0|                  0.3|       15.96|           1|        1|                   0|\n",
      "|       2|  2019-10-0121:12:54|   2019-10-0121:19:34|                 n|         1|          61|          61|              2|         1.12|        6.5|  0.5|    0.5|         0|           0|                  0.3|         7.8|           2|        1|                   0|\n",
      "|       2|  2019-10-0121:01:51|   2019-10-0121:36:45|                 n|         1|          97|          91|              1|         6.37|         25|  0.5|    0.5|         0|           0|                  0.3|        26.3|           2|        1|                   0|\n",
      "|       2|  2019-10-0123:00:08|   2019-10-0123:05:35|                 n|         1|         226|         226|              1|          .78|          5|  0.5|    0.5|      1.26|           0|                  0.3|        7.56|           1|        1|                   0|\n",
      "|       2|  2019-10-0122:26:28|   2019-10-0122:31:31|                 n|         1|         134|          28|              1|         1.30|        6.5|  0.5|    0.5|         0|           0|                  0.3|         7.8|           2|        1|                   0|\n",
      "|       1|  2019-10-0122:34:44|   2019-10-0122:34:47|                 n|         1|         173|         173|              1|          .00|        2.5|  0.5|    0.5|         0|           0|                  0.3|         3.8|           3|        1|                   0|\n",
      "|       2|  2019-10-0122:56:12|   2019-10-0123:12:01|                 n|         1|         124|         197|              1|         4.14|       15.5|  0.5|    0.5|         0|           0|                  0.3|        16.8|           2|        1|                   0|\n",
      "|       2|  2019-10-0123:08:03|   2019-10-0123:18:45|                 n|         1|          82|         223|              1|         2.88|       11.5|  0.5|    0.5|         1|           0|                  0.3|        13.8|           1|        1|                   0|\n",
      "|       2|  2019-10-0123:31:00|   2019-10-0123:41:20|                 n|         1|         166|         244|              2|         2.12|        9.5|  0.5|    0.5|         0|           0|                  0.3|        10.8|           1|        1|                   0|\n",
      "|       1|  2019-10-0123:37:02|   2019-10-0123:44:40|                 n|         1|          95|         135|              2|         1.80|          8|  0.5|    0.5|       1.7|           0|                  0.3|          11|           1|        1|                   0|\n",
      "|       2|  2019-10-0123:07:55|   2019-10-0123:32:37|                 n|         1|          65|         226|              1|         6.32|         22|  0.5|    0.5|         0|           0|                  0.3|        23.3|           2|        1|                   0|\n",
      "|       2|  2019-10-0200:37:19|   2019-10-0200:39:25|                 n|         1|          69|         167|              2|          .31|        3.5|  0.5|    0.5|         0|           0|                  0.3|         4.8|           2|        1|                   0|\n",
      "|       2|  2019-10-0200:21:34|   2019-10-0200:24:14|                 n|         1|           7|           7|              3|          .48|        3.5|  0.5|    0.5|         0|           0|                  0.3|         4.8|           2|        1|                   0|\n",
      "|       2|  2019-10-0200:50:47|   2019-10-0200:55:02|                 n|         1|           7|           7|              1|          .83|          5|  0.5|    0.5|         0|           0|                  0.3|         6.3|           2|        1|                   0|\n",
      "|       2|  2019-10-0201:12:12|   2019-10-0201:17:21|                 n|         1|         179|         179|              1|          .94|        5.5|  0.5|    0.5|         0|           0|                  0.3|         6.8|           2|        1|                   0|\n",
      "|       1|  2019-10-0207:32:17|   2019-10-0207:55:48|                 n|         5|         182|          60|              1|         2.00|          8|    0|      0|         0|           0|                    0|           8|           2|        2|                   0|\n",
      "|       2|  2019-10-0208:02:04|   2019-10-0208:11:17|                 n|         1|         116|          42|              1|          .94|        7.5|    0|    0.5|         0|           0|                  0.3|         8.3|           2|        1|                   0|\n",
      "|       2|  2019-10-0207:31:05|   2019-10-0207:38:28|                 n|         1|          75|          74|              1|         1.25|        7.5|    0|    0.5|         0|           0|                  0.3|         8.3|           2|        1|                   0|\n",
      "|       2|  2019-10-0208:00:54|   2019-10-0208:11:37|                 n|         1|          41|         116|              1|         1.76|          9|    0|    0.5|         0|           0|                  0.3|         9.8|           1|        1|                   0|\n",
      "|       2|  2019-10-0207:57:07|   2019-10-0208:09:21|                 n|         1|          74|         166|              1|         1.55|        9.5|    0|    0.5|      2.06|           0|                  0.3|       12.36|           1|        1|                   0|\n",
      "|       2|  2019-10-0208:42:47|   2019-10-0208:48:33|                 n|         1|         145|         145|              2|          .79|        5.5|    0|    0.5|      1.26|           0|                  0.3|        7.56|           1|        1|                   0|\n",
      "|       2|  2019-10-0208:27:03|   2019-10-0208:42:29|                 n|         1|         260|         129|              1|         1.90|       11.5|    0|    0.5|         0|           0|                  0.3|        12.3|           2|        1|                   0|\n",
      "|       2|  2019-10-0208:42:06|   2019-10-0209:01:39|                 n|         1|          17|         188|              1|         2.90|         14|    0|    0.5|      2.96|           0|                  0.3|       17.76|           1|        1|                   0|\n",
      "|       2|  2019-10-0208:22:32|   2019-10-0208:35:24|                 n|         1|          52|         228|              1|         4.13|         14|    0|    0.5|      2.96|           0|                  0.3|       17.76|           1|        1|                   0|\n",
      "|       2|  2019-10-0208:01:16|   2019-10-0208:24:22|                 n|         1|          66|         162|              6|         6.79|         23|    0|    0.5|      5.31|           0|                  0.3|       31.86|           1|        1|                2.75|\n",
      "|       2|  2019-10-0208:04:00|   2019-10-0208:11:11|                 n|         1|           7|         226|              1|         1.31|          7|    0|    0.5|         0|           0|                  0.3|         7.8|           2|        1|                   0|\n",
      "|       1|  2019-10-0208:22:57|   2019-10-0208:30:55|                 n|         1|          56|         173|              1|         1.10|          7|    0|    0.5|         0|           0|                  0.3|         7.8|           2|        1|                   0|\n",
      "|       2|  2019-10-0209:13:10|   2019-10-0209:15:23|                 n|         1|          42|         116|              1|          .51|        3.5|    0|    0.5|      1.08|           0|                  0.3|        5.38|           1|        1|                   0|\n",
      "|       1|  2019-10-0209:00:34|   2019-10-0209:13:51|                 n|         1|          41|         166|              1|         1.40|         10|    0|    0.5|       2.2|           0|                  0.3|          13|           1|        1|                   0|\n",
      "|       2|  2019-10-0209:00:06|   2019-10-0209:20:44|                 n|         1|          74|         260|              1|         5.72|         21|    0|    0.5|      6.98|        6.12|                  0.3|        34.9|           1|        1|                   0|\n",
      "|       1|  2019-10-0209:01:08|   2019-10-0209:30:32|                 n|         1|         254|         242|              1|         4.90|         22|    0|    0.5|         0|           0|                  0.3|        22.8|           1|        1|                   0|\n",
      "|       2|  2019-10-0209:28:31|   2019-10-0209:47:12|                 n|         1|          41|          48|              1|         3.01|         14|    0|    0.5|      3.51|           0|                  0.3|       21.06|           1|        1|                2.75|\n",
      "|       1|  2019-10-0209:06:14|   2019-10-0210:07:08|                 n|         1|         247|          61|              1|          .00|       36.2|    0|    0.5|         0|        6.12|                  0.3|       43.12|           1|        1|                   0|\n",
      "|       2|  2019-10-0209:38:31|   2019-10-0209:46:36|                 n|         1|          74|          42|              1|         1.37|        7.5|    0|    0.5|         0|           0|                  0.3|         8.3|           2|        1|                   0|\n",
      "|       2|  2019-10-0209:33:24|   2019-10-0209:48:23|                 n|         5|         182|          60|              1|         1.81|          9|    0|      0|         0|           0|                    0|           9|           2|        2|                   0|\n",
      "+--------+--------------------+---------------------+------------------+----------+------------+------------+---------------+-------------+-----------+-----+-------+----------+------------+---------------------+------------+------------+---------+--------------------+\n",
      "only showing top 100 rows\n",
      "\n"
     ]
    }
   ],
   "source": [
    "table_name_silver = \"silver_green_trip_data4\"\n",
    "delta_table_silver = spark.table(table_name_silver)\n",
    "\n",
    "# Show the contents of the Delta table\n",
    "delta_table_silver.show(100)"
   ]
  },
  {
   "cell_type": "code",
   "execution_count": null,
   "metadata": {
    "application/vnd.databricks.v1+cell": {
     "cellMetadata": {
      "byteLimit": 2048000,
      "rowLimit": 10000
     },
     "inputWidgets": {},
     "nuid": "e2f6be23-feac-4d18-9718-6ba7b31a725a",
     "showTitle": false,
     "title": ""
    }
   },
   "outputs": [
    {
     "data": {
      "text/plain": []
     },
     "metadata": {
      "application/vnd.databricks.v1+output": {
       "arguments": {},
       "data": "",
       "errorSummary": "Command skipped",
       "errorTraceType": "ansi",
       "metadata": {},
       "type": "ipynbError"
      }
     },
     "output_type": "display_data"
    }
   ],
   "source": [
    "GOLD"
   ]
  },
  {
   "cell_type": "code",
   "execution_count": null,
   "metadata": {
    "application/vnd.databricks.v1+cell": {
     "cellMetadata": {
      "byteLimit": 2048000,
      "rowLimit": 10000
     },
     "inputWidgets": {},
     "nuid": "adc880b4-1e3e-42ab-a717-5f09388c932a",
     "showTitle": false,
     "title": ""
    }
   },
   "outputs": [
    {
     "name": "stdout",
     "output_type": "stream",
     "text": [
      "+--------+--------------------+---------------------+------------------+----------+------------+------------+---------------+-------------+-----------+-----+-------+----------+------------+---------------------+------------+------------+---------+--------------------+\n",
      "|vendorid|lpep_pickup_datetime|lpep_dropoff_datetime|store_and_fwd_flag|ratecodeid|pulocationid|dolocationid|passenger_count|trip_distance|fare_amount|extra|mta_tax|tip_amount|tolls_amount|improvement_surcharge|total_amount|payment_type|trip_type|congestion_surcharge|\n",
      "+--------+--------------------+---------------------+------------------+----------+------------+------------+---------------+-------------+-----------+-----+-------+----------+------------+---------------------+------------+------------+---------+--------------------+\n",
      "|       2|  2019-10-0100:00:48|   2019-10-0100:05:42|                 n|         1|         210|         108|              2|         1.03|          6|  0.5|    0.5|      2.19|           0|                  0.3|        9.49|           1|        1|                   0|\n",
      "|       2|  2019-10-0105:39:45|   2019-10-0105:49:55|                 n|         1|         116|         238|              1|         3.47|       12.5|  0.5|    0.5|      3.31|           0|                  0.3|       19.86|           1|        1|                2.75|\n",
      "|       2|  2019-10-0107:55:40|   2019-10-0108:11:43|                 n|         1|         145|         237|              1|         3.23|         14|    0|    0.5|      3.51|           0|                  0.3|       23.01|           1|        1|                2.75|\n",
      "|       2|  2019-10-0107:35:32|   2019-10-0107:41:23|                 n|         1|         244|         243|              1|         1.16|        6.5|    0|    0.5|         0|           0|                  0.3|         7.3|           2|        1|                   0|\n",
      "|       2|  2019-10-0107:21:39|   2019-10-0107:35:52|                 n|         1|          75|         239|              1|         2.32|       11.5|    0|    0.5|      3.01|           0|                  0.3|       18.06|           1|        1|                2.75|\n",
      "|       1|  2019-10-0108:49:15|   2019-10-0108:54:47|                 n|         1|          42|         152|              4|         1.10|          6|    0|    0.5|         0|           0|                  0.3|         6.8|           2|        1|                   0|\n",
      "|       2|  2019-10-0108:43:57|   2019-10-0108:52:54|                 n|         1|         129|          82|              1|         1.50|          8|    0|    0.5|         1|           0|                  0.3|         9.8|           1|        1|                   0|\n",
      "|       2|  2019-10-0108:50:53|   2019-10-0109:08:52|                 n|         1|         134|          92|              1|         4.41|         17|    0|    0.5|         0|           0|                  0.3|        17.8|           2|        1|                   0|\n",
      "|       2|  2019-10-0108:52:35|   2019-10-0109:01:39|                 n|         1|          75|         263|              1|          .69|          7|    0|    0.5|         1|           0|                  0.3|       11.55|           1|        1|                2.75|\n",
      "|       2|  2019-10-0108:05:22|   2019-10-0108:05:23|                 n|         5|         264|         264|              0|          .10|         10|    0|      0|         2|           0|                    0|          12|           1|        2|                   0|\n",
      "|       2|  2019-10-0108:55:58|   2019-10-0108:57:48|                 n|         1|          75|          74|              1|          .68|          4|    0|    0.5|         0|           0|                  0.3|         4.8|           1|        1|                   0|\n",
      "|       2|  2019-10-0108:41:24|   2019-10-0109:16:26|                 n|         1|         189|         237|              1|         9.02|       31.5|    0|    0.5|         0|           0|                  0.3|       35.05|           2|        1|                2.75|\n",
      "|       2|  2019-10-0108:32:07|   2019-10-0108:42:17|                 n|         1|         130|         130|              1|         1.33|        8.5|    0|    0.5|      1.86|           0|                  0.3|       11.16|           1|        1|                   0|\n",
      "|       2|  2019-10-0110:06:13|   2019-10-0110:14:35|                 n|         1|         159|          42|              1|          .92|        7.5|    0|    0.5|         0|           0|                  0.3|         8.3|           1|        1|                   0|\n",
      "|       2|  2019-10-0109:46:12|   2019-10-0110:01:39|                 n|         1|          75|         159|              1|         3.41|       13.5|    0|    0.5|         0|           0|                  0.3|        14.3|           2|        1|                   0|\n",
      "|       2|  2019-10-0109:02:55|   2019-10-0109:13:11|                 n|         1|         130|         121|              3|         3.42|         12|    0|    0.5|         0|           0|                  0.3|        12.8|           2|        1|                   0|\n",
      "|       2|  2019-10-0109:11:43|   2019-10-0109:20:16|                 n|         1|          97|          66|              1|         1.38|        7.5|    0|    0.5|         0|           0|                  0.3|         8.3|           2|        1|                   0|\n",
      "|       2|  2019-10-0109:47:35|   2019-10-0109:53:32|                 n|         1|          92|         173|              2|         1.62|          7|    0|    0.5|         0|           0|                  0.3|         7.8|           2|        1|                   0|\n",
      "|       2|  2019-10-0109:08:28|   2019-10-0109:09:06|                 n|         5|         212|         212|              2|          .15|          8|    0|      0|         0|           0|                    0|           8|           2|        2|                   0|\n",
      "|       2|  2019-10-0109:10:25|   2019-10-0109:23:04|                 n|         1|          74|          75|              2|         1.08|        9.5|    0|    0.5|         0|           0|                  0.3|        10.3|           2|        1|                   0|\n",
      "+--------+--------------------+---------------------+------------------+----------+------------+------------+---------------+-------------+-----------+-----+-------+----------+------------+---------------------+------------+------------+---------+--------------------+\n",
      "only showing top 20 rows\n",
      "\n"
     ]
    }
   ],
   "source": [
    "from pyspark.sql import SparkSession\n",
    "from pyspark.sql.functions import col\n",
    "\n",
    "\n",
    "# Convert column names to snake_case\n",
    "snake_case_columns = [col(column).alias(column.lower().replace(' ', '_')) for column in delta_table_silver.columns]\n",
    "\n",
    "# Select the DataFrame with snake_case column names\n",
    "transformed_df = delta_table_silver.select(snake_case_columns)\n",
    "\n",
    "# Show the transformed DataFrame\n",
    "transformed_df.show()\n"
   ]
  },
  {
   "cell_type": "code",
   "execution_count": null,
   "metadata": {
    "application/vnd.databricks.v1+cell": {
     "cellMetadata": {
      "byteLimit": 2048000,
      "rowLimit": 10000
     },
     "inputWidgets": {},
     "nuid": "06ecb28c-a879-4831-9d8f-1a8f3a1fcf51",
     "showTitle": false,
     "title": ""
    }
   },
   "outputs": [
    {
     "name": "stdout",
     "output_type": "stream",
     "text": [
      "Original Column Names:\n",
      "vendorid\n",
      "lpep_pickup_datetime\n",
      "lpep_dropoff_datetime\n",
      "store_and_fwd_flag\n",
      "ratecodeid\n",
      "pulocationid\n",
      "dolocationid\n",
      "passenger_count\n",
      "trip_distance\n",
      "fare_amount\n",
      "extra\n",
      "mta_tax\n",
      "tip_amount\n",
      "tolls_amount\n",
      "improvement_surcharge\n",
      "total_amount\n",
      "payment_type\n",
      "trip_type\n",
      "congestion_surcharge\n"
     ]
    }
   ],
   "source": [
    "# Print the original column names\n",
    "print(\"Original Column Names:\")\n",
    "for column in delta_table_silver.columns:\n",
    "    print(column)\n"
   ]
  },
  {
   "cell_type": "code",
   "execution_count": null,
   "metadata": {
    "application/vnd.databricks.v1+cell": {
     "cellMetadata": {
      "byteLimit": 2048000,
      "rowLimit": 10000
     },
     "inputWidgets": {},
     "nuid": "66d8ac29-4aa8-4916-af72-51358c26603b",
     "showTitle": false,
     "title": ""
    }
   },
   "outputs": [
    {
     "name": "stdout",
     "output_type": "stream",
     "text": [
      "+--------+------------------+------------------+------------------+----------+------------+------------+---------------+-------------+-----------+-----+-------+----------+------------+---------------------+------------+------------+---------+--------------------+\n",
      "|vendorid|   pickup_datetime|  dropoff_datetime|store_and_fwd_flag|ratecodeid|pulocationid|dolocationid|passenger_count|trip_distance|fare_amount|extra|mta_tax|tip_amount|tolls_amount|improvement_surcharge|total_amount|payment_type|trip_type|congestion_surcharge|\n",
      "+--------+------------------+------------------+------------------+----------+------------+------------+---------------+-------------+-----------+-----+-------+----------+------------+---------------------+------------+------------+---------+--------------------+\n",
      "|       2|2019-10-0100:00:48|2019-10-0100:05:42|                 n|         1|         210|         108|              2|         1.03|          6|  0.5|    0.5|      2.19|           0|                  0.3|        9.49|           1|        1|                   0|\n",
      "|       2|2019-10-0105:39:45|2019-10-0105:49:55|                 n|         1|         116|         238|              1|         3.47|       12.5|  0.5|    0.5|      3.31|           0|                  0.3|       19.86|           1|        1|                2.75|\n",
      "|       2|2019-10-0107:55:40|2019-10-0108:11:43|                 n|         1|         145|         237|              1|         3.23|         14|    0|    0.5|      3.51|           0|                  0.3|       23.01|           1|        1|                2.75|\n",
      "|       2|2019-10-0107:35:32|2019-10-0107:41:23|                 n|         1|         244|         243|              1|         1.16|        6.5|    0|    0.5|         0|           0|                  0.3|         7.3|           2|        1|                   0|\n",
      "|       2|2019-10-0107:21:39|2019-10-0107:35:52|                 n|         1|          75|         239|              1|         2.32|       11.5|    0|    0.5|      3.01|           0|                  0.3|       18.06|           1|        1|                2.75|\n",
      "|       1|2019-10-0108:49:15|2019-10-0108:54:47|                 n|         1|          42|         152|              4|         1.10|          6|    0|    0.5|         0|           0|                  0.3|         6.8|           2|        1|                   0|\n",
      "|       2|2019-10-0108:43:57|2019-10-0108:52:54|                 n|         1|         129|          82|              1|         1.50|          8|    0|    0.5|         1|           0|                  0.3|         9.8|           1|        1|                   0|\n",
      "|       2|2019-10-0108:50:53|2019-10-0109:08:52|                 n|         1|         134|          92|              1|         4.41|         17|    0|    0.5|         0|           0|                  0.3|        17.8|           2|        1|                   0|\n",
      "|       2|2019-10-0108:52:35|2019-10-0109:01:39|                 n|         1|          75|         263|              1|          .69|          7|    0|    0.5|         1|           0|                  0.3|       11.55|           1|        1|                2.75|\n",
      "|       2|2019-10-0108:05:22|2019-10-0108:05:23|                 n|         5|         264|         264|              0|          .10|         10|    0|      0|         2|           0|                    0|          12|           1|        2|                   0|\n",
      "|       2|2019-10-0108:55:58|2019-10-0108:57:48|                 n|         1|          75|          74|              1|          .68|          4|    0|    0.5|         0|           0|                  0.3|         4.8|           1|        1|                   0|\n",
      "|       2|2019-10-0108:41:24|2019-10-0109:16:26|                 n|         1|         189|         237|              1|         9.02|       31.5|    0|    0.5|         0|           0|                  0.3|       35.05|           2|        1|                2.75|\n",
      "|       2|2019-10-0108:32:07|2019-10-0108:42:17|                 n|         1|         130|         130|              1|         1.33|        8.5|    0|    0.5|      1.86|           0|                  0.3|       11.16|           1|        1|                   0|\n",
      "|       2|2019-10-0110:06:13|2019-10-0110:14:35|                 n|         1|         159|          42|              1|          .92|        7.5|    0|    0.5|         0|           0|                  0.3|         8.3|           1|        1|                   0|\n",
      "|       2|2019-10-0109:46:12|2019-10-0110:01:39|                 n|         1|          75|         159|              1|         3.41|       13.5|    0|    0.5|         0|           0|                  0.3|        14.3|           2|        1|                   0|\n",
      "|       2|2019-10-0109:02:55|2019-10-0109:13:11|                 n|         1|         130|         121|              3|         3.42|         12|    0|    0.5|         0|           0|                  0.3|        12.8|           2|        1|                   0|\n",
      "|       2|2019-10-0109:11:43|2019-10-0109:20:16|                 n|         1|          97|          66|              1|         1.38|        7.5|    0|    0.5|         0|           0|                  0.3|         8.3|           2|        1|                   0|\n",
      "|       2|2019-10-0109:47:35|2019-10-0109:53:32|                 n|         1|          92|         173|              2|         1.62|          7|    0|    0.5|         0|           0|                  0.3|         7.8|           2|        1|                   0|\n",
      "|       2|2019-10-0109:08:28|2019-10-0109:09:06|                 n|         5|         212|         212|              2|          .15|          8|    0|      0|         0|           0|                    0|           8|           2|        2|                   0|\n",
      "|       2|2019-10-0109:10:25|2019-10-0109:23:04|                 n|         1|          74|          75|              2|         1.08|        9.5|    0|    0.5|         0|           0|                  0.3|        10.3|           2|        1|                   0|\n",
      "+--------+------------------+------------------+------------------+----------+------------+------------+---------------+-------------+-----------+-----+-------+----------+------------+---------------------+------------+------------+---------+--------------------+\n",
      "only showing top 20 rows\n",
      "\n",
      "Original Column Names:\n",
      "vendorid\n",
      "pickup_datetime\n",
      "dropoff_datetime\n",
      "store_and_fwd_flag\n",
      "ratecodeid\n",
      "pulocationid\n",
      "dolocationid\n",
      "passenger_count\n",
      "trip_distance\n",
      "fare_amount\n",
      "extra\n",
      "mta_tax\n",
      "tip_amount\n",
      "tolls_amount\n",
      "improvement_surcharge\n",
      "total_amount\n",
      "payment_type\n",
      "trip_type\n",
      "congestion_surcharge\n",
      "+--------+------------------+------------------+------------------+----------+------------+------------+---------------+-------------+-----------+-----+-------+----------+------------+---------------------+------------+------------+---------+--------------------+\n",
      "|vendorid|   pickup_datetime|  dropoff_datetime|store_and_fwd_flag|ratecodeid|pulocationid|dolocationid|passenger_count|trip_distance|fare_amount|extra|mta_tax|tip_amount|tolls_amount|improvement_surcharge|total_amount|payment_type|trip_type|congestion_surcharge|\n",
      "+--------+------------------+------------------+------------------+----------+------------+------------+---------------+-------------+-----------+-----+-------+----------+------------+---------------------+------------+------------+---------+--------------------+\n",
      "|       2|2019-10-0100:00:48|2019-10-0100:05:42|                 n|         1|         210|         108|              2|         1.03|          6|  0.5|    0.5|      2.19|           0|                  0.3|        9.49|           1|        1|                   0|\n",
      "|       2|2019-10-0105:39:45|2019-10-0105:49:55|                 n|         1|         116|         238|              1|         3.47|       12.5|  0.5|    0.5|      3.31|           0|                  0.3|       19.86|           1|        1|                2.75|\n",
      "|       2|2019-10-0107:55:40|2019-10-0108:11:43|                 n|         1|         145|         237|              1|         3.23|         14|    0|    0.5|      3.51|           0|                  0.3|       23.01|           1|        1|                2.75|\n",
      "|       2|2019-10-0107:35:32|2019-10-0107:41:23|                 n|         1|         244|         243|              1|         1.16|        6.5|    0|    0.5|         0|           0|                  0.3|         7.3|           2|        1|                   0|\n",
      "|       2|2019-10-0107:21:39|2019-10-0107:35:52|                 n|         1|          75|         239|              1|         2.32|       11.5|    0|    0.5|      3.01|           0|                  0.3|       18.06|           1|        1|                2.75|\n",
      "|       1|2019-10-0108:49:15|2019-10-0108:54:47|                 n|         1|          42|         152|              4|         1.10|          6|    0|    0.5|         0|           0|                  0.3|         6.8|           2|        1|                   0|\n",
      "|       2|2019-10-0108:43:57|2019-10-0108:52:54|                 n|         1|         129|          82|              1|         1.50|          8|    0|    0.5|         1|           0|                  0.3|         9.8|           1|        1|                   0|\n",
      "|       2|2019-10-0108:50:53|2019-10-0109:08:52|                 n|         1|         134|          92|              1|         4.41|         17|    0|    0.5|         0|           0|                  0.3|        17.8|           2|        1|                   0|\n",
      "|       2|2019-10-0108:52:35|2019-10-0109:01:39|                 n|         1|          75|         263|              1|          .69|          7|    0|    0.5|         1|           0|                  0.3|       11.55|           1|        1|                2.75|\n",
      "|       2|2019-10-0108:05:22|2019-10-0108:05:23|                 n|         5|         264|         264|              0|          .10|         10|    0|      0|         2|           0|                    0|          12|           1|        2|                   0|\n",
      "|       2|2019-10-0108:55:58|2019-10-0108:57:48|                 n|         1|          75|          74|              1|          .68|          4|    0|    0.5|         0|           0|                  0.3|         4.8|           1|        1|                   0|\n",
      "|       2|2019-10-0108:41:24|2019-10-0109:16:26|                 n|         1|         189|         237|              1|         9.02|       31.5|    0|    0.5|         0|           0|                  0.3|       35.05|           2|        1|                2.75|\n",
      "|       2|2019-10-0108:32:07|2019-10-0108:42:17|                 n|         1|         130|         130|              1|         1.33|        8.5|    0|    0.5|      1.86|           0|                  0.3|       11.16|           1|        1|                   0|\n",
      "|       2|2019-10-0110:06:13|2019-10-0110:14:35|                 n|         1|         159|          42|              1|          .92|        7.5|    0|    0.5|         0|           0|                  0.3|         8.3|           1|        1|                   0|\n",
      "|       2|2019-10-0109:46:12|2019-10-0110:01:39|                 n|         1|          75|         159|              1|         3.41|       13.5|    0|    0.5|         0|           0|                  0.3|        14.3|           2|        1|                   0|\n",
      "|       2|2019-10-0109:02:55|2019-10-0109:13:11|                 n|         1|         130|         121|              3|         3.42|         12|    0|    0.5|         0|           0|                  0.3|        12.8|           2|        1|                   0|\n",
      "|       2|2019-10-0109:11:43|2019-10-0109:20:16|                 n|         1|          97|          66|              1|         1.38|        7.5|    0|    0.5|         0|           0|                  0.3|         8.3|           2|        1|                   0|\n",
      "|       2|2019-10-0109:47:35|2019-10-0109:53:32|                 n|         1|          92|         173|              2|         1.62|          7|    0|    0.5|         0|           0|                  0.3|         7.8|           2|        1|                   0|\n",
      "|       2|2019-10-0109:08:28|2019-10-0109:09:06|                 n|         5|         212|         212|              2|          .15|          8|    0|      0|         0|           0|                    0|           8|           2|        2|                   0|\n",
      "|       2|2019-10-0109:10:25|2019-10-0109:23:04|                 n|         1|          74|          75|              2|         1.08|        9.5|    0|    0.5|         0|           0|                  0.3|        10.3|           2|        1|                   0|\n",
      "+--------+------------------+------------------+------------------+----------+------------+------------+---------------+-------------+-----------+-----+-------+----------+------------+---------------------+------------+------------+---------+--------------------+\n",
      "only showing top 20 rows\n",
      "\n"
     ]
    }
   ],
   "source": [
    "# Rename the columns\n",
    "renamed_df = delta_table_silver.withColumnRenamed(\"lpep_pickup_datetime\", \"pickup_datetime\").withColumnRenamed(\"lpep_dropoff_datetime\", \"dropoff_datetime\")\n",
    "\n",
    "# Show the DataFrame with the renamed columns\n",
    "renamed_df.show()\n",
    "\n",
    "\n",
    "# Print the original column names\n",
    "print(\"Original Column Names:\")\n",
    "for column in renamed_df.columns:\n",
    "    print(column)\n",
    "renamed_df.show()"
   ]
  },
  {
   "cell_type": "code",
   "execution_count": null,
   "metadata": {
    "application/vnd.databricks.v1+cell": {
     "cellMetadata": {
      "byteLimit": 2048000,
      "rowLimit": 10000
     },
     "inputWidgets": {},
     "nuid": "409c4d6a-5b9c-4f31-9ea1-d59340ac5d1d",
     "showTitle": false,
     "title": ""
    }
   },
   "outputs": [
    {
     "name": "stdout",
     "output_type": "stream",
     "text": [
      "+--------+-------------------+-------------------+------------------+----------+------------+------------+---------------+-------------+-----------+-----+-------+----------+------------+---------------------+------------+------------+---------+--------------------+\n",
      "|vendorid|    pickup_datetime|   dropoff_datetime|store_and_fwd_flag|ratecodeid|pulocationid|dolocationid|passenger_count|trip_distance|fare_amount|extra|mta_tax|tip_amount|tolls_amount|improvement_surcharge|total_amount|payment_type|trip_type|congestion_surcharge|\n",
      "+--------+-------------------+-------------------+------------------+----------+------------+------------+---------------+-------------+-----------+-----+-------+----------+------------+---------------------+------------+------------+---------+--------------------+\n",
      "|       2|2019-10-01 00:00:48|2019-10-01 00:05:42|                 n|         1|         210|         108|              2|         1.03|          6|  0.5|    0.5|      2.19|           0|                  0.3|        9.49|           1|        1|                   0|\n",
      "|       2|2019-10-01 05:39:45|2019-10-01 05:49:55|                 n|         1|         116|         238|              1|         3.47|       12.5|  0.5|    0.5|      3.31|           0|                  0.3|       19.86|           1|        1|                2.75|\n",
      "|       2|2019-10-01 07:55:40|2019-10-01 08:11:43|                 n|         1|         145|         237|              1|         3.23|         14|    0|    0.5|      3.51|           0|                  0.3|       23.01|           1|        1|                2.75|\n",
      "|       2|2019-10-01 07:35:32|2019-10-01 07:41:23|                 n|         1|         244|         243|              1|         1.16|        6.5|    0|    0.5|         0|           0|                  0.3|         7.3|           2|        1|                   0|\n",
      "|       2|2019-10-01 07:21:39|2019-10-01 07:35:52|                 n|         1|          75|         239|              1|         2.32|       11.5|    0|    0.5|      3.01|           0|                  0.3|       18.06|           1|        1|                2.75|\n",
      "|       1|2019-10-01 08:49:15|2019-10-01 08:54:47|                 n|         1|          42|         152|              4|         1.10|          6|    0|    0.5|         0|           0|                  0.3|         6.8|           2|        1|                   0|\n",
      "|       2|2019-10-01 08:43:57|2019-10-01 08:52:54|                 n|         1|         129|          82|              1|         1.50|          8|    0|    0.5|         1|           0|                  0.3|         9.8|           1|        1|                   0|\n",
      "|       2|2019-10-01 08:50:53|2019-10-01 09:08:52|                 n|         1|         134|          92|              1|         4.41|         17|    0|    0.5|         0|           0|                  0.3|        17.8|           2|        1|                   0|\n",
      "|       2|2019-10-01 08:52:35|2019-10-01 09:01:39|                 n|         1|          75|         263|              1|          .69|          7|    0|    0.5|         1|           0|                  0.3|       11.55|           1|        1|                2.75|\n",
      "|       2|2019-10-01 08:05:22|2019-10-01 08:05:23|                 n|         5|         264|         264|              0|          .10|         10|    0|      0|         2|           0|                    0|          12|           1|        2|                   0|\n",
      "|       2|2019-10-01 08:55:58|2019-10-01 08:57:48|                 n|         1|          75|          74|              1|          .68|          4|    0|    0.5|         0|           0|                  0.3|         4.8|           1|        1|                   0|\n",
      "|       2|2019-10-01 08:41:24|2019-10-01 09:16:26|                 n|         1|         189|         237|              1|         9.02|       31.5|    0|    0.5|         0|           0|                  0.3|       35.05|           2|        1|                2.75|\n",
      "|       2|2019-10-01 08:32:07|2019-10-01 08:42:17|                 n|         1|         130|         130|              1|         1.33|        8.5|    0|    0.5|      1.86|           0|                  0.3|       11.16|           1|        1|                   0|\n",
      "|       2|2019-10-01 10:06:13|2019-10-01 10:14:35|                 n|         1|         159|          42|              1|          .92|        7.5|    0|    0.5|         0|           0|                  0.3|         8.3|           1|        1|                   0|\n",
      "|       2|2019-10-01 09:46:12|2019-10-01 10:01:39|                 n|         1|          75|         159|              1|         3.41|       13.5|    0|    0.5|         0|           0|                  0.3|        14.3|           2|        1|                   0|\n",
      "|       2|2019-10-01 09:02:55|2019-10-01 09:13:11|                 n|         1|         130|         121|              3|         3.42|         12|    0|    0.5|         0|           0|                  0.3|        12.8|           2|        1|                   0|\n",
      "|       2|2019-10-01 09:11:43|2019-10-01 09:20:16|                 n|         1|          97|          66|              1|         1.38|        7.5|    0|    0.5|         0|           0|                  0.3|         8.3|           2|        1|                   0|\n",
      "|       2|2019-10-01 09:47:35|2019-10-01 09:53:32|                 n|         1|          92|         173|              2|         1.62|          7|    0|    0.5|         0|           0|                  0.3|         7.8|           2|        1|                   0|\n",
      "|       2|2019-10-01 09:08:28|2019-10-01 09:09:06|                 n|         5|         212|         212|              2|          .15|          8|    0|      0|         0|           0|                    0|           8|           2|        2|                   0|\n",
      "|       2|2019-10-01 09:10:25|2019-10-01 09:23:04|                 n|         1|          74|          75|              2|         1.08|        9.5|    0|    0.5|         0|           0|                  0.3|        10.3|           2|        1|                   0|\n",
      "+--------+-------------------+-------------------+------------------+----------+------------+------------+---------------+-------------+-----------+-----+-------+----------+------------+---------------------+------------+------------+---------+--------------------+\n",
      "only showing top 20 rows\n",
      "\n"
     ]
    }
   ],
   "source": [
    "from pyspark.sql import SparkSession\n",
    "from pyspark.sql.functions import col, from_unixtime, unix_timestamp, concat_ws, substring\n",
    "\n",
    "# Initialize Spark session\n",
    "spark = SparkSession.builder.appName(\"DateTimeConversion\").getOrCreate()\n",
    "\n",
    "# Assuming you have a DataFrame named renamed_df with columns like \"pickup_datetime\" and \"dropoff_datetime\"\n",
    "# You can replace this with your actual DataFrame creation or loading process\n",
    "\n",
    "# Define the columns to iterate through\n",
    "columns_to_iterate = [\"pickup_datetime\", \"dropoff_datetime\"]\n",
    "\n",
    "# Iterate through each value of the specified columns and convert the datetime format\n",
    "for column_name in columns_to_iterate:\n",
    "    transformed_column = (\n",
    "        from_unixtime(\n",
    "            unix_timestamp(\n",
    "                concat_ws(\n",
    "                    \" \",\n",
    "                    substring(col(column_name), 1, 10),\n",
    "                    substring(col(column_name), 11, 8)\n",
    "                ),\n",
    "                \"yyyy-MM-dd HH:mm:ss\"\n",
    "            )\n",
    "        ).alias(column_name)\n",
    "    )\n",
    "    renamed_df = renamed_df.withColumn(column_name, transformed_column)\n",
    "\n",
    "# Show the DataFrame with the converted datetime format\n",
    "renamed_df.show()\n"
   ]
  },
  {
   "cell_type": "code",
   "execution_count": null,
   "metadata": {
    "application/vnd.databricks.v1+cell": {
     "cellMetadata": {
      "byteLimit": 2048000,
      "rowLimit": 10000
     },
     "inputWidgets": {},
     "nuid": "bc6cabf5-300a-4243-ba54-c5ce9f1f10ec",
     "showTitle": false,
     "title": ""
    }
   },
   "outputs": [
    {
     "name": "stdout",
     "output_type": "stream",
     "text": [
      "+--------+-------------------+-------------------+------------------+----------+------------+------------+---------------+-------------+-----------+-----+-------+----------+------------+---------------------+------------+------------+---------+--------------------+---------------------+\n",
      "|vendorid|    pickup_datetime|   dropoff_datetime|store_and_fwd_flag|ratecodeid|pulocationid|dolocationid|passenger_count|trip_distance|fare_amount|extra|mta_tax|tip_amount|tolls_amount|improvement_surcharge|total_amount|payment_type|trip_type|congestion_surcharge|trip_duration_minutes|\n",
      "+--------+-------------------+-------------------+------------------+----------+------------+------------+---------------+-------------+-----------+-----+-------+----------+------------+---------------------+------------+------------+---------+--------------------+---------------------+\n",
      "|       2|2019-10-01 00:00:48|2019-10-01 00:05:42|                 n|         1|         210|         108|              2|         1.03|          6|  0.5|    0.5|      2.19|           0|                  0.3|        9.49|           1|        1|                   0|                  4.9|\n",
      "|       2|2019-10-01 05:39:45|2019-10-01 05:49:55|                 n|         1|         116|         238|              1|         3.47|       12.5|  0.5|    0.5|      3.31|           0|                  0.3|       19.86|           1|        1|                2.75|                 10.2|\n",
      "|       2|2019-10-01 07:55:40|2019-10-01 08:11:43|                 n|         1|         145|         237|              1|         3.23|         14|    0|    0.5|      3.51|           0|                  0.3|       23.01|           1|        1|                2.75|                 16.1|\n",
      "|       2|2019-10-01 07:35:32|2019-10-01 07:41:23|                 n|         1|         244|         243|              1|         1.16|        6.5|    0|    0.5|         0|           0|                  0.3|         7.3|           2|        1|                   0|                  5.9|\n",
      "|       2|2019-10-01 07:21:39|2019-10-01 07:35:52|                 n|         1|          75|         239|              1|         2.32|       11.5|    0|    0.5|      3.01|           0|                  0.3|       18.06|           1|        1|                2.75|                 14.2|\n",
      "|       1|2019-10-01 08:49:15|2019-10-01 08:54:47|                 n|         1|          42|         152|              4|         1.10|          6|    0|    0.5|         0|           0|                  0.3|         6.8|           2|        1|                   0|                  5.5|\n",
      "|       2|2019-10-01 08:43:57|2019-10-01 08:52:54|                 n|         1|         129|          82|              1|         1.50|          8|    0|    0.5|         1|           0|                  0.3|         9.8|           1|        1|                   0|                  9.0|\n",
      "|       2|2019-10-01 08:50:53|2019-10-01 09:08:52|                 n|         1|         134|          92|              1|         4.41|         17|    0|    0.5|         0|           0|                  0.3|        17.8|           2|        1|                   0|                 18.0|\n",
      "|       2|2019-10-01 08:52:35|2019-10-01 09:01:39|                 n|         1|          75|         263|              1|          .69|          7|    0|    0.5|         1|           0|                  0.3|       11.55|           1|        1|                2.75|                  9.1|\n",
      "|       2|2019-10-01 08:05:22|2019-10-01 08:05:23|                 n|         5|         264|         264|              0|          .10|         10|    0|      0|         2|           0|                    0|          12|           1|        2|                   0|                  0.0|\n",
      "|       2|2019-10-01 08:55:58|2019-10-01 08:57:48|                 n|         1|          75|          74|              1|          .68|          4|    0|    0.5|         0|           0|                  0.3|         4.8|           1|        1|                   0|                  1.8|\n",
      "|       2|2019-10-01 08:41:24|2019-10-01 09:16:26|                 n|         1|         189|         237|              1|         9.02|       31.5|    0|    0.5|         0|           0|                  0.3|       35.05|           2|        1|                2.75|                 35.0|\n",
      "|       2|2019-10-01 08:32:07|2019-10-01 08:42:17|                 n|         1|         130|         130|              1|         1.33|        8.5|    0|    0.5|      1.86|           0|                  0.3|       11.16|           1|        1|                   0|                 10.2|\n",
      "|       2|2019-10-01 10:06:13|2019-10-01 10:14:35|                 n|         1|         159|          42|              1|          .92|        7.5|    0|    0.5|         0|           0|                  0.3|         8.3|           1|        1|                   0|                  8.4|\n",
      "|       2|2019-10-01 09:46:12|2019-10-01 10:01:39|                 n|         1|          75|         159|              1|         3.41|       13.5|    0|    0.5|         0|           0|                  0.3|        14.3|           2|        1|                   0|                 15.5|\n",
      "|       2|2019-10-01 09:02:55|2019-10-01 09:13:11|                 n|         1|         130|         121|              3|         3.42|         12|    0|    0.5|         0|           0|                  0.3|        12.8|           2|        1|                   0|                 10.3|\n",
      "|       2|2019-10-01 09:11:43|2019-10-01 09:20:16|                 n|         1|          97|          66|              1|         1.38|        7.5|    0|    0.5|         0|           0|                  0.3|         8.3|           2|        1|                   0|                  8.6|\n",
      "|       2|2019-10-01 09:47:35|2019-10-01 09:53:32|                 n|         1|          92|         173|              2|         1.62|          7|    0|    0.5|         0|           0|                  0.3|         7.8|           2|        1|                   0|                  6.0|\n",
      "|       2|2019-10-01 09:08:28|2019-10-01 09:09:06|                 n|         5|         212|         212|              2|          .15|          8|    0|      0|         0|           0|                    0|           8|           2|        2|                   0|                  0.6|\n",
      "|       2|2019-10-01 09:10:25|2019-10-01 09:23:04|                 n|         1|          74|          75|              2|         1.08|        9.5|    0|    0.5|         0|           0|                  0.3|        10.3|           2|        1|                   0|                 12.7|\n",
      "+--------+-------------------+-------------------+------------------+----------+------------+------------+---------------+-------------+-----------+-----+-------+----------+------------+---------------------+------------+------------+---------+--------------------+---------------------+\n",
      "only showing top 20 rows\n",
      "\n"
     ]
    }
   ],
   "source": [
    "from pyspark.sql.functions import col, unix_timestamp, round\n",
    "\n",
    "# Calculate the trip duration in minutes and round to 1 decimal place\n",
    "renamed_df = renamed_df.withColumn(\n",
    "    \"trip_duration_minutes\",\n",
    "    round((unix_timestamp(\"dropoff_datetime\") - unix_timestamp(\"pickup_datetime\")) / 60, 1)\n",
    ")\n",
    "\n",
    "# Show the updated DataFrame with the new column\n",
    "renamed_df.show()\n"
   ]
  },
  {
   "cell_type": "code",
   "execution_count": null,
   "metadata": {
    "application/vnd.databricks.v1+cell": {
     "cellMetadata": {
      "byteLimit": 2048000,
      "rowLimit": 10000
     },
     "inputWidgets": {},
     "nuid": "05a11f73-83dc-4384-b953-98d8098cfcd2",
     "showTitle": false,
     "title": ""
    }
   },
   "outputs": [
    {
     "data": {
      "text/plain": []
     },
     "metadata": {
      "application/vnd.databricks.v1+output": {
       "arguments": {},
       "data": "",
       "errorSummary": "Command skipped",
       "errorTraceType": "ansi",
       "metadata": {},
       "type": "ipynbError"
      }
     },
     "output_type": "display_data"
    }
   ],
   "source": []
  },
  {
   "cell_type": "code",
   "execution_count": null,
   "metadata": {
    "application/vnd.databricks.v1+cell": {
     "cellMetadata": {
      "byteLimit": 2048000,
      "rowLimit": 10000
     },
     "inputWidgets": {},
     "nuid": "901a6bc6-cf58-4e66-96a3-d3054210682e",
     "showTitle": false,
     "title": ""
    }
   },
   "outputs": [
    {
     "name": "stdout",
     "output_type": "stream",
     "text": [
      "+--------+-------------------+-------------------+---------------------+------------------+----------+------------+------------+---------------+-------------+-----------+-----+-------+----------+------------+---------------------+------------+------------+---------+--------------------+\n",
      "|vendorid|    pickup_datetime|   dropoff_datetime|trip_duration_minutes|store_and_fwd_flag|ratecodeid|pulocationid|dolocationid|passenger_count|trip_distance|fare_amount|extra|mta_tax|tip_amount|tolls_amount|improvement_surcharge|total_amount|payment_type|trip_type|congestion_surcharge|\n",
      "+--------+-------------------+-------------------+---------------------+------------------+----------+------------+------------+---------------+-------------+-----------+-----+-------+----------+------------+---------------------+------------+------------+---------+--------------------+\n",
      "|       2|2019-10-01 00:00:48|2019-10-01 00:05:42|                  4.9|                 n|         1|         210|         108|              2|         1.03|          6|  0.5|    0.5|      2.19|           0|                  0.3|        9.49|           1|        1|                   0|\n",
      "|       2|2019-10-01 05:39:45|2019-10-01 05:49:55|                 10.2|                 n|         1|         116|         238|              1|         3.47|       12.5|  0.5|    0.5|      3.31|           0|                  0.3|       19.86|           1|        1|                2.75|\n",
      "|       2|2019-10-01 07:55:40|2019-10-01 08:11:43|                 16.1|                 n|         1|         145|         237|              1|         3.23|         14|    0|    0.5|      3.51|           0|                  0.3|       23.01|           1|        1|                2.75|\n",
      "|       2|2019-10-01 07:35:32|2019-10-01 07:41:23|                  5.9|                 n|         1|         244|         243|              1|         1.16|        6.5|    0|    0.5|         0|           0|                  0.3|         7.3|           2|        1|                   0|\n",
      "|       2|2019-10-01 07:21:39|2019-10-01 07:35:52|                 14.2|                 n|         1|          75|         239|              1|         2.32|       11.5|    0|    0.5|      3.01|           0|                  0.3|       18.06|           1|        1|                2.75|\n",
      "|       1|2019-10-01 08:49:15|2019-10-01 08:54:47|                  5.5|                 n|         1|          42|         152|              4|         1.10|          6|    0|    0.5|         0|           0|                  0.3|         6.8|           2|        1|                   0|\n",
      "|       2|2019-10-01 08:43:57|2019-10-01 08:52:54|                  9.0|                 n|         1|         129|          82|              1|         1.50|          8|    0|    0.5|         1|           0|                  0.3|         9.8|           1|        1|                   0|\n",
      "|       2|2019-10-01 08:50:53|2019-10-01 09:08:52|                 18.0|                 n|         1|         134|          92|              1|         4.41|         17|    0|    0.5|         0|           0|                  0.3|        17.8|           2|        1|                   0|\n",
      "|       2|2019-10-01 08:52:35|2019-10-01 09:01:39|                  9.1|                 n|         1|          75|         263|              1|          .69|          7|    0|    0.5|         1|           0|                  0.3|       11.55|           1|        1|                2.75|\n",
      "|       2|2019-10-01 08:05:22|2019-10-01 08:05:23|                  0.0|                 n|         5|         264|         264|              0|          .10|         10|    0|      0|         2|           0|                    0|          12|           1|        2|                   0|\n",
      "|       2|2019-10-01 08:55:58|2019-10-01 08:57:48|                  1.8|                 n|         1|          75|          74|              1|          .68|          4|    0|    0.5|         0|           0|                  0.3|         4.8|           1|        1|                   0|\n",
      "|       2|2019-10-01 08:41:24|2019-10-01 09:16:26|                 35.0|                 n|         1|         189|         237|              1|         9.02|       31.5|    0|    0.5|         0|           0|                  0.3|       35.05|           2|        1|                2.75|\n",
      "|       2|2019-10-01 08:32:07|2019-10-01 08:42:17|                 10.2|                 n|         1|         130|         130|              1|         1.33|        8.5|    0|    0.5|      1.86|           0|                  0.3|       11.16|           1|        1|                   0|\n",
      "|       2|2019-10-01 10:06:13|2019-10-01 10:14:35|                  8.4|                 n|         1|         159|          42|              1|          .92|        7.5|    0|    0.5|         0|           0|                  0.3|         8.3|           1|        1|                   0|\n",
      "|       2|2019-10-01 09:46:12|2019-10-01 10:01:39|                 15.5|                 n|         1|          75|         159|              1|         3.41|       13.5|    0|    0.5|         0|           0|                  0.3|        14.3|           2|        1|                   0|\n",
      "|       2|2019-10-01 09:02:55|2019-10-01 09:13:11|                 10.3|                 n|         1|         130|         121|              3|         3.42|         12|    0|    0.5|         0|           0|                  0.3|        12.8|           2|        1|                   0|\n",
      "|       2|2019-10-01 09:11:43|2019-10-01 09:20:16|                  8.6|                 n|         1|          97|          66|              1|         1.38|        7.5|    0|    0.5|         0|           0|                  0.3|         8.3|           2|        1|                   0|\n",
      "|       2|2019-10-01 09:47:35|2019-10-01 09:53:32|                  6.0|                 n|         1|          92|         173|              2|         1.62|          7|    0|    0.5|         0|           0|                  0.3|         7.8|           2|        1|                   0|\n",
      "|       2|2019-10-01 09:08:28|2019-10-01 09:09:06|                  0.6|                 n|         5|         212|         212|              2|          .15|          8|    0|      0|         0|           0|                    0|           8|           2|        2|                   0|\n",
      "|       2|2019-10-01 09:10:25|2019-10-01 09:23:04|                 12.7|                 n|         1|          74|          75|              2|         1.08|        9.5|    0|    0.5|         0|           0|                  0.3|        10.3|           2|        1|                   0|\n",
      "+--------+-------------------+-------------------+---------------------+------------------+----------+------------+------------+---------------+-------------+-----------+-----+-------+----------+------------+---------------------+------------+------------+---------+--------------------+\n",
      "only showing top 20 rows\n",
      "\n"
     ]
    }
   ],
   "source": [
    "renamed_df = renamed_df[[\"vendorid\",\n",
    "\"pickup_datetime\",\n",
    "\"dropoff_datetime\",\n",
    "\"trip_duration_minutes\",\n",
    "\"store_and_fwd_flag\",\n",
    "\"ratecodeid\",\n",
    "\"pulocationid\",\n",
    "\"dolocationid\",\n",
    "\"passenger_count\",\n",
    "\"trip_distance\",\n",
    "\"fare_amount\",\n",
    "\"extra\",\n",
    "\"mta_tax\",\n",
    "\"tip_amount\",\n",
    "\"tolls_amount\",\n",
    "\"improvement_surcharge\",\n",
    "\"total_amount\",\n",
    "\"payment_type\",\n",
    "\"trip_type\",\n",
    "\"congestion_surcharge\"]]\n",
    "\n",
    "renamed_df.show()\n"
   ]
  },
  {
   "cell_type": "code",
   "execution_count": null,
   "metadata": {
    "application/vnd.databricks.v1+cell": {
     "cellMetadata": {
      "byteLimit": 2048000,
      "rowLimit": 10000
     },
     "inputWidgets": {},
     "nuid": "684e468c-e4ac-42e2-8f2c-fc22ec37654a",
     "showTitle": false,
     "title": ""
    }
   },
   "outputs": [
    {
     "name": "stdout",
     "output_type": "stream",
     "text": [
      "Column: vendorid, None Count: 376740\n",
      "Column: pickup_datetime, None Count: 0\n",
      "Column: dropoff_datetime, None Count: 0\n",
      "Column: trip_duration_minutes, None Count: 0\n",
      "Column: store_and_fwd_flag, None Count: 376740\n",
      "Column: ratecodeid, None Count: 376740\n",
      "Column: pulocationid, None Count: 0\n",
      "Column: dolocationid, None Count: 0\n",
      "Column: passenger_count, None Count: 376740\n",
      "Column: trip_distance, None Count: 0\n",
      "Column: fare_amount, None Count: 0\n",
      "Column: extra, None Count: 0\n",
      "Column: mta_tax, None Count: 0\n",
      "Column: tip_amount, None Count: 0\n",
      "Column: tolls_amount, None Count: 0\n",
      "Column: improvement_surcharge, None Count: 2\n",
      "Column: total_amount, None Count: 0\n",
      "Column: payment_type, None Count: 376740\n",
      "Column: trip_type, None Count: 376827\n",
      "Column: congestion_surcharge, None Count: 376742\n"
     ]
    }
   ],
   "source": [
    "from pyspark.sql.functions import sum, when, col\n",
    "\n",
    "# Iterate through each column and calculate the count of 'none' values\n",
    "none_counts = {}\n",
    "for column_name in renamed_df.columns:\n",
    "    none_count = renamed_df.select(sum(when(col(column_name) == 'none', 1).otherwise(0))).first()[0]\n",
    "    none_counts[column_name] = none_count\n",
    "\n",
    "# Print the counts of 'none' values in each column\n",
    "for column_name, count in none_counts.items():\n",
    "    print(f\"Column: {column_name}, None Count: {count}\")\n"
   ]
  },
  {
   "cell_type": "code",
   "execution_count": null,
   "metadata": {
    "application/vnd.databricks.v1+cell": {
     "cellMetadata": {
      "byteLimit": 2048000,
      "rowLimit": 10000
     },
     "inputWidgets": {},
     "nuid": "d7a030a2-131f-4d72-89d8-1f5ea35d9bc4",
     "showTitle": false,
     "title": ""
    }
   },
   "outputs": [
    {
     "name": "stdout",
     "output_type": "stream",
     "text": [
      "Total rows before filtering 'none' values: 2275267\n",
      "Total rows after filtering 'none' values: 0\n"
     ]
    }
   ],
   "source": [
    "from pyspark.sql.functions import col\n",
    "\n",
    "# Filter out rows with 'none' values in any column\n",
    "filtered_df = renamed_df\n",
    "for column_name in renamed_df.columns:\n",
    "    filtered_df = filtered_df.filter(col(column_name) != 'none')\n",
    "\n",
    "# Calculate the number of rows before and after filtering\n",
    "total_rows_before = renamed_df.count()\n",
    "total_rows_after = filtered_df.count()\n",
    "\n",
    "print(f\"Total rows before filtering 'none' values: {total_rows_before}\")\n",
    "print(f\"Total rows after filtering 'none' values: {total_rows_after}\")\n"
   ]
  },
  {
   "cell_type": "code",
   "execution_count": null,
   "metadata": {
    "application/vnd.databricks.v1+cell": {
     "cellMetadata": {
      "byteLimit": 2048000,
      "rowLimit": 10000
     },
     "inputWidgets": {},
     "nuid": "87a159bb-c6d9-4e7f-b0be-abe63c40dbc7",
     "showTitle": false,
     "title": ""
    }
   },
   "outputs": [
    {
     "name": "stdout",
     "output_type": "stream",
     "text": [
      "Total rows before filtering 'none' values: 2275267\n",
      "Total rows after filtering 'none' values: 1898440\n"
     ]
    }
   ],
   "source": [
    "from pyspark.sql.functions import col, trim\n",
    "\n",
    "filtered_df = renamed_df\n",
    "for column_name in renamed_df.columns:\n",
    "    filtered_df = filtered_df.filter(trim(col(column_name)) != 'none')\n",
    "\n",
    "total_rows_before = renamed_df.count()\n",
    "total_rows_after = filtered_df.count()\n",
    "\n",
    "print(f\"Total rows before filtering 'none' values: {total_rows_before}\")\n",
    "print(f\"Total rows after filtering 'none' values: {total_rows_after}\")\n"
   ]
  },
  {
   "cell_type": "code",
   "execution_count": null,
   "metadata": {
    "application/vnd.databricks.v1+cell": {
     "cellMetadata": {
      "byteLimit": 2048000,
      "rowLimit": 10000
     },
     "inputWidgets": {},
     "nuid": "d9197c52-997c-497f-8505-cb3324393b66",
     "showTitle": false,
     "title": ""
    }
   },
   "outputs": [
    {
     "name": "stdout",
     "output_type": "stream",
     "text": [
      "+--------+-------------------+-------------------+---------------------+------------------+----------+------------+------------+---------------+-------------+-----------+-----+-------+----------+------------+---------------------+------------+------------+---------+--------------------+\n",
      "|vendorid|    pickup_datetime|   dropoff_datetime|trip_duration_minutes|store_and_fwd_flag|ratecodeid|pulocationid|dolocationid|passenger_count|trip_distance|fare_amount|extra|mta_tax|tip_amount|tolls_amount|improvement_surcharge|total_amount|payment_type|trip_type|congestion_surcharge|\n",
      "+--------+-------------------+-------------------+---------------------+------------------+----------+------------+------------+---------------+-------------+-----------+-----+-------+----------+------------+---------------------+------------+------------+---------+--------------------+\n",
      "|       2|2019-10-01 00:00:48|2019-10-01 00:05:42|                  4.9|                 n|         1|         210|         108|              2|         1.03|          6|  0.5|    0.5|      2.19|           0|                  0.3|        9.49|           1|        1|                   0|\n",
      "|       2|2019-10-01 05:39:45|2019-10-01 05:49:55|                 10.2|                 n|         1|         116|         238|              1|         3.47|       12.5|  0.5|    0.5|      3.31|           0|                  0.3|       19.86|           1|        1|                2.75|\n",
      "|       2|2019-10-01 07:55:40|2019-10-01 08:11:43|                 16.1|                 n|         1|         145|         237|              1|         3.23|         14|    0|    0.5|      3.51|           0|                  0.3|       23.01|           1|        1|                2.75|\n",
      "|       2|2019-10-01 07:35:32|2019-10-01 07:41:23|                  5.9|                 n|         1|         244|         243|              1|         1.16|        6.5|    0|    0.5|         0|           0|                  0.3|         7.3|           2|        1|                   0|\n",
      "|       2|2019-10-01 07:21:39|2019-10-01 07:35:52|                 14.2|                 n|         1|          75|         239|              1|         2.32|       11.5|    0|    0.5|      3.01|           0|                  0.3|       18.06|           1|        1|                2.75|\n",
      "|       1|2019-10-01 08:49:15|2019-10-01 08:54:47|                  5.5|                 n|         1|          42|         152|              4|         1.10|          6|    0|    0.5|         0|           0|                  0.3|         6.8|           2|        1|                   0|\n",
      "|       2|2019-10-01 08:43:57|2019-10-01 08:52:54|                  9.0|                 n|         1|         129|          82|              1|         1.50|          8|    0|    0.5|         1|           0|                  0.3|         9.8|           1|        1|                   0|\n",
      "|       2|2019-10-01 08:50:53|2019-10-01 09:08:52|                 18.0|                 n|         1|         134|          92|              1|         4.41|         17|    0|    0.5|         0|           0|                  0.3|        17.8|           2|        1|                   0|\n",
      "|       2|2019-10-01 08:52:35|2019-10-01 09:01:39|                  9.1|                 n|         1|          75|         263|              1|          .69|          7|    0|    0.5|         1|           0|                  0.3|       11.55|           1|        1|                2.75|\n",
      "|       2|2019-10-01 08:05:22|2019-10-01 08:05:23|                  0.0|                 n|         5|         264|         264|              0|          .10|         10|    0|      0|         2|           0|                    0|          12|           1|        2|                   0|\n",
      "|       2|2019-10-01 08:55:58|2019-10-01 08:57:48|                  1.8|                 n|         1|          75|          74|              1|          .68|          4|    0|    0.5|         0|           0|                  0.3|         4.8|           1|        1|                   0|\n",
      "|       2|2019-10-01 08:41:24|2019-10-01 09:16:26|                 35.0|                 n|         1|         189|         237|              1|         9.02|       31.5|    0|    0.5|         0|           0|                  0.3|       35.05|           2|        1|                2.75|\n",
      "|       2|2019-10-01 08:32:07|2019-10-01 08:42:17|                 10.2|                 n|         1|         130|         130|              1|         1.33|        8.5|    0|    0.5|      1.86|           0|                  0.3|       11.16|           1|        1|                   0|\n",
      "|       2|2019-10-01 10:06:13|2019-10-01 10:14:35|                  8.4|                 n|         1|         159|          42|              1|          .92|        7.5|    0|    0.5|         0|           0|                  0.3|         8.3|           1|        1|                   0|\n",
      "|       2|2019-10-01 09:46:12|2019-10-01 10:01:39|                 15.5|                 n|         1|          75|         159|              1|         3.41|       13.5|    0|    0.5|         0|           0|                  0.3|        14.3|           2|        1|                   0|\n",
      "|       2|2019-10-01 09:02:55|2019-10-01 09:13:11|                 10.3|                 n|         1|         130|         121|              3|         3.42|         12|    0|    0.5|         0|           0|                  0.3|        12.8|           2|        1|                   0|\n",
      "|       2|2019-10-01 09:11:43|2019-10-01 09:20:16|                  8.6|                 n|         1|          97|          66|              1|         1.38|        7.5|    0|    0.5|         0|           0|                  0.3|         8.3|           2|        1|                   0|\n",
      "|       2|2019-10-01 09:47:35|2019-10-01 09:53:32|                  6.0|                 n|         1|          92|         173|              2|         1.62|          7|    0|    0.5|         0|           0|                  0.3|         7.8|           2|        1|                   0|\n",
      "|       2|2019-10-01 09:08:28|2019-10-01 09:09:06|                  0.6|                 n|         5|         212|         212|              2|          .15|          8|    0|      0|         0|           0|                    0|           8|           2|        2|                   0|\n",
      "|       2|2019-10-01 09:10:25|2019-10-01 09:23:04|                 12.7|                 n|         1|          74|          75|              2|         1.08|        9.5|    0|    0.5|         0|           0|                  0.3|        10.3|           2|        1|                   0|\n",
      "+--------+-------------------+-------------------+---------------------+------------------+----------+------------+------------+---------------+-------------+-----------+-----+-------+----------+------------+---------------------+------------+------------+---------+--------------------+\n",
      "only showing top 20 rows\n",
      "\n",
      "+--------+-------------------+-------------------+---------------------+------------------+----------+------------+------------+---------------+-------------+-----------+-----+-------+----------+------------+---------------------+------------+------------+---------+--------------------+\n",
      "|vendorid|    pickup_datetime|   dropoff_datetime|trip_duration_minutes|store_and_fwd_flag|ratecodeid|pulocationid|dolocationid|passenger_count|trip_distance|fare_amount|extra|mta_tax|tip_amount|tolls_amount|improvement_surcharge|total_amount|payment_type|trip_type|congestion_surcharge|\n",
      "+--------+-------------------+-------------------+---------------------+------------------+----------+------------+------------+---------------+-------------+-----------+-----+-------+----------+------------+---------------------+------------+------------+---------+--------------------+\n",
      "|       2|2019-10-01 00:00:48|2019-10-01 00:05:42|                  4.9|                 n|         1|         210|         108|              2|         1.03|          6|  0.5|    0.5|      2.19|           0|                  0.3|        9.49|           1|        1|                   0|\n",
      "|       2|2019-10-01 05:39:45|2019-10-01 05:49:55|                 10.2|                 n|         1|         116|         238|              1|         3.47|       12.5|  0.5|    0.5|      3.31|           0|                  0.3|       19.86|           1|        1|                2.75|\n",
      "|       2|2019-10-01 07:55:40|2019-10-01 08:11:43|                 16.1|                 n|         1|         145|         237|              1|         3.23|         14|    0|    0.5|      3.51|           0|                  0.3|       23.01|           1|        1|                2.75|\n",
      "|       2|2019-10-01 07:35:32|2019-10-01 07:41:23|                  5.9|                 n|         1|         244|         243|              1|         1.16|        6.5|    0|    0.5|         0|           0|                  0.3|         7.3|           2|        1|                   0|\n",
      "|       2|2019-10-01 07:21:39|2019-10-01 07:35:52|                 14.2|                 n|         1|          75|         239|              1|         2.32|       11.5|    0|    0.5|      3.01|           0|                  0.3|       18.06|           1|        1|                2.75|\n",
      "|       1|2019-10-01 08:49:15|2019-10-01 08:54:47|                  5.5|                 n|         1|          42|         152|              4|         1.10|          6|    0|    0.5|         0|           0|                  0.3|         6.8|           2|        1|                   0|\n",
      "|       2|2019-10-01 08:43:57|2019-10-01 08:52:54|                  9.0|                 n|         1|         129|          82|              1|         1.50|          8|    0|    0.5|         1|           0|                  0.3|         9.8|           1|        1|                   0|\n",
      "|       2|2019-10-01 08:50:53|2019-10-01 09:08:52|                 18.0|                 n|         1|         134|          92|              1|         4.41|         17|    0|    0.5|         0|           0|                  0.3|        17.8|           2|        1|                   0|\n",
      "|       2|2019-10-01 08:52:35|2019-10-01 09:01:39|                  9.1|                 n|         1|          75|         263|              1|          .69|          7|    0|    0.5|         1|           0|                  0.3|       11.55|           1|        1|                2.75|\n",
      "|       2|2019-10-01 08:05:22|2019-10-01 08:05:23|                  0.0|                 n|         5|         264|         264|              0|          .10|         10|    0|      0|         2|           0|                    0|          12|           1|        2|                   0|\n",
      "|       2|2019-10-01 08:55:58|2019-10-01 08:57:48|                  1.8|                 n|         1|          75|          74|              1|          .68|          4|    0|    0.5|         0|           0|                  0.3|         4.8|           1|        1|                   0|\n",
      "|       2|2019-10-01 08:41:24|2019-10-01 09:16:26|                 35.0|                 n|         1|         189|         237|              1|         9.02|       31.5|    0|    0.5|         0|           0|                  0.3|       35.05|           2|        1|                2.75|\n",
      "|       2|2019-10-01 08:32:07|2019-10-01 08:42:17|                 10.2|                 n|         1|         130|         130|              1|         1.33|        8.5|    0|    0.5|      1.86|           0|                  0.3|       11.16|           1|        1|                   0|\n",
      "|       2|2019-10-01 10:06:13|2019-10-01 10:14:35|                  8.4|                 n|         1|         159|          42|              1|          .92|        7.5|    0|    0.5|         0|           0|                  0.3|         8.3|           1|        1|                   0|\n",
      "|       2|2019-10-01 09:46:12|2019-10-01 10:01:39|                 15.5|                 n|         1|          75|         159|              1|         3.41|       13.5|    0|    0.5|         0|           0|                  0.3|        14.3|           2|        1|                   0|\n",
      "|       2|2019-10-01 09:02:55|2019-10-01 09:13:11|                 10.3|                 n|         1|         130|         121|              3|         3.42|         12|    0|    0.5|         0|           0|                  0.3|        12.8|           2|        1|                   0|\n",
      "|       2|2019-10-01 09:11:43|2019-10-01 09:20:16|                  8.6|                 n|         1|          97|          66|              1|         1.38|        7.5|    0|    0.5|         0|           0|                  0.3|         8.3|           2|        1|                   0|\n",
      "|       2|2019-10-01 09:47:35|2019-10-01 09:53:32|                  6.0|                 n|         1|          92|         173|              2|         1.62|          7|    0|    0.5|         0|           0|                  0.3|         7.8|           2|        1|                   0|\n",
      "|       2|2019-10-01 09:08:28|2019-10-01 09:09:06|                  0.6|                 n|         5|         212|         212|              2|          .15|          8|    0|      0|         0|           0|                    0|           8|           2|        2|                   0|\n",
      "|       2|2019-10-01 09:10:25|2019-10-01 09:23:04|                 12.7|                 n|         1|          74|          75|              2|         1.08|        9.5|    0|    0.5|         0|           0|                  0.3|        10.3|           2|        1|                   0|\n",
      "+--------+-------------------+-------------------+---------------------+------------------+----------+------------+------------+---------------+-------------+-----------+-----+-------+----------+------------+---------------------+------------+------------+---------+--------------------+\n",
      "only showing top 20 rows\n",
      "\n"
     ]
    }
   ],
   "source": [
    "filtered_df.show()\n",
    "renamed_df.show()"
   ]
  },
  {
   "cell_type": "code",
   "execution_count": null,
   "metadata": {
    "application/vnd.databricks.v1+cell": {
     "cellMetadata": {
      "byteLimit": 2048000,
      "rowLimit": 10000
     },
     "inputWidgets": {},
     "nuid": "1a97181d-7bc5-4633-9fc9-b737630fbcef",
     "showTitle": false,
     "title": ""
    }
   },
   "outputs": [
    {
     "name": "stdout",
     "output_type": "stream",
     "text": [
      "+--------+-------------------+-------------------+---------------------+------------------+----------+------------+------------+---------------+-------------+-----------+-----+-------+----------+------------+---------------------+------------+------------+---------+--------------------+\n",
      "|vendorid|    pickup_datetime|   dropoff_datetime|trip_duration_minutes|store_and_fwd_flag|ratecodeid|pulocationid|dolocationid|passenger_count|trip_distance|fare_amount|extra|mta_tax|tip_amount|tolls_amount|improvement_surcharge|total_amount|payment_type|trip_type|congestion_surcharge|\n",
      "+--------+-------------------+-------------------+---------------------+------------------+----------+------------+------------+---------------+-------------+-----------+-----+-------+----------+------------+---------------------+------------+------------+---------+--------------------+\n",
      "|       2|2019-10-01 00:00:48|2019-10-01 00:05:42|                  4.9|                 n|         1|         210|         108|              2|         1.03|          6|  0.5|    0.5|      2.19|           0|                  0.3|        9.49|           1|        1|                   0|\n",
      "|       2|2019-10-01 05:39:45|2019-10-01 05:49:55|                 10.2|                 n|         1|         116|         238|              1|         3.47|       12.5|  0.5|    0.5|      3.31|           0|                  0.3|       19.86|           1|        1|                2.75|\n",
      "|       2|2019-10-01 07:55:40|2019-10-01 08:11:43|                 16.1|                 n|         1|         145|         237|              1|         3.23|         14|    0|    0.5|      3.51|           0|                  0.3|       23.01|           1|        1|                2.75|\n",
      "|       2|2019-10-01 07:35:32|2019-10-01 07:41:23|                  5.9|                 n|         1|         244|         243|              1|         1.16|        6.5|    0|    0.5|         0|           0|                  0.3|         7.3|           2|        1|                   0|\n",
      "|       2|2019-10-01 07:21:39|2019-10-01 07:35:52|                 14.2|                 n|         1|          75|         239|              1|         2.32|       11.5|    0|    0.5|      3.01|           0|                  0.3|       18.06|           1|        1|                2.75|\n",
      "|       1|2019-10-01 08:49:15|2019-10-01 08:54:47|                  5.5|                 n|         1|          42|         152|              4|         1.10|          6|    0|    0.5|         0|           0|                  0.3|         6.8|           2|        1|                   0|\n",
      "|       2|2019-10-01 08:43:57|2019-10-01 08:52:54|                  9.0|                 n|         1|         129|          82|              1|         1.50|          8|    0|    0.5|         1|           0|                  0.3|         9.8|           1|        1|                   0|\n",
      "|       2|2019-10-01 08:50:53|2019-10-01 09:08:52|                 18.0|                 n|         1|         134|          92|              1|         4.41|         17|    0|    0.5|         0|           0|                  0.3|        17.8|           2|        1|                   0|\n",
      "|       2|2019-10-01 08:52:35|2019-10-01 09:01:39|                  9.1|                 n|         1|          75|         263|              1|          .69|          7|    0|    0.5|         1|           0|                  0.3|       11.55|           1|        1|                2.75|\n",
      "|       2|2019-10-01 08:05:22|2019-10-01 08:05:23|                  0.0|                 n|         5|         264|         264|              0|          .10|         10|    0|      0|         2|           0|                    0|          12|           1|        2|                   0|\n",
      "|       2|2019-10-01 08:55:58|2019-10-01 08:57:48|                  1.8|                 n|         1|          75|          74|              1|          .68|          4|    0|    0.5|         0|           0|                  0.3|         4.8|           1|        1|                   0|\n",
      "|       2|2019-10-01 08:41:24|2019-10-01 09:16:26|                 35.0|                 n|         1|         189|         237|              1|         9.02|       31.5|    0|    0.5|         0|           0|                  0.3|       35.05|           2|        1|                2.75|\n",
      "|       2|2019-10-01 08:32:07|2019-10-01 08:42:17|                 10.2|                 n|         1|         130|         130|              1|         1.33|        8.5|    0|    0.5|      1.86|           0|                  0.3|       11.16|           1|        1|                   0|\n",
      "|       2|2019-10-01 10:06:13|2019-10-01 10:14:35|                  8.4|                 n|         1|         159|          42|              1|          .92|        7.5|    0|    0.5|         0|           0|                  0.3|         8.3|           1|        1|                   0|\n",
      "|       2|2019-10-01 09:46:12|2019-10-01 10:01:39|                 15.5|                 n|         1|          75|         159|              1|         3.41|       13.5|    0|    0.5|         0|           0|                  0.3|        14.3|           2|        1|                   0|\n",
      "|       2|2019-10-01 09:02:55|2019-10-01 09:13:11|                 10.3|                 n|         1|         130|         121|              3|         3.42|         12|    0|    0.5|         0|           0|                  0.3|        12.8|           2|        1|                   0|\n",
      "|       2|2019-10-01 09:11:43|2019-10-01 09:20:16|                  8.6|                 n|         1|          97|          66|              1|         1.38|        7.5|    0|    0.5|         0|           0|                  0.3|         8.3|           2|        1|                   0|\n",
      "|       2|2019-10-01 09:47:35|2019-10-01 09:53:32|                  6.0|                 n|         1|          92|         173|              2|         1.62|          7|    0|    0.5|         0|           0|                  0.3|         7.8|           2|        1|                   0|\n",
      "|       2|2019-10-01 09:08:28|2019-10-01 09:09:06|                  0.6|                 n|         5|         212|         212|              2|          .15|          8|    0|      0|         0|           0|                    0|           8|           2|        2|                   0|\n",
      "|       2|2019-10-01 09:10:25|2019-10-01 09:23:04|                 12.7|                 n|         1|          74|          75|              2|         1.08|        9.5|    0|    0.5|         0|           0|                  0.3|        10.3|           2|        1|                   0|\n",
      "+--------+-------------------+-------------------+---------------------+------------------+----------+------------+------------+---------------+-------------+-----------+-----+-------+----------+------------+---------------------+------------+------------+---------+--------------------+\n",
      "only showing top 20 rows\n",
      "\n"
     ]
    }
   ],
   "source": [
    "# Assuming you have a DataFrame named merged_cleaned_df\n",
    "filtered_df.createOrReplaceTempView(\"my_temp_viewGold\")\n",
    "\n",
    "# Now you can use SQL queries on the temporary view\n",
    "spark.sql(\"SELECT * FROM my_temp_viewGold\").show()"
   ]
  },
  {
   "cell_type": "code",
   "execution_count": null,
   "metadata": {
    "application/vnd.databricks.v1+cell": {
     "cellMetadata": {
      "byteLimit": 2048000,
      "rowLimit": 10000
     },
     "inputWidgets": {},
     "nuid": "1324f7d3-4969-4f82-9a9d-468343772205",
     "showTitle": false,
     "title": ""
    }
   },
   "outputs": [
    {
     "name": "stdout",
     "output_type": "stream",
     "text": [
      "Out[38]: DataFrame[vendorid: string, pickup_datetime: string, dropoff_datetime: string, trip_duration_minutes: double, store_and_fwd_flag: string, ratecodeid: string, pulocationid: string, dolocationid: string, passenger_count: string, trip_distance: string, fare_amount: string, extra: string, mta_tax: string, tip_amount: string, tolls_amount: string, improvement_surcharge: string, total_amount: string, payment_type: string, trip_type: string, congestion_surcharge: string]"
     ]
    }
   ],
   "source": [
    "spark.sql(\"SELECT * FROM my_temp_viewGold\")"
   ]
  },
  {
   "cell_type": "code",
   "execution_count": null,
   "metadata": {
    "application/vnd.databricks.v1+cell": {
     "cellMetadata": {
      "byteLimit": 2048000,
      "rowLimit": 10000
     },
     "inputWidgets": {},
     "nuid": "5185d635-e92e-4576-a2dc-5f90aa6c8ade",
     "showTitle": false,
     "title": ""
    }
   },
   "outputs": [
    {
     "name": "stdout",
     "output_type": "stream",
     "text": [
      "Out[32]: DataFrame[vendorid: string, pickup_datetime: string, dropoff_datetime: string, trip_duration_minutes: double, store_and_fwd_flag: string, ratecodeid: string, pulocationid: string, dolocationid: string, passenger_count: string, trip_distance: string, fare_amount: string, extra: string, mta_tax: string, tip_amount: string, tolls_amount: string, improvement_surcharge: string, total_amount: string, payment_type: string, trip_type: string, congestion_surcharge: string]"
     ]
    }
   ],
   "source": [
    "from delta import DeltaTable\n",
    "\n",
    "spark.sql(\"SELECT * FROM my_temp_viewGold\")\n",
    "\n",
    "# Create a Delta table using CTAS\n",
    "spark.sql('''\n",
    "    CREATE TABLE gold_green_trip_data\n",
    "    USING delta\n",
    "    AS\n",
    "    SELECT *\n",
    "    FROM my_temp_viewGold\n",
    "''')\n",
    "\n",
    "\n"
   ]
  },
  {
   "cell_type": "code",
   "execution_count": null,
   "metadata": {
    "application/vnd.databricks.v1+cell": {
     "cellMetadata": {
      "byteLimit": 2048000,
      "rowLimit": 10000
     },
     "inputWidgets": {},
     "nuid": "fab0f691-84eb-495c-8707-7b98bef0c9eb",
     "showTitle": false,
     "title": ""
    }
   },
   "outputs": [
    {
     "name": "stdout",
     "output_type": "stream",
     "text": [
      "Out[34]: DataFrame[vendorid: string, pickup_datetime: string, dropoff_datetime: string, trip_duration_minutes: double, store_and_fwd_flag: string, ratecodeid: string, pulocationid: string, dolocationid: string, passenger_count: string, trip_distance: string, fare_amount: string, extra: string, mta_tax: string, tip_amount: string, tolls_amount: string, improvement_surcharge: string, total_amount: string, payment_type: string, trip_type: string, congestion_surcharge: string]"
     ]
    }
   ],
   "source": [
    "spark.sql('''SELECT *\n",
    "    FROM gold_green_trip_data''')"
   ]
  },
  {
   "cell_type": "code",
   "execution_count": null,
   "metadata": {
    "application/vnd.databricks.v1+cell": {
     "cellMetadata": {
      "byteLimit": 2048000,
      "rowLimit": 10000
     },
     "inputWidgets": {},
     "nuid": "10fb245b-2dc6-47c8-9250-a7f3fcdf25ba",
     "showTitle": false,
     "title": ""
    }
   },
   "outputs": [
    {
     "name": "stdout",
     "output_type": "stream",
     "text": [
      "+--------+-------------------+-------------------+---------------------+------------------+----------+------------+------------+---------------+-------------+-----------+-----+-------+----------+------------+---------------------+------------+------------+---------+--------------------+\n",
      "|vendorid|    pickup_datetime|   dropoff_datetime|trip_duration_minutes|store_and_fwd_flag|ratecodeid|pulocationid|dolocationid|passenger_count|trip_distance|fare_amount|extra|mta_tax|tip_amount|tolls_amount|improvement_surcharge|total_amount|payment_type|trip_type|congestion_surcharge|\n",
      "+--------+-------------------+-------------------+---------------------+------------------+----------+------------+------------+---------------+-------------+-----------+-----+-------+----------+------------+---------------------+------------+------------+---------+--------------------+\n",
      "|       2|2019-10-01 00:00:48|2019-10-01 00:05:42|                  4.9|                 n|         1|         210|         108|              2|         1.03|          6|  0.5|    0.5|      2.19|           0|                  0.3|        9.49|           1|        1|                   0|\n",
      "|       2|2019-10-01 05:39:45|2019-10-01 05:49:55|                 10.2|                 n|         1|         116|         238|              1|         3.47|       12.5|  0.5|    0.5|      3.31|           0|                  0.3|       19.86|           1|        1|                2.75|\n",
      "|       2|2019-10-01 07:55:40|2019-10-01 08:11:43|                 16.1|                 n|         1|         145|         237|              1|         3.23|         14|    0|    0.5|      3.51|           0|                  0.3|       23.01|           1|        1|                2.75|\n",
      "|       2|2019-10-01 07:35:32|2019-10-01 07:41:23|                  5.9|                 n|         1|         244|         243|              1|         1.16|        6.5|    0|    0.5|         0|           0|                  0.3|         7.3|           2|        1|                   0|\n",
      "|       2|2019-10-01 07:21:39|2019-10-01 07:35:52|                 14.2|                 n|         1|          75|         239|              1|         2.32|       11.5|    0|    0.5|      3.01|           0|                  0.3|       18.06|           1|        1|                2.75|\n",
      "|       1|2019-10-01 08:49:15|2019-10-01 08:54:47|                  5.5|                 n|         1|          42|         152|              4|         1.10|          6|    0|    0.5|         0|           0|                  0.3|         6.8|           2|        1|                   0|\n",
      "|       2|2019-10-01 08:43:57|2019-10-01 08:52:54|                  9.0|                 n|         1|         129|          82|              1|         1.50|          8|    0|    0.5|         1|           0|                  0.3|         9.8|           1|        1|                   0|\n",
      "|       2|2019-10-01 08:50:53|2019-10-01 09:08:52|                 18.0|                 n|         1|         134|          92|              1|         4.41|         17|    0|    0.5|         0|           0|                  0.3|        17.8|           2|        1|                   0|\n",
      "|       2|2019-10-01 08:52:35|2019-10-01 09:01:39|                  9.1|                 n|         1|          75|         263|              1|          .69|          7|    0|    0.5|         1|           0|                  0.3|       11.55|           1|        1|                2.75|\n",
      "|       2|2019-10-01 08:05:22|2019-10-01 08:05:23|                  0.0|                 n|         5|         264|         264|              0|          .10|         10|    0|      0|         2|           0|                    0|          12|           1|        2|                   0|\n",
      "|       2|2019-10-01 08:55:58|2019-10-01 08:57:48|                  1.8|                 n|         1|          75|          74|              1|          .68|          4|    0|    0.5|         0|           0|                  0.3|         4.8|           1|        1|                   0|\n",
      "|       2|2019-10-01 08:41:24|2019-10-01 09:16:26|                 35.0|                 n|         1|         189|         237|              1|         9.02|       31.5|    0|    0.5|         0|           0|                  0.3|       35.05|           2|        1|                2.75|\n",
      "|       2|2019-10-01 08:32:07|2019-10-01 08:42:17|                 10.2|                 n|         1|         130|         130|              1|         1.33|        8.5|    0|    0.5|      1.86|           0|                  0.3|       11.16|           1|        1|                   0|\n",
      "|       2|2019-10-01 10:06:13|2019-10-01 10:14:35|                  8.4|                 n|         1|         159|          42|              1|          .92|        7.5|    0|    0.5|         0|           0|                  0.3|         8.3|           1|        1|                   0|\n",
      "|       2|2019-10-01 09:46:12|2019-10-01 10:01:39|                 15.5|                 n|         1|          75|         159|              1|         3.41|       13.5|    0|    0.5|         0|           0|                  0.3|        14.3|           2|        1|                   0|\n",
      "|       2|2019-10-01 09:02:55|2019-10-01 09:13:11|                 10.3|                 n|         1|         130|         121|              3|         3.42|         12|    0|    0.5|         0|           0|                  0.3|        12.8|           2|        1|                   0|\n",
      "|       2|2019-10-01 09:11:43|2019-10-01 09:20:16|                  8.6|                 n|         1|          97|          66|              1|         1.38|        7.5|    0|    0.5|         0|           0|                  0.3|         8.3|           2|        1|                   0|\n",
      "|       2|2019-10-01 09:47:35|2019-10-01 09:53:32|                  6.0|                 n|         1|          92|         173|              2|         1.62|          7|    0|    0.5|         0|           0|                  0.3|         7.8|           2|        1|                   0|\n",
      "|       2|2019-10-01 09:08:28|2019-10-01 09:09:06|                  0.6|                 n|         5|         212|         212|              2|          .15|          8|    0|      0|         0|           0|                    0|           8|           2|        2|                   0|\n",
      "|       2|2019-10-01 09:10:25|2019-10-01 09:23:04|                 12.7|                 n|         1|          74|          75|              2|         1.08|        9.5|    0|    0.5|         0|           0|                  0.3|        10.3|           2|        1|                   0|\n",
      "|       2|2019-10-01 10:59:02|2019-10-01 11:30:36|                 31.6|                 n|         1|         193|         252|              1|         8.63|       31.5|    0|    0.5|         0|           0|                  0.3|        32.3|           1|        1|                   0|\n",
      "|       2|2019-10-01 10:18:25|2019-10-01 10:30:17|                 11.9|                 n|         1|          33|         231|              1|         2.43|         11|    0|    0.5|      3.64|           0|                  0.3|       18.19|           1|        1|                2.75|\n",
      "|       2|2019-10-01 10:20:19|2019-10-01 10:37:26|                 17.1|                 n|         1|         130|         203|              1|         7.48|         23|    0|    0.5|         3|           0|                  0.3|        26.8|           1|        1|                   0|\n",
      "|       2|2019-10-01 11:24:23|2019-10-01 11:42:01|                 17.6|                 n|         1|          52|          49|              1|         2.69|       13.5|    0|    0.5|      2.86|           0|                  0.3|       17.16|           1|        1|                   0|\n",
      "|       2|2019-10-01 11:20:10|2019-10-01 11:22:40|                  2.5|                 n|         1|           7|           7|              1|          .42|          4|    0|    0.5|         0|           0|                  0.3|         4.8|           2|        1|                   0|\n",
      "|       1|2019-10-01 11:41:21|2019-10-01 11:46:49|                  5.5|                 n|         1|         260|         157|              2|          .90|        5.5|    0|    0.5|         0|           0|                  0.3|         6.3|           2|        1|                   0|\n",
      "|       1|2019-10-01 12:24:47|2019-10-01 12:49:44|                 25.0|                 n|         1|          33|          17|              1|         3.10|         17|    0|    0.5|         0|           0|                  0.3|        17.8|           1|        1|                   0|\n",
      "|       2|2019-10-01 12:38:35|2019-10-01 12:49:19|                 10.7|                 n|         1|         244|          42|              1|         2.57|       10.5|    0|    0.5|         0|           0|                  0.3|        11.3|           2|        1|                   0|\n",
      "|       1|2019-10-01 13:32:29|2019-10-01 13:50:06|                 17.6|                 n|         1|          52|          61|              1|         2.50|       12.5|    0|    0.5|         0|           0|                  0.3|        13.3|           2|        1|                   0|\n",
      "|       2|2019-10-01 13:02:12|2019-10-01 13:08:21|                  6.2|                 n|         1|          74|          74|              1|          .68|          6|    0|    0.5|      1.36|           0|                  0.3|        8.16|           1|        1|                   0|\n",
      "|       2|2019-10-01 13:39:26|2019-10-01 13:43:28|                  4.0|                 n|         1|          75|          74|              1|          .82|          5|    0|    0.5|         0|           0|                  0.3|         5.8|           2|        1|                   0|\n",
      "|       2|2019-10-01 13:35:52|2019-10-01 13:48:10|                 12.3|                 n|         1|         181|          62|              1|         2.03|         10|    0|    0.5|         0|           0|                  0.3|        10.8|           2|        1|                   0|\n",
      "|       2|2019-10-01 14:15:43|2019-10-01 14:30:22|                 14.7|                 n|         1|          82|         196|              1|         1.78|       10.5|    0|    0.5|         0|           0|                  0.3|        11.3|           2|        1|                   0|\n",
      "|       2|2019-10-01 14:31:31|2019-10-01 14:36:10|                  4.7|                 n|         1|          75|          75|              1|          .62|          5|    0|    0.5|         0|           0|                  0.3|         5.8|           2|        1|                   0|\n",
      "|       1|2019-10-01 15:10:59|2019-10-01 15:47:55|                 36.9|                 n|         1|         227|         198|              1|          .00|       30.2|    0|    0.5|         0|           0|                  0.3|          31|           1|        1|                   0|\n",
      "|       2|2019-10-01 15:08:44|2019-10-01 15:15:56|                  7.2|                 n|         5|          37|          37|              1|          .11|      17.57|    0|    0.5|         0|           0|                    0|       18.07|           2|        2|                   0|\n",
      "|       2|2019-10-01 15:40:24|2019-10-01 16:40:32|                 60.1|                 n|         1|          92|          89|              1|        20.17|         59|    0|    0.5|         0|           0|                  0.3|        59.8|           1|        1|                   0|\n",
      "|       2|2019-10-01 15:34:15|2019-10-01 15:43:27|                  9.2|                 n|         1|          95|         102|              1|         1.94|        8.5|    0|    0.5|         0|           0|                  0.3|         9.3|           2|        1|                   0|\n",
      "|       1|2019-10-01 16:06:07|2019-10-01 16:15:46|                  9.7|                 n|         1|          41|         152|              1|         1.70|        8.5|    1|    0.5|         0|           0|                  0.3|        10.3|           2|        1|                   0|\n",
      "|       2|2019-10-01 16:45:16|2019-10-01 16:55:02|                  9.8|                 n|         1|          33|          45|              1|         2.05|        9.5|    1|    0.5|         0|           0|                  0.3|       14.05|           2|        1|                2.75|\n",
      "|       2|2019-10-01 16:14:35|2019-10-01 16:32:34|                 18.0|                 n|         1|          17|          25|              1|         2.16|         13|    1|    0.5|         0|           0|                  0.3|        14.8|           1|        1|                   0|\n",
      "|       1|2019-10-01 16:23:11|2019-10-01 17:17:11|                 54.0|                 n|         1|          95|          85|              1|          .00|       28.2|    0|    0.5|         0|           0|                  0.3|          29|           1|        1|                   0|\n",
      "|       2|2019-10-01 16:25:50|2019-10-01 17:15:27|                 49.6|                 n|         1|          76|         156|              1|        23.58|         66|    1|    0.5|         0|       12.24|                  0.3|       80.04|           1|        1|                   0|\n",
      "|       2|2019-10-01 17:41:42|2019-10-01 17:58:20|                 16.6|                 n|         1|          82|         129|              1|         1.87|         12|    1|    0.5|         0|           0|                  0.3|        13.8|           2|        1|                   0|\n",
      "|       2|2019-10-01 17:16:43|2019-10-01 18:08:30|                 51.8|                 n|         1|          65|         210|              1|        15.25|       49.5|    1|    0.5|         0|           0|                  0.3|        51.3|           1|        1|                   0|\n",
      "|       2|2019-10-01 17:43:45|2019-10-01 17:51:50|                  8.1|                 n|         1|          41|          74|              1|         1.44|        7.5|    1|    0.5|         0|           0|                  0.3|         9.3|           1|        1|                   0|\n",
      "|       2|2019-10-01 18:33:58|2019-10-01 18:40:00|                  6.0|                 n|         1|         210|         210|              1|          .93|          6|    1|    0.5|         0|           0|                  0.3|         7.8|           2|        1|                   0|\n",
      "|       2|2019-10-01 18:32:52|2019-10-01 18:41:33|                  8.7|                 n|         1|          82|         138|              1|         3.18|         12|    1|    0.5|      2.76|           0|                  0.3|       16.56|           1|        1|                   0|\n",
      "|       2|2019-10-01 18:52:23|2019-10-01 18:59:50|                  7.5|                 n|         1|         260|          83|              1|          .84|        6.5|    1|    0.5|         0|           0|                  0.3|         8.3|           2|        1|                   0|\n",
      "|       2|2019-10-01 18:19:23|2019-10-01 18:25:39|                  6.3|                 n|         1|         181|          49|              1|         1.26|        6.5|    1|    0.5|      2.49|           0|                  0.3|       10.79|           1|        1|                   0|\n",
      "|       2|2019-10-01 18:38:23|2019-10-01 18:53:48|                 15.4|                 n|         1|          92|           7|              1|         5.39|         18|    1|    0.5|         0|           0|                  0.3|        19.8|           2|        1|                   0|\n",
      "|       2|2019-10-01 18:59:06|2019-10-01 19:03:13|                  4.1|                 n|         1|         134|          28|              1|          .92|        5.5|    1|    0.5|         0|           0|                  0.3|         7.3|           2|        1|                   0|\n",
      "|       1|2019-10-01 18:13:41|2019-10-01 18:20:20|                  6.7|                 n|         1|          74|          42|              1|          .80|        6.5|    1|    0.5|         0|           0|                  0.3|         8.3|           1|        1|                   0|\n",
      "|       2|2019-10-01 18:35:29|2019-10-01 18:39:37|                  4.1|                 n|         1|          42|         168|              1|          .74|          5|    1|    0.5|         0|           0|                  0.3|         6.8|           2|        1|                   0|\n",
      "|       2|2019-10-01 18:32:49|2019-10-01 18:36:02|                  3.2|                 n|         1|           7|           7|              1|          .54|        4.5|    1|    0.5|         0|           0|                  0.3|         6.3|           2|        1|                   0|\n",
      "|       2|2019-10-01 18:28:33|2019-10-01 18:37:17|                  8.7|                 n|         1|         166|          75|              1|         1.33|        7.5|    1|    0.5|      1.25|           0|                  0.3|       10.55|           1|        1|                   0|\n",
      "|       2|2019-10-01 18:02:26|2019-10-01 18:05:51|                  3.4|                 n|         1|          65|          40|              1|          .88|        4.5|    1|    0.5|      1.89|           0|                  0.3|        8.19|           1|        1|                   0|\n",
      "|       1|2019-10-01 19:56:06|2019-10-01 20:14:20|                 18.2|                 n|         1|         244|         142|              2|         6.00|         20| 3.25|    0.5|         2|           0|                  0.3|       26.05|           1|        1|                2.75|\n",
      "|       2|2019-10-01 19:52:09|2019-10-01 20:00:25|                  8.3|                 n|         1|          97|         106|              1|         1.08|          7|    1|    0.5|         0|           0|                  0.3|         8.8|           2|        1|                   0|\n",
      "|       1|2019-10-01 19:53:30|2019-10-01 20:55:53|                 62.4|                 n|         1|         166|          91|              1|          .00|       40.2|    0|    0.5|         0|           0|                  0.3|          41|           1|        1|                   0|\n",
      "|       2|2019-10-01 19:50:26|2019-10-01 20:08:10|                 17.7|                 n|         1|          65|         188|              1|         3.83|       14.5|    1|    0.5|         0|           0|                  0.3|        16.3|           2|        1|                   0|\n",
      "|       2|2019-10-01 19:05:07|2019-10-01 19:10:15|                  5.1|                 n|         1|         146|         179|              1|         1.40|          6|    1|    0.5|         1|           0|                  0.3|         8.8|           1|        1|                   0|\n",
      "|       2|2019-10-01 20:42:25|2019-10-01 20:49:44|                  7.3|                 n|         1|          33|         195|              1|         1.86|          8|  0.5|    0.5|      1.86|           0|                  0.3|       11.16|           1|        1|                   0|\n",
      "|       2|2019-10-01 20:24:57|2019-10-01 20:37:19|                 12.4|                 n|         1|          74|         179|              1|         3.95|       13.5|  0.5|    0.5|      5.23|        6.12|                  0.3|       26.15|           1|        1|                   0|\n",
      "|       1|2019-10-01 20:30:33|2019-10-01 20:42:26|                 11.9|                 n|         1|          74|         152|              1|         1.70|          9|  0.5|    0.5|      2.05|           0|                  0.3|       12.35|           1|        1|                   0|\n",
      "|       2|2019-10-01 21:56:30|2019-10-01 22:09:26|                 12.9|                 n|         1|          92|         135|              1|         3.27|         12|  0.5|    0.5|      2.66|           0|                  0.3|       15.96|           1|        1|                   0|\n",
      "|       2|2019-10-01 21:12:54|2019-10-01 21:19:34|                  6.7|                 n|         1|          61|          61|              2|         1.12|        6.5|  0.5|    0.5|         0|           0|                  0.3|         7.8|           2|        1|                   0|\n",
      "|       2|2019-10-01 21:01:51|2019-10-01 21:36:45|                 34.9|                 n|         1|          97|          91|              1|         6.37|         25|  0.5|    0.5|         0|           0|                  0.3|        26.3|           2|        1|                   0|\n",
      "|       2|2019-10-01 23:00:08|2019-10-01 23:05:35|                  5.5|                 n|         1|         226|         226|              1|          .78|          5|  0.5|    0.5|      1.26|           0|                  0.3|        7.56|           1|        1|                   0|\n",
      "|       2|2019-10-01 22:26:28|2019-10-01 22:31:31|                  5.1|                 n|         1|         134|          28|              1|         1.30|        6.5|  0.5|    0.5|         0|           0|                  0.3|         7.8|           2|        1|                   0|\n",
      "|       1|2019-10-01 22:34:44|2019-10-01 22:34:47|                  0.1|                 n|         1|         173|         173|              1|          .00|        2.5|  0.5|    0.5|         0|           0|                  0.3|         3.8|           3|        1|                   0|\n",
      "|       2|2019-10-01 22:56:12|2019-10-01 23:12:01|                 15.8|                 n|         1|         124|         197|              1|         4.14|       15.5|  0.5|    0.5|         0|           0|                  0.3|        16.8|           2|        1|                   0|\n",
      "|       2|2019-10-01 23:08:03|2019-10-01 23:18:45|                 10.7|                 n|         1|          82|         223|              1|         2.88|       11.5|  0.5|    0.5|         1|           0|                  0.3|        13.8|           1|        1|                   0|\n",
      "|       2|2019-10-01 23:31:00|2019-10-01 23:41:20|                 10.3|                 n|         1|         166|         244|              2|         2.12|        9.5|  0.5|    0.5|         0|           0|                  0.3|        10.8|           1|        1|                   0|\n",
      "|       1|2019-10-01 23:37:02|2019-10-01 23:44:40|                  7.6|                 n|         1|          95|         135|              2|         1.80|          8|  0.5|    0.5|       1.7|           0|                  0.3|          11|           1|        1|                   0|\n",
      "|       2|2019-10-01 23:07:55|2019-10-01 23:32:37|                 24.7|                 n|         1|          65|         226|              1|         6.32|         22|  0.5|    0.5|         0|           0|                  0.3|        23.3|           2|        1|                   0|\n",
      "|       2|2019-10-02 00:37:19|2019-10-02 00:39:25|                  2.1|                 n|         1|          69|         167|              2|          .31|        3.5|  0.5|    0.5|         0|           0|                  0.3|         4.8|           2|        1|                   0|\n",
      "|       2|2019-10-02 00:21:34|2019-10-02 00:24:14|                  2.7|                 n|         1|           7|           7|              3|          .48|        3.5|  0.5|    0.5|         0|           0|                  0.3|         4.8|           2|        1|                   0|\n",
      "|       2|2019-10-02 00:50:47|2019-10-02 00:55:02|                  4.3|                 n|         1|           7|           7|              1|          .83|          5|  0.5|    0.5|         0|           0|                  0.3|         6.3|           2|        1|                   0|\n",
      "|       2|2019-10-02 01:12:12|2019-10-02 01:17:21|                  5.2|                 n|         1|         179|         179|              1|          .94|        5.5|  0.5|    0.5|         0|           0|                  0.3|         6.8|           2|        1|                   0|\n",
      "|       1|2019-10-02 07:32:17|2019-10-02 07:55:48|                 23.5|                 n|         5|         182|          60|              1|         2.00|          8|    0|      0|         0|           0|                    0|           8|           2|        2|                   0|\n",
      "|       2|2019-10-02 08:02:04|2019-10-02 08:11:17|                  9.2|                 n|         1|         116|          42|              1|          .94|        7.5|    0|    0.5|         0|           0|                  0.3|         8.3|           2|        1|                   0|\n",
      "|       2|2019-10-02 07:31:05|2019-10-02 07:38:28|                  7.4|                 n|         1|          75|          74|              1|         1.25|        7.5|    0|    0.5|         0|           0|                  0.3|         8.3|           2|        1|                   0|\n",
      "|       2|2019-10-02 08:00:54|2019-10-02 08:11:37|                 10.7|                 n|         1|          41|         116|              1|         1.76|          9|    0|    0.5|         0|           0|                  0.3|         9.8|           1|        1|                   0|\n",
      "|       2|2019-10-02 07:57:07|2019-10-02 08:09:21|                 12.2|                 n|         1|          74|         166|              1|         1.55|        9.5|    0|    0.5|      2.06|           0|                  0.3|       12.36|           1|        1|                   0|\n",
      "|       2|2019-10-02 08:42:47|2019-10-02 08:48:33|                  5.8|                 n|         1|         145|         145|              2|          .79|        5.5|    0|    0.5|      1.26|           0|                  0.3|        7.56|           1|        1|                   0|\n",
      "|       2|2019-10-02 08:27:03|2019-10-02 08:42:29|                 15.4|                 n|         1|         260|         129|              1|         1.90|       11.5|    0|    0.5|         0|           0|                  0.3|        12.3|           2|        1|                   0|\n",
      "|       2|2019-10-02 08:42:06|2019-10-02 09:01:39|                 19.6|                 n|         1|          17|         188|              1|         2.90|         14|    0|    0.5|      2.96|           0|                  0.3|       17.76|           1|        1|                   0|\n",
      "|       2|2019-10-02 08:22:32|2019-10-02 08:35:24|                 12.9|                 n|         1|          52|         228|              1|         4.13|         14|    0|    0.5|      2.96|           0|                  0.3|       17.76|           1|        1|                   0|\n",
      "|       2|2019-10-02 08:01:16|2019-10-02 08:24:22|                 23.1|                 n|         1|          66|         162|              6|         6.79|         23|    0|    0.5|      5.31|           0|                  0.3|       31.86|           1|        1|                2.75|\n",
      "|       2|2019-10-02 08:04:00|2019-10-02 08:11:11|                  7.2|                 n|         1|           7|         226|              1|         1.31|          7|    0|    0.5|         0|           0|                  0.3|         7.8|           2|        1|                   0|\n",
      "|       1|2019-10-02 08:22:57|2019-10-02 08:30:55|                  8.0|                 n|         1|          56|         173|              1|         1.10|          7|    0|    0.5|         0|           0|                  0.3|         7.8|           2|        1|                   0|\n",
      "|       2|2019-10-02 09:13:10|2019-10-02 09:15:23|                  2.2|                 n|         1|          42|         116|              1|          .51|        3.5|    0|    0.5|      1.08|           0|                  0.3|        5.38|           1|        1|                   0|\n",
      "|       1|2019-10-02 09:00:34|2019-10-02 09:13:51|                 13.3|                 n|         1|          41|         166|              1|         1.40|         10|    0|    0.5|       2.2|           0|                  0.3|          13|           1|        1|                   0|\n",
      "|       2|2019-10-02 09:00:06|2019-10-02 09:20:44|                 20.6|                 n|         1|          74|         260|              1|         5.72|         21|    0|    0.5|      6.98|        6.12|                  0.3|        34.9|           1|        1|                   0|\n",
      "|       1|2019-10-02 09:01:08|2019-10-02 09:30:32|                 29.4|                 n|         1|         254|         242|              1|         4.90|         22|    0|    0.5|         0|           0|                  0.3|        22.8|           1|        1|                   0|\n",
      "|       2|2019-10-02 09:28:31|2019-10-02 09:47:12|                 18.7|                 n|         1|          41|          48|              1|         3.01|         14|    0|    0.5|      3.51|           0|                  0.3|       21.06|           1|        1|                2.75|\n",
      "|       1|2019-10-02 09:06:14|2019-10-02 10:07:08|                 60.9|                 n|         1|         247|          61|              1|          .00|       36.2|    0|    0.5|         0|        6.12|                  0.3|       43.12|           1|        1|                   0|\n",
      "|       2|2019-10-02 09:38:31|2019-10-02 09:46:36|                  8.1|                 n|         1|          74|          42|              1|         1.37|        7.5|    0|    0.5|         0|           0|                  0.3|         8.3|           2|        1|                   0|\n",
      "|       2|2019-10-02 09:33:24|2019-10-02 09:48:23|                 15.0|                 n|         5|         182|          60|              1|         1.81|          9|    0|      0|         0|           0|                    0|           9|           2|        2|                   0|\n",
      "+--------+-------------------+-------------------+---------------------+------------------+----------+------------+------------+---------------+-------------+-----------+-----+-------+----------+------------+---------------------+------------+------------+---------+--------------------+\n",
      "only showing top 100 rows\n",
      "\n"
     ]
    }
   ],
   "source": [
    "table_name_gold = \"gold_green_trip_data\"\n",
    "delta_table_gold = spark.table(table_name_gold)\n",
    "\n",
    "# Show the contents of the Delta table\n",
    "delta_table_gold.show(100)"
   ]
  },
  {
   "cell_type": "code",
   "execution_count": null,
   "metadata": {
    "application/vnd.databricks.v1+cell": {
     "cellMetadata": {},
     "inputWidgets": {},
     "nuid": "21a706ba-a9dd-4a48-8326-398288eb5d6e",
     "showTitle": false,
     "title": ""
    }
   },
   "outputs": [],
   "source": []
  }
 ],
 "metadata": {
  "application/vnd.databricks.v1+notebook": {
   "dashboards": [],
   "language": "python",
   "notebookMetadata": {
    "pythonIndentUnit": 4
   },
   "notebookName": "Untitled Notebook 2023-08-08 14:06:16",
   "widgets": {}
  },
  "language_info": {
   "name": "python"
  }
 },
 "nbformat": 4,
 "nbformat_minor": 0
}
